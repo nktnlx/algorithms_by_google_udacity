{
 "cells": [
  {
   "cell_type": "markdown",
   "id": "1bd033e2-38eb-4d9d-83b5-3fe493446ae3",
   "metadata": {},
   "source": [
    "# Intro to Data Structures and Algorithms "
   ]
  },
  {
   "cell_type": "markdown",
   "id": "b8678bae-32c2-4dfd-b915-f6c6b22b9e26",
   "metadata": {
    "tags": []
   },
   "source": [
    "[course link](https://learn.udacity.com/courses/ud513)"
   ]
  },
  {
   "cell_type": "markdown",
   "id": "9ec91368-53c8-4317-bf12-e21995bfec83",
   "metadata": {},
   "source": [
    "## Lesson 1. Introduction and Efficiency"
   ]
  },
  {
   "cell_type": "markdown",
   "id": "0bf9b8d2-b9fa-41d3-a755-1783fb823734",
   "metadata": {},
   "source": [
    "### Course introduction"
   ]
  },
  {
   "cell_type": "markdown",
   "id": "1a353a24-732b-4d6f-9650-22f5a8c121b1",
   "metadata": {},
   "source": [
    "Algorithm - a program that solve a problem or just a series of steps that solve a problem. "
   ]
  },
  {
   "cell_type": "markdown",
   "id": "960e8e14-afd7-462e-8cb3-65f02c6d24e7",
   "metadata": {},
   "source": [
    "### Syntax"
   ]
  },
  {
   "cell_type": "markdown",
   "id": "5554d231-e1c6-4841-a573-51273956349e",
   "metadata": {},
   "source": [
    "#### Task 1. "
   ]
  },
  {
   "cell_type": "code",
   "execution_count": 3,
   "id": "4eddcbc1-6c5e-451f-80fd-ce519e033683",
   "metadata": {
    "tags": []
   },
   "outputs": [
    {
     "name": "stdout",
     "output_type": "stream",
     "text": [
      "0\n",
      "2\n",
      "11\n",
      "15\n"
     ]
    }
   ],
   "source": [
    "\"\"\"You can use this class to represent how classy someone\n",
    "or something is.\n",
    "\"Classy\" is interchangable with \"fancy\".\n",
    "If you add fancy-looking items, you will increase\n",
    "your \"classiness\".\n",
    "Create a function in \"Classy\" that takes a string as\n",
    "input and adds it to the \"items\" list.\n",
    "Another method should calculate the \"classiness\"\n",
    "value based on the items.\n",
    "The following items have classiness points associated\n",
    "with them:\n",
    "\"tophat\" = 2\n",
    "\"bowtie\" = 4\n",
    "\"monocle\" = 5\n",
    "Everything else has 0 points.\n",
    "Use the test cases below to guide you!\"\"\"\n",
    "\n",
    "class Classy(object):\n",
    "    def __init__(self):\n",
    "        self.items = []\n",
    "        \n",
    "    def addItem(self, s):\n",
    "        self.items.append(s)\n",
    "        \n",
    "    def getClassiness(self):\n",
    "        ans = 0\n",
    "        for item in self.items:\n",
    "            if item == 'tophat':\n",
    "                ans += 2\n",
    "            elif item == 'bowtie':\n",
    "                ans += 4\n",
    "            elif item == 'monocle':\n",
    "                ans += 5\n",
    "        return ans\n",
    "            \n",
    "        \n",
    "# Test cases\n",
    "me = Classy()\n",
    "\n",
    "# Should be 0\n",
    "print(me.getClassiness())\n",
    "\n",
    "me.addItem(\"tophat\")\n",
    "# Should be 2\n",
    "print(me.getClassiness())\n",
    "\n",
    "me.addItem(\"bowtie\")\n",
    "me.addItem(\"jacket\")\n",
    "me.addItem(\"monocle\")\n",
    "# Should be 11\n",
    "print(me.getClassiness())\n",
    "\n",
    "me.addItem(\"bowtie\")\n",
    "# Should be 15\n",
    "print(me.getClassiness())"
   ]
  },
  {
   "cell_type": "markdown",
   "id": "7f121fe2-8954-46f3-8138-162217175618",
   "metadata": {},
   "source": [
    "#### Task 2. "
   ]
  },
  {
   "cell_type": "code",
   "execution_count": 9,
   "id": "44141c01-7802-439d-ad03-e57aea806b52",
   "metadata": {
    "tags": []
   },
   "outputs": [
    {
     "name": "stdout",
     "output_type": "stream",
     "text": [
      "I am super excited for this course! I am super excited for this course! I am super excited for this course! I am super excited for this course! I am super excited for this course!\n"
     ]
    }
   ],
   "source": [
    "# Write a function called \"show_excitement\" where the string\n",
    "# \"I am super excited for this course!\" is returned exactly\n",
    "# 5 times, where each sentence is separated by a single space.\n",
    "# Return the string with \"return\".\n",
    "# You can only have the string once in your code.\n",
    "# Don't just copy/paste it 5 times into a single variable!\n",
    "\n",
    "\n",
    "def show_excitement(s, times):\n",
    "    # Your code goes here!\n",
    "    lst = [s]\n",
    "    return lst * times\n",
    "\n",
    "\n",
    "print(*show_excitement('I am super excited for this course!', 5))"
   ]
  },
  {
   "cell_type": "markdown",
   "id": "844f93c1-15fb-4fa2-8391-50c37e1a6587",
   "metadata": {},
   "source": [
    "### Efficiency"
   ]
  },
  {
   "cell_type": "markdown",
   "id": "0afe7770-7cd0-4625-a869-656cf5e96aa6",
   "metadata": {},
   "source": [
    "Efficiency - also called a complexity, is how well you are using your computer resources to get a particular job done.   \n",
    "\n",
    "You can think about it in terms of:\n",
    "- space (how much storage you need)\n",
    "- times (how much time it takes to run your code)\n"
   ]
  },
  {
   "cell_type": "markdown",
   "id": "12408310-ec53-4241-849b-8b9a4cb0c455",
   "metadata": {},
   "source": [
    "It could be a trade off between time efficiency and a space efficiency. "
   ]
  },
  {
   "cell_type": "markdown",
   "id": "03567d44-8912-4416-942a-3cbf74bb3eb7",
   "metadata": {},
   "source": [
    "### Notation"
   ]
  },
  {
   "cell_type": "markdown",
   "id": "6162b749-4fde-4f7e-8626-09647e419b8d",
   "metadata": {},
   "source": [
    "The most common notations:\n",
    "- O(1) - constant time\n",
    "- O(logN) - logarithmic time\n",
    "- O(N) - linear time\n",
    "- O(NlogN) - quasilinear time\n",
    "- O(N^2) - quadratic time\n",
    "- O(N^M) - polynomial time\n",
    "- O(2^N) - exponential time\n",
    "- O(N!) - factorial time"
   ]
  },
  {
   "cell_type": "markdown",
   "id": "8871c788-00a7-4102-8a9b-52d6713e7e09",
   "metadata": {},
   "source": [
    "More on time complexity: [here](https://en.wikipedia.org/wiki/Time_complexity#Table_of_common_time_complexities)"
   ]
  },
  {
   "cell_type": "markdown",
   "id": "4af626fa-2feb-42b5-8de5-21296ff45bb3",
   "metadata": {},
   "source": [
    "#### Task 3. "
   ]
  },
  {
   "cell_type": "code",
   "execution_count": 13,
   "id": "3cb6872f-fd32-47f4-8a33-ae6757491576",
   "metadata": {
    "tags": []
   },
   "outputs": [
    {
     "name": "stdout",
     "output_type": "stream",
     "text": [
      "Testing example1:\n",
      "Manny\n",
      "Mabel\n",
      "Martha\n",
      "Max\n",
      "\n",
      "Testing example2:\n",
      "Manny\n",
      "10\n",
      "\n",
      "Testing example3:\n",
      "name :  Manny\n",
      "age :  10\n",
      "weight :  500\n",
      "name :  Mabel\n",
      "age :  15\n",
      "weight :  600\n",
      "name :  Martha\n",
      "age :  5\n",
      "weight :  400\n",
      "name :  Max\n",
      "age :  20\n",
      "weight :  700\n",
      "\n",
      "Testing example4:\n",
      "Max\n"
     ]
    }
   ],
   "source": [
    "\"\"\"input manatees: a list of \"manatees\", where one manatee is represented by a dictionary\n",
    "a single manatee has properties like \"name\", \"age\", et cetera\n",
    "n = the number of elements in \"manatees\"\n",
    "m = the number of properties per \"manatee\" (i.e. the number of keys in a manatee dictionary)\"\"\"\n",
    "\n",
    "# O(n) - time complexity\n",
    "def example1(manatees):\n",
    "    for manatee in manatees:\n",
    "        print(manatee['name'])\n",
    "\n",
    "# O(1) - time complexity        \n",
    "def example2(manatees):\n",
    "    print(manatees[0]['name'])\n",
    "    print(manatees[0]['age'])\n",
    "\n",
    "# O(n*m) - time complexity\n",
    "def example3(manatees):\n",
    "    for manatee in manatees:\n",
    "        for manatee_property in manatee:\n",
    "            print(manatee_property, ': ', manatee[manatee_property])\n",
    "\n",
    "# O(n^2) - time complexity\n",
    "def example4(manatees):\n",
    "    oldest_manatee = 'No manatees here!'\n",
    "    for manatee1 in manatees:\n",
    "        for manatee2 in manatees:\n",
    "            if manatee1['age'] < manatee2['age']:\n",
    "                oldest_manatee = manatee2['name']\n",
    "            else:\n",
    "                oldest_manatee = manatee1['name']\n",
    "    print(oldest_manatee)\n",
    "    \n",
    "    \n",
    "# example list of manatees\n",
    "manatees = [\n",
    "    {'name': 'Manny', 'age': 10, 'weight': 500},\n",
    "    {'name': 'Mabel', 'age': 15, 'weight': 600},\n",
    "    {'name': 'Martha', 'age': 5, 'weight': 400},\n",
    "    {'name': 'Max', 'age': 20, 'weight': 700}\n",
    "]\n",
    "\n",
    "# test example1\n",
    "print('Testing example1:')\n",
    "example1(manatees) \n",
    "\n",
    "# test example2\n",
    "print('\\nTesting example2:')\n",
    "example2(manatees) \n",
    "\n",
    "# test example3\n",
    "print('\\nTesting example3:')\n",
    "example3(manatees)\n",
    "\n",
    "# test example4\n",
    "print('\\nTesting example4:')\n",
    "example4(manatees) "
   ]
  }
 ],
 "metadata": {
  "kernelspec": {
   "display_name": "Python 3 (ipykernel)",
   "language": "python",
   "name": "python3"
  },
  "language_info": {
   "codemirror_mode": {
    "name": "ipython",
    "version": 3
   },
   "file_extension": ".py",
   "mimetype": "text/x-python",
   "name": "python",
   "nbconvert_exporter": "python",
   "pygments_lexer": "ipython3",
   "version": "3.7.11"
  }
 },
 "nbformat": 4,
 "nbformat_minor": 5
}
