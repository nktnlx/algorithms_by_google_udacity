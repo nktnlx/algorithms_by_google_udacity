{
 "cells": [
  {
   "cell_type": "markdown",
   "id": "1bd033e2-38eb-4d9d-83b5-3fe493446ae3",
   "metadata": {},
   "source": [
    "# Intro to Data Structures and Algorithms "
   ]
  },
  {
   "cell_type": "markdown",
   "id": "b8678bae-32c2-4dfd-b915-f6c6b22b9e26",
   "metadata": {
    "tags": []
   },
   "source": [
    "[course link](https://learn.udacity.com/courses/ud513)"
   ]
  },
  {
   "cell_type": "markdown",
   "id": "9ec91368-53c8-4317-bf12-e21995bfec83",
   "metadata": {},
   "source": [
    "## Lesson 5. Trees"
   ]
  },
  {
   "cell_type": "markdown",
   "id": "0bf9b8d2-b9fa-41d3-a755-1783fb823734",
   "metadata": {},
   "source": [
    "### Trees"
   ]
  },
  {
   "cell_type": "markdown",
   "id": "2bb73527-3ab3-4f6d-8767-1b4204ac0aee",
   "metadata": {},
   "source": [
    "A tree starts from a place called a **root**.   \n",
    "You add data to it and form **branches**.   \n",
    "Trees have **leaves**.  \n",
    "A collection of trees is called a **forest**. "
   ]
  },
  {
   "cell_type": "markdown",
   "id": "34d4cdc1-9013-4d72-ab15-1aac3c8566aa",
   "metadata": {},
   "source": [
    "A tree is an extension of a linked list.  \n",
    "But instead of a link to only a one next element, a tree root and it childs can have several next elements and links to them.  "
   ]
  },
  {
   "cell_type": "markdown",
   "id": "573a667d-daba-4e06-9254-de1401f0d8dc",
   "metadata": {},
   "source": [
    "Each element of a tree has some data.   \n",
    "An individual element of a tree that contain values is often called a **node**.  "
   ]
  },
  {
   "cell_type": "markdown",
   "id": "0937d378-8a87-46d6-b8de-d8de7cc3c114",
   "metadata": {},
   "source": [
    "What we call a tree:\n",
    "- a tree must be completely connected (if we start from a root we can reach each element of a tree) \n",
    "- there must not be any cycles in a tree (a cycle occurs when there is a way for you to encounter the same node twice)"
   ]
  },
  {
   "cell_type": "markdown",
   "id": "f6c87901-6813-4bf4-8f5b-c71635398e63",
   "metadata": {},
   "source": [
    "You can describe a tree in terms of levels, or how many connections it takes to reach the root plus one.  \n",
    "The root is at level 1. And nodes directly connected to it are at level 2. "
   ]
  },
  {
   "cell_type": "markdown",
   "id": "9c060bb2-a7c3-4df9-b07f-b2bfff6b772d",
   "metadata": {},
   "source": [
    "Nodes in a tree are oftern described as having a parent-child relationship:\n",
    "- a node at a lower level is a **parent**\n",
    "- a node connected to it at a higher level is a **child**\n",
    "- a node in the middle can be both a parent and a child (it depends what it is being compared to)\n",
    "- any children is allowed to have only one parent \n",
    "- if a parent has multiple children, those children are considered **siblings** of each other\n",
    "- a node at a lower level can be called an **ancestor**\n",
    "- and a node at a higher level can be called a **descendant**\n",
    "- the nodes at the end that don't have any children are called **leaves** or **external nodes** and a parent node will be called an **internal node**. \n",
    "- you can call connections between nodes as **edges**\n",
    "- a group of connections taken together is called a **path**\n",
    "- a **height** of a node is the number of edges between it and the furthest leaf on the tree.\n",
    "- all leaves have height equal to zero. A parent of a leaf will have a hight of 1, etc. \n",
    "- the hight of a tree overall is just the height of the root node\n",
    "- the **depth** of a node is the number of edges to the root\n",
    "- hight and depth should move inversely"
   ]
  },
  {
   "cell_type": "markdown",
   "id": "2764ee10-04e9-4545-9cb6-71be119e8961",
   "metadata": {},
   "source": [
    "The are two different approaches to treat tree traversal:\n",
    "- depth first search (DFS)\n",
    "- breadth first search (BFS)"
   ]
  },
  {
   "cell_type": "markdown",
   "id": "fca1d359-a881-455e-83ec-4f65069dd655",
   "metadata": {},
   "source": [
    "In DFS the philosophy is if there are children nodes to explore, exploring them is definitely the priority.  \n",
    "\n",
    "In BFS the priority is visiting every node on the same level we are currently on before visiting child nodes. We start on the left most side of the level and move right. "
   ]
  },
  {
   "cell_type": "markdown",
   "id": "844f93c1-15fb-4fa2-8391-50c37e1a6587",
   "metadata": {},
   "source": [
    "### Depth-first Traversals"
   ]
  },
  {
   "cell_type": "markdown",
   "id": "de2f257c-f44a-46c5-a928-449a97f7511c",
   "metadata": {},
   "source": [
    "**Pre-order traversals** - check a node if you see it before you traverse any further in the tree:\n",
    "- we start with a root and check that we've seen it\n",
    "- next we move to one of its children (normally the left one) and check it off too\n",
    "- we would continue traversing down the left most nodes until we had a leaf\n",
    "- we check off the leaf and from there go back up to the parent\n",
    "- now we can traverse to the right child and check it off too\n",
    "- when we done with the left subtree we move back to the root and start doing the same with the right subtree (doing the same steps until we check off everything) "
   ]
  },
  {
   "cell_type": "markdown",
   "id": "391216d8-3f65-42a3-a0ef-8b1560f100a5",
   "metadata": {},
   "source": [
    "**Inorder traversals** - we are moving through the nodes in the same order since this is a DFS. However, this time we are going to check off nodes differently (we will only check of a node when we have seen its left child and come back to it):\n",
    "- we start with a root, but don't check it off immediately since we haven't seen its leftmost child yet\n",
    "- we traverse directly to the root's leftmost child\n",
    "- we check off the leaf and move up to the parent\n",
    "- now we can check of the parent as well because we've already seen the leftmost child\n",
    "- we move on to the right node which has no children so we can check it off too\n",
    "- now we go back up to the root, check it off and reapeat the same steps for the right subtree. "
   ]
  },
  {
   "cell_type": "markdown",
   "id": "68bb9248-6d85-4b2e-8042-fc09554da692",
   "metadata": {},
   "source": [
    "**Post-order traversals** - we won't be able to check off a node untill we've seen all of its descendants or until we visited both of its children and returned:\n",
    "- we begin at the root, don't check it off\n",
    "- continue down to the leftmost leaf\n",
    "- we check of the leftmost leaf and move to the parent\n",
    "- this time we don't check off the parent and move to the right node\n",
    "- we check ofd the right child \n",
    "- go back to the parent and now we can check it off as well\n",
    "- we'll skip over the root node and just move all the way down to the right\n",
    "- and repeat the same steps for the right subtree. "
   ]
  },
  {
   "cell_type": "markdown",
   "id": "03567d44-8912-4416-942a-3cbf74bb3eb7",
   "metadata": {},
   "source": [
    "### Search and Delete"
   ]
  },
  {
   "cell_type": "code",
   "execution_count": null,
   "id": "35924db9-1837-498d-a535-e9cbf244a90c",
   "metadata": {},
   "outputs": [],
   "source": []
  },
  {
   "cell_type": "code",
   "execution_count": null,
   "id": "3467c422-6dbd-4bf7-b581-380945f2193f",
   "metadata": {},
   "outputs": [],
   "source": []
  },
  {
   "cell_type": "code",
   "execution_count": null,
   "id": "861d452a-3122-4746-80a2-e2337b27273e",
   "metadata": {},
   "outputs": [],
   "source": []
  },
  {
   "cell_type": "code",
   "execution_count": null,
   "id": "b8811836-92c5-45fe-ae86-e0b007cef3e0",
   "metadata": {},
   "outputs": [],
   "source": []
  },
  {
   "cell_type": "code",
   "execution_count": null,
   "id": "208e2ecb-59f0-401a-8379-fc8dfc4921de",
   "metadata": {},
   "outputs": [],
   "source": []
  },
  {
   "cell_type": "markdown",
   "id": "6b5ae682-71ee-4173-bfbd-ea34565b31e7",
   "metadata": {},
   "source": [
    "### Insert"
   ]
  },
  {
   "cell_type": "code",
   "execution_count": null,
   "id": "7a9e9824-d0bb-4995-98fd-37f5811a21f7",
   "metadata": {},
   "outputs": [],
   "source": []
  },
  {
   "cell_type": "code",
   "execution_count": null,
   "id": "1ca7feac-1283-4410-9ce4-25138855fa49",
   "metadata": {},
   "outputs": [],
   "source": []
  },
  {
   "cell_type": "code",
   "execution_count": null,
   "id": "5effc8fc-c773-41af-962d-c1387769f8d3",
   "metadata": {},
   "outputs": [],
   "source": []
  },
  {
   "cell_type": "code",
   "execution_count": null,
   "id": "a712cbd3-a17e-4948-a3eb-af8627dcad64",
   "metadata": {},
   "outputs": [],
   "source": []
  },
  {
   "cell_type": "code",
   "execution_count": null,
   "id": "612c267f-55e9-4492-acc2-e2a61e1f9098",
   "metadata": {},
   "outputs": [],
   "source": []
  },
  {
   "cell_type": "markdown",
   "id": "a9e38a1b-f8a6-40f5-9b20-a3c6e5bf1ba1",
   "metadata": {},
   "source": [
    "### Binary Search Trees"
   ]
  },
  {
   "cell_type": "code",
   "execution_count": null,
   "id": "abcee2ac-63d6-4438-9a7c-c7d225d14741",
   "metadata": {},
   "outputs": [],
   "source": []
  },
  {
   "cell_type": "code",
   "execution_count": null,
   "id": "bfa1dbf5-0201-4580-bfeb-8b6b2df2adcd",
   "metadata": {},
   "outputs": [],
   "source": []
  },
  {
   "cell_type": "code",
   "execution_count": null,
   "id": "0d78260c-c5c3-4ca3-8c54-6249cbd00a4d",
   "metadata": {},
   "outputs": [],
   "source": []
  },
  {
   "cell_type": "code",
   "execution_count": null,
   "id": "63a23a22-4e4f-4ea5-a752-ab04e44293a5",
   "metadata": {},
   "outputs": [],
   "source": []
  },
  {
   "cell_type": "code",
   "execution_count": null,
   "id": "38f8b8df-a707-4e09-bdc7-595821c9d1b8",
   "metadata": {},
   "outputs": [],
   "source": []
  },
  {
   "cell_type": "markdown",
   "id": "5d83f228-21ec-4382-b022-5799d0cab201",
   "metadata": {},
   "source": [
    "### Heaps"
   ]
  },
  {
   "cell_type": "code",
   "execution_count": null,
   "id": "8c927fb8-8768-4c4d-bedc-e24b6ec41f8b",
   "metadata": {},
   "outputs": [],
   "source": []
  },
  {
   "cell_type": "code",
   "execution_count": null,
   "id": "8c98b464-1e79-45d0-81a6-a41a9b8d6d96",
   "metadata": {},
   "outputs": [],
   "source": []
  },
  {
   "cell_type": "code",
   "execution_count": null,
   "id": "be4456b3-1436-4ef1-adbb-b4a5efedce1d",
   "metadata": {},
   "outputs": [],
   "source": []
  },
  {
   "cell_type": "code",
   "execution_count": null,
   "id": "60f15c2a-ca89-4fa3-afe7-fc9e9723e119",
   "metadata": {},
   "outputs": [],
   "source": []
  },
  {
   "cell_type": "code",
   "execution_count": null,
   "id": "e8fa6707-b289-4c66-8404-69a1d41660f8",
   "metadata": {},
   "outputs": [],
   "source": []
  },
  {
   "cell_type": "markdown",
   "id": "51ede707-7f46-4bfe-a027-a7b67211e560",
   "metadata": {},
   "source": [
    "### Self-Balancing Trees"
   ]
  },
  {
   "cell_type": "code",
   "execution_count": null,
   "id": "d5ce3b85-54fa-4ef1-b475-d2472c7dca4a",
   "metadata": {},
   "outputs": [],
   "source": []
  },
  {
   "cell_type": "code",
   "execution_count": null,
   "id": "a71d1f8b-d879-402d-a6d8-b3a6e7a35767",
   "metadata": {},
   "outputs": [],
   "source": []
  },
  {
   "cell_type": "code",
   "execution_count": null,
   "id": "0e686d12-3962-4eca-ad7f-c7bd0ba00341",
   "metadata": {},
   "outputs": [],
   "source": []
  },
  {
   "cell_type": "code",
   "execution_count": null,
   "id": "f73abd41-8ba7-4be2-bc25-fda1183c9fe0",
   "metadata": {},
   "outputs": [],
   "source": []
  },
  {
   "cell_type": "code",
   "execution_count": null,
   "id": "f71e0e47-c218-462e-b635-e59edd063db5",
   "metadata": {},
   "outputs": [],
   "source": []
  },
  {
   "cell_type": "markdown",
   "id": "cbca851f-d001-4884-aef6-6e4634b98352",
   "metadata": {},
   "source": [
    "### Red-Black Trees - Insertion"
   ]
  },
  {
   "cell_type": "code",
   "execution_count": null,
   "id": "8f8ba6c0-6798-40b5-aeac-0387913ad5f5",
   "metadata": {},
   "outputs": [],
   "source": []
  },
  {
   "cell_type": "code",
   "execution_count": null,
   "id": "ee962902-1c30-4a97-ad98-021946def8dd",
   "metadata": {},
   "outputs": [],
   "source": []
  },
  {
   "cell_type": "code",
   "execution_count": null,
   "id": "ab70bec1-3411-4003-8581-b41bc94e20c6",
   "metadata": {},
   "outputs": [],
   "source": []
  },
  {
   "cell_type": "code",
   "execution_count": null,
   "id": "fd7e486f-dec8-4f49-9d5e-dd91185bed24",
   "metadata": {},
   "outputs": [],
   "source": []
  },
  {
   "cell_type": "code",
   "execution_count": null,
   "id": "41f27cf4-3eac-4a16-9840-7b34d94ea2eb",
   "metadata": {},
   "outputs": [],
   "source": []
  },
  {
   "cell_type": "markdown",
   "id": "43ed1a27-2575-40fc-b11d-9b94325d6121",
   "metadata": {},
   "source": [
    "### Tree Rotations"
   ]
  },
  {
   "cell_type": "code",
   "execution_count": null,
   "id": "fa09c7bd-7ba8-49c3-b6eb-39af613fa0a5",
   "metadata": {},
   "outputs": [],
   "source": []
  },
  {
   "cell_type": "code",
   "execution_count": null,
   "id": "a21a669d-1802-4cdb-98cd-94630946d454",
   "metadata": {},
   "outputs": [],
   "source": []
  },
  {
   "cell_type": "code",
   "execution_count": null,
   "id": "77d18509-6341-4657-8080-422a3d4c636b",
   "metadata": {},
   "outputs": [],
   "source": []
  },
  {
   "cell_type": "code",
   "execution_count": null,
   "id": "c5fcd9b2-7163-4f5f-ad1a-11467d8e4e5f",
   "metadata": {},
   "outputs": [],
   "source": []
  },
  {
   "cell_type": "code",
   "execution_count": null,
   "id": "9e828805-07ad-42e0-ae02-2b4d7f6e69a5",
   "metadata": {},
   "outputs": [],
   "source": []
  }
 ],
 "metadata": {
  "kernelspec": {
   "display_name": "Python 3 (ipykernel)",
   "language": "python",
   "name": "python3"
  },
  "language_info": {
   "codemirror_mode": {
    "name": "ipython",
    "version": 3
   },
   "file_extension": ".py",
   "mimetype": "text/x-python",
   "name": "python",
   "nbconvert_exporter": "python",
   "pygments_lexer": "ipython3",
   "version": "3.7.11"
  }
 },
 "nbformat": 4,
 "nbformat_minor": 5
}
