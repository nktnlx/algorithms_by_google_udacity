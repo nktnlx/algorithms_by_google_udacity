{
 "cells": [
  {
   "cell_type": "markdown",
   "id": "1bd033e2-38eb-4d9d-83b5-3fe493446ae3",
   "metadata": {},
   "source": [
    "# Intro to Data Structures and Algorithms "
   ]
  },
  {
   "cell_type": "markdown",
   "id": "b8678bae-32c2-4dfd-b915-f6c6b22b9e26",
   "metadata": {
    "tags": []
   },
   "source": [
    "[course link](https://learn.udacity.com/courses/ud513)"
   ]
  },
  {
   "cell_type": "markdown",
   "id": "9ec91368-53c8-4317-bf12-e21995bfec83",
   "metadata": {},
   "source": [
    "## Lesson 5. Trees"
   ]
  },
  {
   "cell_type": "markdown",
   "id": "0bf9b8d2-b9fa-41d3-a755-1783fb823734",
   "metadata": {},
   "source": [
    "### Trees"
   ]
  },
  {
   "cell_type": "markdown",
   "id": "2bb73527-3ab3-4f6d-8767-1b4204ac0aee",
   "metadata": {},
   "source": [
    "A tree starts from a place called a **root**.   \n",
    "You add data to it and form **branches**.   \n",
    "Trees have **leaves**.  \n",
    "A collection of trees is called a **forest**. "
   ]
  },
  {
   "cell_type": "markdown",
   "id": "34d4cdc1-9013-4d72-ab15-1aac3c8566aa",
   "metadata": {},
   "source": [
    "A tree is an extension of a linked list.  \n",
    "But instead of a link to only a one next element, a tree root and it childs can have several next elements and links to them.  "
   ]
  },
  {
   "cell_type": "markdown",
   "id": "573a667d-daba-4e06-9254-de1401f0d8dc",
   "metadata": {},
   "source": [
    "Each element of a tree has some data.   \n",
    "An individual element of a tree that contain values is often called a **node**.  "
   ]
  },
  {
   "cell_type": "markdown",
   "id": "0937d378-8a87-46d6-b8de-d8de7cc3c114",
   "metadata": {},
   "source": [
    "What we call a tree:\n",
    "- a tree must be completely connected (if we start from a root we can reach each element of a tree) \n",
    "- there must not be any cycles in a tree (a cycle occurs when there is a way for you to encounter the same node twice)"
   ]
  },
  {
   "cell_type": "markdown",
   "id": "f6c87901-6813-4bf4-8f5b-c71635398e63",
   "metadata": {},
   "source": [
    "You can describe a tree in terms of levels, or how many connections it takes to reach the root plus one.  \n",
    "The root is at level 1. And nodes directly connected to it are at level 2. "
   ]
  },
  {
   "cell_type": "markdown",
   "id": "9c060bb2-a7c3-4df9-b07f-b2bfff6b772d",
   "metadata": {},
   "source": [
    "Nodes in a tree are oftern described as having a parent-child relationship:\n",
    "- a node at a lower level is a **parent**\n",
    "- a node connected to it at a higher level is a **child**\n",
    "- a node in the middle can be both a parent and a child (it depends what it is being compared to)\n",
    "- any children is allowed to have only one parent \n",
    "- if a parent has multiple children, those children are considered **siblings** of each other\n",
    "- a node at a lower level can be called an **ancestor**\n",
    "- and a node at a higher level can be called a **descendant**\n",
    "- the nodes at the end that don't have any children are called **leaves** or **external nodes** and a parent node will be called an **internal node**. \n",
    "- you can call connections between nodes as **edges**\n",
    "- a group of connections taken together is called a **path**\n",
    "- a **height** of a node is the number of edges between it and the furthest leaf on the tree.\n",
    "- all leaves have height equal to zero. A parent of a leaf will have a hight of 1, etc. \n",
    "- the hight of a tree overall is just the height of the root node\n",
    "- the **depth** of a node is the number of edges to the root\n",
    "- hight and depth should move inversely"
   ]
  },
  {
   "cell_type": "markdown",
   "id": "2764ee10-04e9-4545-9cb6-71be119e8961",
   "metadata": {},
   "source": [
    "The are two different approaches to treat tree traversal:\n",
    "- depth first search (DFS)\n",
    "- breadth first search (BFS)"
   ]
  },
  {
   "cell_type": "markdown",
   "id": "fca1d359-a881-455e-83ec-4f65069dd655",
   "metadata": {},
   "source": [
    "In DFS the philosophy is if there are children nodes to explore, exploring them is definitely the priority.  \n",
    "\n",
    "In BFS the priority is visiting every node on the same level we are currently on before visiting child nodes. We start on the left most side of the level and move right. "
   ]
  },
  {
   "cell_type": "markdown",
   "id": "844f93c1-15fb-4fa2-8391-50c37e1a6587",
   "metadata": {},
   "source": [
    "### Depth-first Traversals"
   ]
  },
  {
   "cell_type": "markdown",
   "id": "de2f257c-f44a-46c5-a928-449a97f7511c",
   "metadata": {},
   "source": [
    "**Pre-order traversals** - check a node if you see it before you traverse any further in the tree:\n",
    "- we start with a root and check that we've seen it\n",
    "- next we move to one of its children (normally the left one) and check it off too\n",
    "- we would continue traversing down the left most nodes until we had a leaf\n",
    "- we check off the leaf and from there go back up to the parent\n",
    "- now we can traverse to the right child and check it off too\n",
    "- when we done with the left subtree we move back to the root and start doing the same with the right subtree (doing the same steps until we check off everything) "
   ]
  },
  {
   "cell_type": "markdown",
   "id": "391216d8-3f65-42a3-a0ef-8b1560f100a5",
   "metadata": {},
   "source": [
    "**Inorder traversals** - we are moving through the nodes in the same order since this is a DFS. However, this time we are going to check off nodes differently (we will only check of a node when we have seen its left child and come back to it):\n",
    "- we start with a root, but don't check it off immediately since we haven't seen its leftmost child yet\n",
    "- we traverse directly to the root's leftmost child\n",
    "- we check off the leaf and move up to the parent\n",
    "- now we can check of the parent as well because we've already seen the leftmost child\n",
    "- we move on to the right node which has no children so we can check it off too\n",
    "- now we go back up to the root, check it off and reapeat the same steps for the right subtree. "
   ]
  },
  {
   "cell_type": "markdown",
   "id": "68bb9248-6d85-4b2e-8042-fc09554da692",
   "metadata": {},
   "source": [
    "**Post-order traversals** - we won't be able to check off a node untill we've seen all of its descendants or until we visited both of its children and returned:\n",
    "- we begin at the root, don't check it off\n",
    "- continue down to the leftmost leaf\n",
    "- we check of the leftmost leaf and move to the parent\n",
    "- this time we don't check off the parent and move to the right node\n",
    "- we check ofd the right child \n",
    "- go back to the parent and now we can check it off as well\n",
    "- we'll skip over the root node and just move all the way down to the right\n",
    "- and repeat the same steps for the right subtree. "
   ]
  },
  {
   "cell_type": "markdown",
   "id": "03567d44-8912-4416-942a-3cbf74bb3eb7",
   "metadata": {},
   "source": [
    "### Search and Delete"
   ]
  },
  {
   "cell_type": "markdown",
   "id": "d01d1882-a68c-4598-9ebe-ce5688348a39",
   "metadata": {},
   "source": [
    "Nodes can have:\n",
    "- zero children\n",
    "- one child\n",
    "- two children"
   ]
  },
  {
   "cell_type": "markdown",
   "id": "d5dd51c2-aa48-40f0-ae38-3ac1d19d9bbc",
   "metadata": {},
   "source": [
    "We have to go through all elements of a tree when searching, so time complexity for searching operation in a tree will be O(n)."
   ]
  },
  {
   "cell_type": "markdown",
   "id": "3775e206-394e-494a-a03b-efa0257682b6",
   "metadata": {},
   "source": [
    "Delete:\n",
    "- if you delete a leaf, you can just delete it and move on\n",
    "- if you delete a node having only one child, you can delete it, take the child one level up and move on\n",
    "- if you delete a node having two children, you have two options:\n",
    "    - you can promote one of the childs one level up, but if those children also have two childrens you have to act differently: \n",
    "    - you traverse down to the tree until you hit a leaf. Here we don't have any order requirement, so you can just put the leaf where your deleted node was without a problem. "
   ]
  },
  {
   "cell_type": "markdown",
   "id": "d3cc1a6b-799f-4bcf-823a-10e9ef63019f",
   "metadata": {},
   "source": [
    "Delete opearation has also O(n) time complexity, since it involves search operation as well. "
   ]
  },
  {
   "cell_type": "markdown",
   "id": "6b5ae682-71ee-4173-bfbd-ea34565b31e7",
   "metadata": {},
   "source": [
    "### Insert"
   ]
  },
  {
   "cell_type": "markdown",
   "id": "e266e037-91d3-41e3-8503-fdfd3c3b56e3",
   "metadata": {},
   "source": [
    "Inserting an element to a tree when it has no order is particularly easy. We just:\n",
    "- move down from a root\n",
    "- and keep looking for an empty spot\n",
    "- keeping in mind that each parent can have two children at most. "
   ]
  },
  {
   "cell_type": "markdown",
   "id": "bdac59e3-5ad1-435d-9102-bd9c2844be4c",
   "metadata": {},
   "source": [
    "In general, for BSTs, the time complexity is O(h) where h is the height of BST.  \n",
    "And the worst case insert operation time complexity is O(n).  \n",
    "Balanced Trees, insertion has a worst-case time complexity of O(log2n)."
   ]
  },
  {
   "cell_type": "markdown",
   "id": "627ab00e-2a07-4a71-8c6f-450d123f0d87",
   "metadata": {},
   "source": [
    "#### Task 1."
   ]
  },
  {
   "cell_type": "code",
   "execution_count": 1,
   "id": "bfa1dbf5-0201-4580-bfeb-8b6b2df2adcd",
   "metadata": {
    "tags": []
   },
   "outputs": [
    {
     "name": "stdout",
     "output_type": "stream",
     "text": [
      "True\n",
      "False\n",
      "1-2-4-5-3\n"
     ]
    }
   ],
   "source": [
    "class Node(object):\n",
    "    def __init__(self, value):\n",
    "        self.value = value\n",
    "        self.left = None\n",
    "        self.right = None\n",
    "\n",
    "class BinaryTree(object):\n",
    "    def __init__(self, root):\n",
    "        self.root = Node(root)\n",
    "\n",
    "    def search(self, find_val):\n",
    "        \"\"\"Return True if the value is in the tree, return False otherwise.\"\"\"\n",
    "        # Use the helper method preorder_search to recursively search the tree\n",
    "        return self.preorder_search(self.root, find_val)\n",
    "\n",
    "    def print_tree(self):\n",
    "        \"\"\"Print out all tree nodes as they are visited in a pre-order traversal.\"\"\"\n",
    "        # Use the helper method preorder_print to recursively traverse and print the tree\n",
    "        return self.preorder_print(self.root, \"\")[:-1]\n",
    "\n",
    "    def preorder_search(self, start, find_val):\n",
    "        \"\"\"Helper method - use this to create a recursive search solution.\"\"\"\n",
    "        # Base case: if start is None or has the value we're searching for, return True\n",
    "        if start is None:\n",
    "            return False\n",
    "        elif start.value == find_val:\n",
    "            return True\n",
    "        # Recursively search the left and right subtrees\n",
    "        else:\n",
    "            return self.preorder_search(start.left, find_val) or self.preorder_search(start.right, find_val)\n",
    "\n",
    "    def preorder_print(self, start, traversal):\n",
    "        \"\"\"Helper method - use this to create a recursive print solution.\"\"\"\n",
    "        # Base case: if start is None, return the traversal string\n",
    "        if start is None:\n",
    "            return traversal\n",
    "        # Add the value of the current node to the traversal string, \n",
    "        # then recursively traverse the left and right subtrees\n",
    "        traversal += str(start.value) + \"-\"\n",
    "        traversal = self.preorder_print(start.left, traversal)\n",
    "        traversal = self.preorder_print(start.right, traversal)\n",
    "        return traversal\n",
    "\n",
    "\n",
    "# Set up tree\n",
    "tree = BinaryTree(1)\n",
    "tree.root.left = Node(2)\n",
    "tree.root.right = Node(3)\n",
    "tree.root.left.left = Node(4)\n",
    "tree.root.left.right = Node(5)\n",
    "\n",
    "# Test search\n",
    "# Should be True\n",
    "print(tree.search(4))\n",
    "# Should be False\n",
    "print(tree.search(6))\n",
    "\n",
    "# Test print_tree\n",
    "# Should be 1-2-4-5-3\n",
    "print(tree.print_tree())"
   ]
  },
  {
   "cell_type": "markdown",
   "id": "a9e38a1b-f8a6-40f5-9b20-a3c6e5bf1ba1",
   "metadata": {},
   "source": [
    "### Binary Search Trees (BST)"
   ]
  },
  {
   "cell_type": "markdown",
   "id": "8dffbe4b-a166-4499-9af2-99370d00a160",
   "metadata": {},
   "source": [
    "The general rule is that each parent has two children at most. "
   ]
  },
  {
   "cell_type": "markdown",
   "id": "10ea39fe-651d-49d3-a630-9f755a4d4016",
   "metadata": {},
   "source": [
    "Also there is an extra rule how the values associated with each node are arranged:\n",
    "- BST are sorted\n",
    "- so every value on the left of a particular node is smaller than it\n",
    "- and every value on the right of a particular node is larger than it. "
   ]
  },
  {
   "cell_type": "markdown",
   "id": "40ecaa03-9cd3-4c5d-9227-122763d4d961",
   "metadata": {},
   "source": [
    "The advantage of following all that rules is that now we can perform search, delete and insert operations pretty quickly. "
   ]
  },
  {
   "cell_type": "markdown",
   "id": "35e52842-7a1c-4066-a263-5883fee88316",
   "metadata": {},
   "source": [
    "When searching we don't have to look at each node for its value, we just have to look at one value in each level of the tree and then we can make a decision with just a comarison to an element.  \n",
    "That means, that the run time of a searhc on a BST is just the height of a tree, which is O(logN)."
   ]
  },
  {
   "cell_type": "markdown",
   "id": "37584364-cdad-42a7-8ead-cc9fd8768106",
   "metadata": {},
   "source": [
    "Inserting in a binary tree is pretty much the same process:\n",
    "- you start at the top\n",
    "- and you can make a quick decision about where to look at each step by comparing to the element you want to add\n",
    "- eventually you'll hit that open spot in the tree."
   ]
  },
  {
   "cell_type": "markdown",
   "id": "79f7c853-099b-4ba5-9d16-fa4f17753217",
   "metadata": {},
   "source": [
    "Deleting is a bit complicated, but it is complicated the same way as it was for a generic tree, so all the steps mentioned above could be applied. "
   ]
  },
  {
   "cell_type": "markdown",
   "id": "2333c5d4-1874-4a30-9494-34748fdbcd61",
   "metadata": {},
   "source": [
    "In a binary search tree (BST), deletion has a worst-case time complexity of O(n) where n is the number of nodes in the BST.  \n",
    "In general, for BSTs, the time complexity is O(h) where h is the height of BST."
   ]
  },
  {
   "cell_type": "markdown",
   "id": "7bc1bdbc-b7f2-4c07-8955-2dc4a89c51c4",
   "metadata": {},
   "source": [
    "An unbalanced binary search tree (BST) is a BST where the difference between the heights of its left and right subtrees can be greater than one. This can lead to a worst-case time complexity of O(n) for access operations such as search, insert, and delete. This is because an unbalanced tree built from sorted data is effectively the same as a linked list."
   ]
  },
  {
   "cell_type": "markdown",
   "id": "bebd1505-c21f-472f-bf99-16c4c9657648",
   "metadata": {},
   "source": [
    "The average-case time complexity for a search, delete and insert operations in an unbalanced binary search tree (BST) is difficult to determine because it depends on the shape of the tree. If the tree is relatively balanced, the average-case time complexity could be closer to O(log n) where n is the number of nodes in the BST. However, if the tree is highly unbalanced, the average-case time complexity could be closer to O(n)."
   ]
  },
  {
   "cell_type": "markdown",
   "id": "1064a96e-5575-4ec1-be5a-b5928d8c57dd",
   "metadata": {},
   "source": [
    "#### Task 2. "
   ]
  },
  {
   "cell_type": "code",
   "execution_count": 2,
   "id": "d2d48de3-e0b7-43ec-85d9-d1e3288a3e77",
   "metadata": {
    "tags": []
   },
   "outputs": [
    {
     "name": "stdout",
     "output_type": "stream",
     "text": [
      "True\n",
      "False\n"
     ]
    }
   ],
   "source": [
    "class Node(object):\n",
    "    def __init__(self, value):\n",
    "        self.value = value\n",
    "        self.left = None\n",
    "        self.right = None\n",
    "\n",
    "\n",
    "class BST(object):\n",
    "    def __init__(self, root):\n",
    "        # Initialize the root node\n",
    "        self.root = Node(root)\n",
    "\n",
    "    def insert(self, new_val):\n",
    "        # Call the recursive insert helper function\n",
    "        self.insert_helper(self.root, new_val)\n",
    "\n",
    "    # Recursive insert function - private\n",
    "    def insert_helper(self, current, new_val):\n",
    "        # If the new value is greater than the current node value, go right\n",
    "        if current.value < new_val:\n",
    "            # If there is a right child, call the insert helper function recursively\n",
    "            if current.right:\n",
    "                self.insert_helper(current.right, new_val)\n",
    "            # If there is no right child, create a new node and set it as the right child\n",
    "            else:\n",
    "                current.right = Node(new_val)\n",
    "        # If the new value is less than or equal to the current node value, go left\n",
    "        else:\n",
    "            # If there is a left child, call the insert helper function recursively\n",
    "            if current.left:\n",
    "                self.insert_helper(current.left, new_val)\n",
    "            # If there is no left child, create a new node and set it as the left child\n",
    "            else:\n",
    "                current.left = Node(new_val)\n",
    "\n",
    "    def search(self, find_val):\n",
    "        # Call the recursive search helper function\n",
    "        return self.search_helper(self.root, find_val)\n",
    "\n",
    "    # Recursive search function - private\n",
    "    def search_helper(self, current, find_val):\n",
    "        # If the current node exists\n",
    "        if current:\n",
    "            # If the current node value is equal to the search value, return True\n",
    "            if current.value == find_val:\n",
    "                return True\n",
    "            # If the current node value is less than the search value, go right\n",
    "            elif current.value < find_val:\n",
    "                return self.search_helper(current.right, find_val)\n",
    "            # If the current node value is greater than the search value, go left\n",
    "            else:\n",
    "                return self.search_helper(current.left, find_val)\n",
    "        # If the current node does not exist, return False\n",
    "        return False\n",
    "\n",
    "\n",
    "# Set up tree\n",
    "tree = BST(4)\n",
    "\n",
    "# Insert elements\n",
    "tree.insert(2)\n",
    "tree.insert(1)\n",
    "tree.insert(3)\n",
    "tree.insert(5)\n",
    "\n",
    "# Check search\n",
    "# Should be True\n",
    "print(tree.search(4))\n",
    "# Should be False\n",
    "print(tree.search(6))"
   ]
  },
  {
   "cell_type": "markdown",
   "id": "5d83f228-21ec-4382-b022-5799d0cab201",
   "metadata": {},
   "source": [
    "### Heaps"
   ]
  },
  {
   "cell_type": "markdown",
   "id": "da5d5ed9-d6d9-4c2b-87c7-f3477a934291",
   "metadata": {},
   "source": [
    "Heap is another specific kind of tree with some additional rules:\n",
    "- in a heap elements are arranged in a increasing or a decreasing order such that the root element is either the maximum (max heaps) or minimum (min heaps) value in the tree\n",
    "- heaps don't need to be a binary tree, so parents can have any number of children "
   ]
  },
  {
   "cell_type": "markdown",
   "id": "5ada3895-bc6e-48f8-9664-0603d3f9fe8f",
   "metadata": {},
   "source": [
    "Search, insert and delete operations time complexity can vary a lot based on the type of heap we deal with. "
   ]
  },
  {
   "cell_type": "markdown",
   "id": "55f613a8-b3da-49d7-8ef5-c20662d3ecaa",
   "metadata": {},
   "source": [
    "Later in this lesson we are going to focus on a max binary heap (follows two children rule and a root is the max element). Also it is a complete tree, meaning that all levels except the last one are completely full. If the last level isn't totally full, values are added from left to right. The right most leaf will be updated until the whole row has been filled. "
   ]
  },
  {
   "cell_type": "markdown",
   "id": "406bf72a-2cc7-417b-8266-524a6ca8ba2e",
   "metadata": {},
   "source": [
    "A function that gets maximum value in a max heap is called **peek** and it is done in a constant time O(1)."
   ]
  },
  {
   "cell_type": "markdown",
   "id": "9a905604-7592-4b20-b832-b0ff6fd62e4f",
   "metadata": {},
   "source": [
    "Search in such kind of a heap is being a linear time operation since normally we will end up searching the entire tree. "
   ]
  },
  {
   "cell_type": "markdown",
   "id": "34b86c0f-7fd0-43fa-bd49-e68de4f35cd5",
   "metadata": {},
   "source": [
    "The only trick we can apply here is that if we are searching for a value that is bigger than a root, we can exit immediately and return -1 (no such element was found), cause the heap has its max value in the root. "
   ]
  },
  {
   "cell_type": "markdown",
   "id": "225fca29-6180-4090-8240-04fae3e4d92a",
   "metadata": {},
   "source": [
    "Inserting an element:\n",
    "- we place an element at the first available place (at the last level from left to right)\n",
    "- and then we **heapify**"
   ]
  },
  {
   "cell_type": "markdown",
   "id": "39bb00b8-52ea-4f53-82d8-365f9d722c84",
   "metadata": {},
   "source": [
    "Heapify - reorder the tree based on the heap property (max or min element is always at the root). We keep compare our new element with its parent and if it (our new element) is bigger, we swap them. "
   ]
  },
  {
   "cell_type": "markdown",
   "id": "3af74379-af43-4827-a7f3-9094e38b5c13",
   "metadata": {},
   "source": [
    "We can take a similar approach to an extract operation when the root is removed from the tree. We stick the rightmost leaf in the root spot then just compare it to its children and swap where necessary. "
   ]
  },
  {
   "cell_type": "markdown",
   "id": "7e70c43c-6aa0-4dfe-9e61-d04ee1202049",
   "metadata": {},
   "source": [
    "The run time of insert and delete are O(logN)(the height of the tree) in the worst case."
   ]
  },
  {
   "cell_type": "markdown",
   "id": "8884d248-e30b-4139-9927-07199fc4155f",
   "metadata": {},
   "source": [
    "Heaps are often stored as arrays.  \n",
    "The first element of an array is the root (and it is the biggest element).  \n",
    "The next two elements in the array are the children of the root.  \n",
    "The numbers in an array must be sorted so the array can represent a heap.    \n",
    "\n"
   ]
  },
  {
   "cell_type": "markdown",
   "id": "a334957c-aae3-4aa3-aea3-52c032352d38",
   "metadata": {},
   "source": [
    "Storing our data in an array can save us some space, because in an array we store only values and have access to them by using indices (we don't need having/storing pointers). And if it is not an array additionally we have to store pointers to the left, right childs and to the parent node. "
   ]
  },
  {
   "cell_type": "markdown",
   "id": "51ede707-7f46-4bfe-a027-a7b67211e560",
   "metadata": {},
   "source": [
    "### Self-Balancing Trees"
   ]
  },
  {
   "cell_type": "markdown",
   "id": "967ac451-7fc1-4c33-8e50-64a71a7ba08c",
   "metadata": {},
   "source": [
    "The most extreme kind of an unbalanced tree is a linked list where every node has only one child. "
   ]
  },
  {
   "cell_type": "markdown",
   "id": "cd8d2a61-34ce-4127-b5db-bcfce3b2e0af",
   "metadata": {},
   "source": [
    "A self-balancing tree is one that triees to minimize the number of levels that it uses.  \n",
    "It does some algorithm during insertion and deletion to keep itself balanced."
   ]
  },
  {
   "cell_type": "markdown",
   "id": "0e2a96f1-78d1-4051-b2f5-c7d7c6bc2e17",
   "metadata": {},
   "source": [
    "The most common example of a self-balancing tree is a **red-black tree**:\n",
    "- nodes are assing an additional color property and nodes must be rather red or black.  \n",
    "- the second property of a red-black tree is the existence of null leaf nodes (every node in your tree that doesn't have two leaves must have null children). And all null nodes must be colored black. \n",
    "- if a node is read, both of its children must be black. \n",
    "- the root node must be black (this is an optional rule).\n",
    "- every path from a node to its descendant null nodes must contain the same number of black nodes.  \n",
    "All these rules ensure that a tree will never get unbalanced. "
   ]
  },
  {
   "cell_type": "markdown",
   "id": "815b5569-9954-46a7-949c-02eae22feee4",
   "metadata": {},
   "source": [
    "A red-black tree is a self-balancing binary search tree data structure that guarantees a balanced tree with O(log n) worst-case time complexity for basic operations like insertion, deletion, and searching."
   ]
  },
  {
   "cell_type": "markdown",
   "id": "cbca851f-d001-4884-aef6-6e4634b98352",
   "metadata": {},
   "source": [
    "### Red-Black Trees - Insertion"
   ]
  },
  {
   "cell_type": "markdown",
   "id": "e5745d4c-d658-42f8-8f29-c5fc325dea9b",
   "metadata": {},
   "source": [
    "In a Red-Black Tree, every new node must be inserted with the color RED. The insertion operation in Red Black Tree is similar to insertion operation in Binary Search Tree. But it is inserted with a color property."
   ]
  },
  {
   "cell_type": "markdown",
   "id": "400535e7-ffa8-45f6-8be9-167719c118b5",
   "metadata": {},
   "source": [
    "Here is a step-by-step algorithm for inserting a new node into a red-black tree:\n",
    "\n",
    "1. Perform a standard BST insertion, treating the new node as a red leaf node.\n",
    "2. If the new node's parent is black, then the tree is still a valid red-black tree, so we're done.\n",
    "3. If the new node's parent is red, then we need to restore the red-black properties by performing rotations and/or recoloring nodes. The following cases may arise:\n",
    "- The new node's uncle (parent's sibling) is also red:\n",
    "    - Recolor the parent and uncle to black.\n",
    "    - Recolor the grandparent to red.\n",
    "    - Set the current node to its grandparent and repeat from step 2.\n",
    "- The new node's uncle is black and the new node is a right child:\n",
    "    - Left rotate the parent around its own node.\n",
    "    - Set the current node to its parent and repeat from step 2.\n",
    "- The new node's uncle is black and the new node is a left child:\n",
    "    - Right rotate the grandparent around its own node.\n",
    "    - Swap the colors of the parent and grandparent.\n",
    "    - Set the current node to its parent and repeat from step 2.\n",
    "\n",
    "Once the algorithm completes, the tree will have all the red-black properties restored, and the new node will be inserted in the correct position."
   ]
  },
  {
   "cell_type": "code",
   "execution_count": 3,
   "id": "fa09c7bd-7ba8-49c3-b6eb-39af613fa0a5",
   "metadata": {
    "tags": []
   },
   "outputs": [],
   "source": [
    "class Node:\n",
    "    def __init__(self, key):\n",
    "        self.key = key\n",
    "        self.color = \"RED\"\n",
    "        self.left = None\n",
    "        self.right = None\n",
    "        self.parent = None\n",
    "\n",
    "class RedBlackTree:\n",
    "    def __init__(self):\n",
    "        self.root = None\n",
    "\n",
    "    def insert(self, key):\n",
    "        node = Node(key)\n",
    "        # Perform a standard BST insertion\n",
    "        if self.root is None:\n",
    "            self.root = node\n",
    "            node.color = \"BLACK\"\n",
    "            return\n",
    "        current = self.root\n",
    "        parent = None\n",
    "        while current is not None:\n",
    "            parent = current\n",
    "            if node.key < current.key:\n",
    "                current = current.left\n",
    "            else:\n",
    "                current = current.right\n",
    "        node.parent = parent\n",
    "        if node.key < parent.key:\n",
    "            parent.left = node\n",
    "        else:\n",
    "            parent.right = node\n",
    "        # Fix the tree to maintain red-black properties\n",
    "        self._insert_fixup(node)\n",
    "\n",
    "    def _insert_fixup(self, node):\n",
    "        while node.parent is not None and node.parent.color == \"RED\":\n",
    "            if node.parent == node.parent.parent.left:\n",
    "                uncle = node.parent.parent.right\n",
    "                if uncle is not None and uncle.color == \"RED\":\n",
    "                    node.parent.color = \"BLACK\"\n",
    "                    uncle.color = \"BLACK\"\n",
    "                    node.parent.parent.color = \"RED\"\n",
    "                    node = node.parent.parent\n",
    "                else:\n",
    "                    if node == node.parent.right:\n",
    "                        node = node.parent\n",
    "                        self._left_rotate(node)\n",
    "                    node.parent.color = \"BLACK\"\n",
    "                    node.parent.parent.color = \"RED\"\n",
    "                    self._right_rotate(node.parent.parent)\n",
    "            else:\n",
    "                uncle = node.parent.parent.left\n",
    "                if uncle is not None and uncle.color == \"RED\":\n",
    "                    node.parent.color = \"BLACK\"\n",
    "                    uncle.color = \"BLACK\"\n",
    "                    node.parent.parent.color = \"RED\"\n",
    "                    node = node.parent.parent\n",
    "                else:\n",
    "                    if node == node.parent.left:\n",
    "                        node = node.parent\n",
    "                        self._right_rotate(node)\n",
    "                    node.parent.color = \"BLACK\"\n",
    "                    node.parent.parent.color = \"RED\"\n",
    "                    self._left_rotate(node.parent.parent)\n",
    "        self.root.color = \"BLACK\"\n",
    "\n",
    "    def _left_rotate(self, node):\n",
    "        right_child = node.right\n",
    "        node.right = right_child.left\n",
    "        if right_child.left is not None:\n",
    "            right_child.left.parent = node\n",
    "        right_child.parent = node.parent\n",
    "        if node.parent is None:\n",
    "            self.root = right_child\n",
    "        elif node == node.parent.left:\n",
    "            node.parent.left = right_child\n",
    "        else:\n",
    "            node.parent.right = right_child\n",
    "        right_child.left = node\n",
    "        node.parent = right_child\n",
    "\n",
    "    def _right_rotate(self, node):\n",
    "        left_child = node.left\n",
    "        node.left = left_child.right\n",
    "        if left_child.right is not None:\n",
    "            left_child.right.parent = node\n",
    "        left_child.parent = node.parent\n",
    "        if node.parent is None:\n",
    "            self.root = left_child\n",
    "        elif node == node.parent.right:\n",
    "            node.parent.right = left_child\n",
    "        else:\n",
    "            node.parent.left = left_child\n",
    "        left_child.right = node\n",
    "        node.parent = left_child\n"
   ]
  },
  {
   "cell_type": "code",
   "execution_count": 4,
   "id": "a21a669d-1802-4cdb-98cd-94630946d454",
   "metadata": {
    "tags": []
   },
   "outputs": [
    {
     "name": "stdout",
     "output_type": "stream",
     "text": [
      "Red-Black Tree:\n",
      " 20 BLACK\n",
      "   10 BLACK\n",
      "     5 RED\n",
      "     15 RED\n",
      "   30 BLACK\n"
     ]
    }
   ],
   "source": [
    "# Create a new red-black tree\n",
    "rb_tree = RedBlackTree()\n",
    "\n",
    "# Insert some values into the tree\n",
    "rb_tree.insert(10)\n",
    "rb_tree.insert(20)\n",
    "rb_tree.insert(30)\n",
    "rb_tree.insert(15)\n",
    "rb_tree.insert(5)\n",
    "\n",
    "\n",
    "# Helper function to print the tree\n",
    "def print_tree(node, indent=0):\n",
    "    if node is not None:\n",
    "        print(\" \" * indent, node.key, node.color)\n",
    "        print_tree(node.left, indent + 2)\n",
    "        print_tree(node.right, indent + 2)\n",
    "        \n",
    "        \n",
    "# Print the tree to check the structure\n",
    "print(\"Red-Black Tree:\")\n",
    "print_tree(rb_tree.root)"
   ]
  }
 ],
 "metadata": {
  "kernelspec": {
   "display_name": "Python 3 (ipykernel)",
   "language": "python",
   "name": "python3"
  },
  "language_info": {
   "codemirror_mode": {
    "name": "ipython",
    "version": 3
   },
   "file_extension": ".py",
   "mimetype": "text/x-python",
   "name": "python",
   "nbconvert_exporter": "python",
   "pygments_lexer": "ipython3",
   "version": "3.7.11"
  }
 },
 "nbformat": 4,
 "nbformat_minor": 5
}
