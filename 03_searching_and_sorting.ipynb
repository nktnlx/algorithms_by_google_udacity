{
 "cells": [
  {
   "cell_type": "markdown",
   "id": "1bd033e2-38eb-4d9d-83b5-3fe493446ae3",
   "metadata": {},
   "source": [
    "# Intro to Data Structures and Algorithms "
   ]
  },
  {
   "cell_type": "markdown",
   "id": "b8678bae-32c2-4dfd-b915-f6c6b22b9e26",
   "metadata": {
    "tags": []
   },
   "source": [
    "[course link](https://learn.udacity.com/courses/ud513)"
   ]
  },
  {
   "cell_type": "markdown",
   "id": "9ec91368-53c8-4317-bf12-e21995bfec83",
   "metadata": {},
   "source": [
    "## Lesson 3. Searching and Sorting"
   ]
  },
  {
   "cell_type": "markdown",
   "id": "0bf9b8d2-b9fa-41d3-a755-1783fb823734",
   "metadata": {},
   "source": [
    "### Binary Search"
   ]
  },
  {
   "cell_type": "markdown",
   "id": "3050c303-0ab6-4cdb-93f0-44cc22c9b254",
   "metadata": {},
   "source": [
    "Binary search is a search algorithm that works by repeatedly dividing the search interval in half. It starts by comparing the middle element of the array with the target value. If the middle element is equal to the target value, the search ends. If the middle element is greater than the target value, the search continues on the lower half of the array. If the middle element is less than the target value, the search continues on the upper half of the array. This process repeats until the target value is found or the search interval is empty.  "
   ]
  },
  {
   "cell_type": "markdown",
   "id": "d65eac0d-daf8-4dd6-a295-06f48e8b29a9",
   "metadata": {},
   "source": [
    "Binary search is an efficient algorithm with a worst-case time complexity of O(log n), where n is the size of the input array. It is particularly useful for large arrays where sequential search is inefficient. However, it requires the array to be sorted beforehand, which can add an extra O(n log n) time complexity to the algorithm."
   ]
  },
  {
   "cell_type": "markdown",
   "id": "5fe99cc3-5459-4eb7-8995-42959c2f137d",
   "metadata": {},
   "source": [
    "#### Task 1. "
   ]
  },
  {
   "cell_type": "code",
   "execution_count": 28,
   "id": "5f59c2c0-6570-4ff2-9d25-79d8380ca0aa",
   "metadata": {
    "tags": []
   },
   "outputs": [
    {
     "name": "stdout",
     "output_type": "stream",
     "text": [
      "-1\n",
      "4\n"
     ]
    }
   ],
   "source": [
    "\"\"\"You're going to write a binary search function.\n",
    "You should use an iterative approach - meaning\n",
    "using loops.\n",
    "Your function should take two inputs:\n",
    "a Python list to search through, and the value\n",
    "you're searching for.\n",
    "Assume the list only has distinct elements,\n",
    "meaning there are no repeated values, and \n",
    "elements are in a strictly increasing order.\n",
    "Return the index of value, or -1 if the value\n",
    "doesn't exist in the list.\"\"\"\n",
    "\n",
    "def binary_search(input_array, value):\n",
    "    l = 0\n",
    "    r = len(input_array)\n",
    "    while l < r:\n",
    "        m = (l + r) // 2\n",
    "        if value < input_array[m] :\n",
    "            r = m\n",
    "        else:\n",
    "            l = m + 1\n",
    "    if m == len(input_array) -1 and input_array[m] != value:\n",
    "        return - 1\n",
    "    return m\n",
    "\n",
    "\n",
    "\n",
    "test_list = [1,3,9,11,15,19,29]\n",
    "test_val1 = 25\n",
    "test_val2 = 15\n",
    "print(binary_search(test_list, test_val1))\n",
    "print(binary_search(test_list, test_val2))"
   ]
  },
  {
   "cell_type": "markdown",
   "id": "960e8e14-afd7-462e-8cb3-65f02c6d24e7",
   "metadata": {},
   "source": [
    "### Recursion"
   ]
  },
  {
   "cell_type": "markdown",
   "id": "1662089c-e9fd-4c79-b8b3-08afba4e9a0b",
   "metadata": {},
   "source": [
    "tbc..."
   ]
  },
  {
   "cell_type": "code",
   "execution_count": null,
   "id": "a0f6543c-97b7-4fa0-a9d5-039ddf3d7322",
   "metadata": {},
   "outputs": [],
   "source": []
  },
  {
   "cell_type": "code",
   "execution_count": null,
   "id": "c3eb8f80-304f-4bd0-b4c9-981a4f2d75fe",
   "metadata": {},
   "outputs": [],
   "source": []
  },
  {
   "cell_type": "code",
   "execution_count": null,
   "id": "2190a065-4d42-41f0-b212-8f8e7e1fbeff",
   "metadata": {},
   "outputs": [],
   "source": []
  },
  {
   "cell_type": "code",
   "execution_count": null,
   "id": "d2b7d7c2-3b09-4ff4-b829-7a21dfa0c813",
   "metadata": {},
   "outputs": [],
   "source": []
  },
  {
   "cell_type": "markdown",
   "id": "844f93c1-15fb-4fa2-8391-50c37e1a6587",
   "metadata": {},
   "source": [
    "### Intro to sorting"
   ]
  },
  {
   "cell_type": "code",
   "execution_count": null,
   "id": "3a457cc8-1ed9-4c3c-948c-dc5a84cd8112",
   "metadata": {},
   "outputs": [],
   "source": []
  },
  {
   "cell_type": "code",
   "execution_count": null,
   "id": "4abaa24c-1b7a-4e8f-881b-bc79b72cc5f1",
   "metadata": {},
   "outputs": [],
   "source": []
  },
  {
   "cell_type": "code",
   "execution_count": null,
   "id": "63b7fdad-50a3-487c-8ac1-ed2cc06d7768",
   "metadata": {},
   "outputs": [],
   "source": []
  },
  {
   "cell_type": "code",
   "execution_count": null,
   "id": "5a7f8d5f-1103-41ed-94fd-08bac9bc6fa2",
   "metadata": {},
   "outputs": [],
   "source": []
  },
  {
   "cell_type": "code",
   "execution_count": null,
   "id": "15a73dc9-a0d9-45a4-ad65-06b844743f87",
   "metadata": {},
   "outputs": [],
   "source": []
  },
  {
   "cell_type": "markdown",
   "id": "03567d44-8912-4416-942a-3cbf74bb3eb7",
   "metadata": {},
   "source": [
    "### Bubble sort"
   ]
  },
  {
   "cell_type": "code",
   "execution_count": null,
   "id": "be7cba9a-6dc8-403c-a41a-5d149f057d4e",
   "metadata": {},
   "outputs": [],
   "source": []
  },
  {
   "cell_type": "code",
   "execution_count": null,
   "id": "9c56b06a-cd9e-4810-a583-191170856f7e",
   "metadata": {},
   "outputs": [],
   "source": []
  },
  {
   "cell_type": "code",
   "execution_count": null,
   "id": "572b2692-5278-4afd-9902-8a34b46358ae",
   "metadata": {},
   "outputs": [],
   "source": []
  },
  {
   "cell_type": "code",
   "execution_count": null,
   "id": "c772d24c-f736-4170-8617-f0629fbe7977",
   "metadata": {},
   "outputs": [],
   "source": []
  },
  {
   "cell_type": "code",
   "execution_count": null,
   "id": "c1c63a95-9812-43fa-9b9c-cc45fb88f9bc",
   "metadata": {},
   "outputs": [],
   "source": []
  },
  {
   "cell_type": "markdown",
   "id": "6b5ae682-71ee-4173-bfbd-ea34565b31e7",
   "metadata": {},
   "source": [
    "### Merge sort"
   ]
  },
  {
   "cell_type": "code",
   "execution_count": null,
   "id": "2513e390-8605-4014-a0ea-edac39910e55",
   "metadata": {},
   "outputs": [],
   "source": []
  },
  {
   "cell_type": "code",
   "execution_count": null,
   "id": "6732b786-e8e0-4483-bc13-a5bafc67fedb",
   "metadata": {},
   "outputs": [],
   "source": []
  },
  {
   "cell_type": "code",
   "execution_count": null,
   "id": "686b0a2d-9ecc-48f3-b704-1b194b6e4d1a",
   "metadata": {},
   "outputs": [],
   "source": []
  },
  {
   "cell_type": "code",
   "execution_count": null,
   "id": "da7ddb40-8bf0-47fa-a285-be255622b136",
   "metadata": {},
   "outputs": [],
   "source": []
  },
  {
   "cell_type": "code",
   "execution_count": null,
   "id": "ff7e5ab9-052d-4211-9ba5-b08c13b7635f",
   "metadata": {},
   "outputs": [],
   "source": []
  },
  {
   "cell_type": "markdown",
   "id": "719c110b-0a59-430d-a64d-1b89beb251f2",
   "metadata": {},
   "source": [
    "### Quick sort"
   ]
  },
  {
   "cell_type": "code",
   "execution_count": null,
   "id": "32f5a5af-b95e-4e0a-9717-a50e123198f1",
   "metadata": {},
   "outputs": [],
   "source": []
  },
  {
   "cell_type": "code",
   "execution_count": null,
   "id": "2697afd9-36b0-4460-94fb-5e8fe710bee5",
   "metadata": {},
   "outputs": [],
   "source": []
  },
  {
   "cell_type": "code",
   "execution_count": null,
   "id": "42f1b0a0-036b-492a-8ff6-27a8a0ee7439",
   "metadata": {},
   "outputs": [],
   "source": []
  },
  {
   "cell_type": "code",
   "execution_count": null,
   "id": "0a9725d2-9900-4f47-b40a-bca822dddbd1",
   "metadata": {},
   "outputs": [],
   "source": []
  },
  {
   "cell_type": "code",
   "execution_count": null,
   "id": "18213983-8bfd-4847-8024-3410799cad22",
   "metadata": {},
   "outputs": [],
   "source": []
  },
  {
   "cell_type": "code",
   "execution_count": null,
   "id": "87b08d3e-19d1-4b36-9d91-24869f698ca0",
   "metadata": {},
   "outputs": [],
   "source": []
  }
 ],
 "metadata": {
  "kernelspec": {
   "display_name": "Python 3 (ipykernel)",
   "language": "python",
   "name": "python3"
  },
  "language_info": {
   "codemirror_mode": {
    "name": "ipython",
    "version": 3
   },
   "file_extension": ".py",
   "mimetype": "text/x-python",
   "name": "python",
   "nbconvert_exporter": "python",
   "pygments_lexer": "ipython3",
   "version": "3.7.11"
  }
 },
 "nbformat": 4,
 "nbformat_minor": 5
}
