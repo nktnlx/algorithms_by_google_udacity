{
 "cells": [
  {
   "cell_type": "markdown",
   "id": "1bd033e2-38eb-4d9d-83b5-3fe493446ae3",
   "metadata": {},
   "source": [
    "# Intro to Data Structures and Algorithms "
   ]
  },
  {
   "cell_type": "markdown",
   "id": "b8678bae-32c2-4dfd-b915-f6c6b22b9e26",
   "metadata": {
    "tags": []
   },
   "source": [
    "[course link](https://learn.udacity.com/courses/ud513)"
   ]
  },
  {
   "cell_type": "markdown",
   "id": "9ec91368-53c8-4317-bf12-e21995bfec83",
   "metadata": {},
   "source": [
    "## Lesson 3. Searching and Sorting"
   ]
  },
  {
   "cell_type": "markdown",
   "id": "0bf9b8d2-b9fa-41d3-a755-1783fb823734",
   "metadata": {},
   "source": [
    "### Binary Search"
   ]
  },
  {
   "cell_type": "markdown",
   "id": "3050c303-0ab6-4cdb-93f0-44cc22c9b254",
   "metadata": {},
   "source": [
    "Binary search is a search algorithm that works by repeatedly dividing the search interval in half. It starts by comparing the middle element of the array with the target value. If the middle element is equal to the target value, the search ends. If the middle element is greater than the target value, the search continues on the lower half of the array. If the middle element is less than the target value, the search continues on the upper half of the array. This process repeats until the target value is found or the search interval is empty.  "
   ]
  },
  {
   "cell_type": "markdown",
   "id": "d65eac0d-daf8-4dd6-a295-06f48e8b29a9",
   "metadata": {},
   "source": [
    "Binary search is an efficient algorithm with a worst-case time complexity of O(log n), where n is the size of the input array. It is particularly useful for large arrays where sequential search is inefficient. However, it requires the array to be sorted beforehand, which can add an extra O(n log n) time complexity to the algorithm."
   ]
  },
  {
   "cell_type": "markdown",
   "id": "5fe99cc3-5459-4eb7-8995-42959c2f137d",
   "metadata": {},
   "source": [
    "#### Task 1. "
   ]
  },
  {
   "cell_type": "code",
   "execution_count": 1,
   "id": "5f59c2c0-6570-4ff2-9d25-79d8380ca0aa",
   "metadata": {
    "tags": []
   },
   "outputs": [
    {
     "name": "stdout",
     "output_type": "stream",
     "text": [
      "-1\n",
      "4\n"
     ]
    }
   ],
   "source": [
    "\"\"\"You're going to write a binary search function.\n",
    "You should use an iterative approach - meaning\n",
    "using loops.\n",
    "Your function should take two inputs:\n",
    "a Python list to search through, and the value\n",
    "you're searching for.\n",
    "Assume the list only has distinct elements,\n",
    "meaning there are no repeated values, and \n",
    "elements are in a strictly increasing order.\n",
    "Return the index of value, or -1 if the value\n",
    "doesn't exist in the list.\"\"\"\n",
    "\n",
    "def binary_search(input_array, value):\n",
    "    l = 0\n",
    "    r = len(input_array)\n",
    "    while l < r:\n",
    "        m = (l + r) // 2\n",
    "        if value == input_array[m]:\n",
    "            return m\n",
    "        elif value < input_array[m]:\n",
    "            r = m\n",
    "        else:\n",
    "            l = m + 1\n",
    "    return -1\n",
    "\n",
    "\n",
    "test_list = [1,3,9,11,15,19,29]\n",
    "test_val1 = 25\n",
    "test_val2 = 15\n",
    "print(binary_search(test_list, test_val1))\n",
    "print(binary_search(test_list, test_val2))"
   ]
  },
  {
   "cell_type": "markdown",
   "id": "960e8e14-afd7-462e-8cb3-65f02c6d24e7",
   "metadata": {},
   "source": [
    "### Recursion"
   ]
  },
  {
   "cell_type": "markdown",
   "id": "1662089c-e9fd-4c79-b8b3-08afba4e9a0b",
   "metadata": {},
   "source": [
    "Every recursion function:\n",
    "- needs a base case (it's like a exit condition that tells the function when it has to stop)\n",
    "- needs to call itself at some point\n",
    "- needs to alter an input parameter at some point"
   ]
  },
  {
   "cell_type": "markdown",
   "id": "98ef479f-68c3-4ef1-985f-f9896eede3eb",
   "metadata": {},
   "source": [
    "#### Task 2."
   ]
  },
  {
   "cell_type": "code",
   "execution_count": 2,
   "id": "1a975631-0179-494f-b12c-d12c2b3af805",
   "metadata": {
    "tags": []
   },
   "outputs": [
    {
     "name": "stdout",
     "output_type": "stream",
     "text": [
      "34\n",
      "89\n",
      "0\n"
     ]
    }
   ],
   "source": [
    "\"\"\"Implement a function recursively to get the desired\n",
    "Fibonacci sequence value.\n",
    "Your code should have the same input/output as the \n",
    "iterative code in the instructions.\"\"\"\n",
    "\n",
    "def get_fib(position):\n",
    "    if position == 0:\n",
    "        return 0\n",
    "    elif position == 1:\n",
    "        return 1\n",
    "    else:\n",
    "        return get_fib(position - 1) + get_fib(position - 2)\n",
    "\n",
    "\n",
    "# Test cases\n",
    "print(get_fib(9))\n",
    "print(get_fib(11))\n",
    "print(get_fib(0))"
   ]
  },
  {
   "cell_type": "markdown",
   "id": "844f93c1-15fb-4fa2-8391-50c37e1a6587",
   "metadata": {},
   "source": [
    "### Intro to sorting"
   ]
  },
  {
   "cell_type": "markdown",
   "id": "6b2b4f71-77f5-4966-91ca-20135a72cb6b",
   "metadata": {},
   "source": [
    "Inplace sorting - rearranges the given array without need to copy values to another temporary array. When you do something inplace you don't need an extra memory space to do things. "
   ]
  },
  {
   "cell_type": "markdown",
   "id": "03567d44-8912-4416-942a-3cbf74bb3eb7",
   "metadata": {},
   "source": [
    "### Bubble sort"
   ]
  },
  {
   "cell_type": "markdown",
   "id": "c4074f42-bee7-48ac-8ddc-227000d2bdc6",
   "metadata": {},
   "source": [
    "It's a naive algorithm. You compare two neighbouring elements all the time one by one and making a switch if one is less than another.   \n",
    "\n",
    "In each iteration (pass through all elements of the list) the largest element will bubble-up to the end of an array.  \n",
    "\n",
    "At each pass you make n-1 comparisons. "
   ]
  },
  {
   "cell_type": "markdown",
   "id": "09fb6d38-b0ec-4795-88a2-8eab270d4c5e",
   "metadata": {},
   "source": [
    "Time complexity is O(n^2)"
   ]
  },
  {
   "cell_type": "markdown",
   "id": "99cfab65-fa2e-4e4c-8f39-b4891fbb429b",
   "metadata": {},
   "source": [
    "Worst case is O(n^2)  \n",
    "Avarage case is O(n^2)  \n",
    "Best case is O(n) - when an array is already sorted or you have to swap only the second element with the first element in the array. "
   ]
  },
  {
   "cell_type": "markdown",
   "id": "901a798c-7925-41ec-a57a-f84b58654824",
   "metadata": {},
   "source": [
    "Bubble sort is an inplace sorting algorithm, so the space complexity is constant O(1).   "
   ]
  },
  {
   "cell_type": "markdown",
   "id": "38a03bd6-72c9-427d-8f0c-a66d16e071da",
   "metadata": {},
   "source": [
    "Bubble sort on [wiki](https://en.wikipedia.org/wiki/Bubble_sort)"
   ]
  },
  {
   "cell_type": "markdown",
   "id": "30227839-b476-46e0-a534-f655281ea46d",
   "metadata": {},
   "source": [
    "#### Task 3. "
   ]
  },
  {
   "cell_type": "code",
   "execution_count": 3,
   "id": "b6d6d0b5-64c8-4939-bc3c-fce9c5328460",
   "metadata": {
    "tags": []
   },
   "outputs": [
    {
     "data": {
      "text/plain": [
       "[0, 1, 2, 3, 98, 99]"
      ]
     },
     "execution_count": 3,
     "metadata": {},
     "output_type": "execute_result"
    }
   ],
   "source": [
    "\"\"\"Implement a bubble sort function.\"\"\"\n",
    "\n",
    "def bubble_sort(lst):\n",
    "    cnt = len(lst)\n",
    "    while cnt > 0:\n",
    "        for i in range(1, len(lst)):\n",
    "            if lst[i - 1] > lst[i]:\n",
    "                lst[i - 1], lst[i] = lst[i], lst[i - 1]\n",
    "        cnt -= 1\n",
    "    return lst\n",
    "\n",
    "\n",
    "bubble_sort([99, 3, 2, 1, 0, 98])"
   ]
  },
  {
   "cell_type": "markdown",
   "id": "6b5ae682-71ee-4173-bfbd-ea34565b31e7",
   "metadata": {},
   "source": [
    "### Merge sort"
   ]
  },
  {
   "cell_type": "markdown",
   "id": "e674bcf5-31e7-4668-b755-1c2c290fea50",
   "metadata": {},
   "source": [
    "Merge sort is based on the Divide and Conquer approach. "
   ]
  },
  {
   "cell_type": "markdown",
   "id": "84ba4dbb-83ff-4ec1-862f-c37456bc7d51",
   "metadata": {},
   "source": [
    "Merge sort is a popular sorting algorithm that sorts an array by dividing it into two halves, sorting each half recursively, and then merging the sorted halves back together. The algorithm works by repeatedly dividing the unsorted list into smaller sublists until each sublist contains only one element. Then, the sublists are merged together in pairs until one final sorted list is achieved.   \n",
    "\n",
    "Merge sort is an efficient sorting algorithm with a time complexity of O(n log n), making it faster than many other sorting algorithms, especially for large input sizes."
   ]
  },
  {
   "cell_type": "markdown",
   "id": "bc74c4f1-54d7-44b2-a91d-5c0da9a9ee45",
   "metadata": {},
   "source": [
    "Time complexity is O(n log n). And this is definitely better than time complexity of a bubble sort O(n^2).  \n",
    "\n",
    "However, bubble sort is more efficient in terms of space complexity: O(1) for bubble sort and O(N) for merge sort."
   ]
  },
  {
   "cell_type": "markdown",
   "id": "92c4eb01-db1c-4943-80c4-ce2780193833",
   "metadata": {},
   "source": [
    "Keep in mind that merge sort is slower than some other sorting algorithms when used for small datasets.  \n",
    "Additionally, merge sort must go through its entire process even if the array is already sorted1."
   ]
  },
  {
   "cell_type": "markdown",
   "id": "b47ddc93-c83d-4d62-9083-3dea28c01ea0",
   "metadata": {},
   "source": [
    "#### Task 4. "
   ]
  },
  {
   "cell_type": "code",
   "execution_count": 4,
   "id": "da7ddb40-8bf0-47fa-a285-be255622b136",
   "metadata": {},
   "outputs": [
    {
     "name": "stdout",
     "output_type": "stream",
     "text": [
      "[1, 2, 5, 5, 6, 9]\n"
     ]
    }
   ],
   "source": [
    "\"\"\"Implement a merge sort algorithm.\"\"\"\n",
    "\n",
    "def merge_sort(lst):\n",
    "    # Base case: if the array has 0 or 1 element, it is already sorted\n",
    "    if len(lst) <= 1:\n",
    "        return lst\n",
    "    \n",
    "    # Recursive case: split the array into two halves, sort each half, and merge them\n",
    "    mid = len(lst) // 2\n",
    "    left_half = lst[:mid]\n",
    "    right_half = lst[mid:]\n",
    "    \n",
    "    left_half = merge_sort(left_half)\n",
    "    right_half = merge_sort(right_half)\n",
    "    \n",
    "    return merge(left_half, right_half)\n",
    "    \n",
    "    \n",
    "def merge(left_half, right_half):\n",
    "    result = []\n",
    "    i = 0\n",
    "    j = 0\n",
    "    \n",
    "    # Compare the elements in each array and add the smallest to the merged array\n",
    "    while i < len(left_half) and j < len(right_half):\n",
    "        if left_half[i] <= right_half[j]:\n",
    "            result.append(left_half[i])\n",
    "            i += 1\n",
    "        else:\n",
    "            result.append(right_half[j])\n",
    "            j += 1\n",
    "            \n",
    "    # Add any remaining elements from the left or right array\n",
    "    result += left_half[i:]\n",
    "    result += right_half[j:]\n",
    "    \n",
    "    return result\n",
    "\n",
    "\n",
    "my_list = [5, 2, 9, 1, 5, 6]\n",
    "sorted_list = merge_sort(my_list)\n",
    "print(sorted_list)"
   ]
  },
  {
   "cell_type": "markdown",
   "id": "719c110b-0a59-430d-a64d-1b89beb251f2",
   "metadata": {},
   "source": [
    "### Quick sort"
   ]
  },
  {
   "cell_type": "markdown",
   "id": "f9255225-f775-40e1-870c-6ac9a7083d39",
   "metadata": {},
   "source": [
    "Quick sort is a divide-and-conquer sorting algorithm that recursively divides a list of elements into smaller sub-lists based on a chosen pivot element."
   ]
  },
  {
   "cell_type": "markdown",
   "id": "f5dd50ab-4301-4a0c-b489-36cced0140bd",
   "metadata": {},
   "source": [
    "In many cases quick sort is one of the most efficient algorithms. "
   ]
  },
  {
   "cell_type": "markdown",
   "id": "ba1c9118-c4d6-4f73-b002-3e0909b7b126",
   "metadata": {},
   "source": [
    "To do a quick sort you:\n",
    "1. pick one of the values in the array at random\n",
    "2. move all values larger than it above it\n",
    "3. move all values below it lower than it\n",
    "4. you continue on recursively, picking pivot in the upper and in the lower sections of the array, sorting them similarly until the whole array is sorted. \n",
    "\n",
    "The value that you pick initially is called pivot. "
   ]
  },
  {
   "cell_type": "markdown",
   "id": "4691c0e9-c0c3-4dcd-aa2a-0c8bfd36b735",
   "metadata": {},
   "source": [
    "The worst case time complexity of quick sort is O(n^2) - happens when we get an array that is almost sorted (the pivot is always the largest or smallest element in the list).  \n",
    "\n",
    "However, the average and best case quick sort time complexity is O(n log n)"
   ]
  },
  {
   "cell_type": "markdown",
   "id": "5280065c-0bf2-4cb4-a6ef-3a2d64859dfd",
   "metadata": {},
   "source": [
    "You can do some optimizations to make your quick sort run faster. For example, you can configure your program such that it runs both halves at the same time. It will end up using the same amount of computing power, but it will it eat up less time.  \n",
    "\n",
    "Also instead of taking the last element as a pivot you can look at a few of them and select their median as the pivot. Thus you'll have a change to move that element faster to the center of the array that will end up as a best case scenario. "
   ]
  },
  {
   "cell_type": "markdown",
   "id": "d199e349-96a5-4e72-ae60-041af6be1355",
   "metadata": {},
   "source": [
    "This version of quick sort is inplace, so we don't use any extra space, having space complexity of the quick sort being O(1)."
   ]
  },
  {
   "cell_type": "markdown",
   "id": "09835554-f9c3-4dd0-9c32-01a3d4ea08c8",
   "metadata": {},
   "source": [
    "#### Task 5."
   ]
  },
  {
   "cell_type": "code",
   "execution_count": 5,
   "id": "9985a4e6-55f6-4d79-81b1-ecfb1cc6f789",
   "metadata": {
    "tags": []
   },
   "outputs": [
    {
     "name": "stdout",
     "output_type": "stream",
     "text": [
      "[1, 3, 4, 6, 9, 14, 20, 21, 21, 25]\n"
     ]
    }
   ],
   "source": [
    "\"\"\"Implement quick sort in Python.\n",
    "Input a list.\n",
    "Output a sorted list.\"\"\"\n",
    "\n",
    "def quicksort(lst):\n",
    "    # Base case\n",
    "    if len(lst) <= 1:\n",
    "        return lst\n",
    "    \n",
    "    # Choose pivot element (last element in array)\n",
    "    pivot = lst[-1]\n",
    "\n",
    "    # Initialize two lists to store elements less than or greater than pivot\n",
    "    left, right = [], []\n",
    "\n",
    "    # Iterate over all elements except pivot\n",
    "    for i in range(len(lst) - 1):\n",
    "        # If current element is less than pivot, add to left list\n",
    "        if lst[i] < pivot:\n",
    "            left.append(lst[i])\n",
    "        # Otherwise, add to right list\n",
    "        else:\n",
    "            right.append(lst[i])\n",
    "\n",
    "    # Recursively sort left and right lists, then concatenate sorted lists with pivot in middle\n",
    "    return quicksort(left) + [pivot] + quicksort(right)\n",
    "            \n",
    "        \n",
    "# Usage example\n",
    "test = [21, 4, 1, 3, 9, 20, 25, 6, 21, 14]\n",
    "print(quicksort(test))"
   ]
  },
  {
   "cell_type": "markdown",
   "id": "881a8fae-eaf4-4b32-a59f-2fb0a6ca57f3",
   "metadata": {},
   "source": [
    "A [link](https://visualgo.net/en) to en external source that visualizes data structures and algorithms. "
   ]
  }
 ],
 "metadata": {
  "kernelspec": {
   "display_name": "Python 3 (ipykernel)",
   "language": "python",
   "name": "python3"
  },
  "language_info": {
   "codemirror_mode": {
    "name": "ipython",
    "version": 3
   },
   "file_extension": ".py",
   "mimetype": "text/x-python",
   "name": "python",
   "nbconvert_exporter": "python",
   "pygments_lexer": "ipython3",
   "version": "3.7.11"
  }
 },
 "nbformat": 4,
 "nbformat_minor": 5
}
