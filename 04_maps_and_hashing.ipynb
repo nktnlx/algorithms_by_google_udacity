{
 "cells": [
  {
   "cell_type": "markdown",
   "id": "1bd033e2-38eb-4d9d-83b5-3fe493446ae3",
   "metadata": {},
   "source": [
    "# Intro to Data Structures and Algorithms "
   ]
  },
  {
   "cell_type": "markdown",
   "id": "b8678bae-32c2-4dfd-b915-f6c6b22b9e26",
   "metadata": {
    "tags": []
   },
   "source": [
    "[course link](https://learn.udacity.com/courses/ud513)"
   ]
  },
  {
   "cell_type": "markdown",
   "id": "9ec91368-53c8-4317-bf12-e21995bfec83",
   "metadata": {},
   "source": [
    "## Lesson 4. Maps and Hashing"
   ]
  },
  {
   "cell_type": "markdown",
   "id": "0bf9b8d2-b9fa-41d3-a755-1783fb823734",
   "metadata": {},
   "source": [
    "### Sets and Maps"
   ]
  },
  {
   "cell_type": "markdown",
   "id": "3050c303-0ab6-4cdb-93f0-44cc22c9b254",
   "metadata": {},
   "source": [
    "The defining characteristic of a map is its key-value structure.  \n",
    "Actualy a dictionary in CS is a map.  "
   ]
  },
  {
   "cell_type": "markdown",
   "id": "7382fa47-2abd-48e6-8f58-41e84f5f5a71",
   "metadata": {},
   "source": [
    "Set - data structure comparable to a list. The bigest difference is that a list has some order of the elemnts, while set is unordered data structure. Also sets do not allow for repeated elements. "
   ]
  },
  {
   "cell_type": "markdown",
   "id": "1fa9ee4d-3955-4213-b303-dbcb37397ea9",
   "metadata": {},
   "source": [
    "In Python, sets are unordered collections of unique elements. This means that you cannot access set elements by index directly. "
   ]
  },
  {
   "cell_type": "markdown",
   "id": "c7d888d0-b68d-46cf-b29b-ed52f3d92583",
   "metadata": {},
   "source": [
    "Sets in Python are mutable. This means that you can add or remove elements from a set.   \n",
    "However, it’s important to note that while the set itself may be modified, the elements contained in the set must be of an immutable type."
   ]
  },
  {
   "cell_type": "markdown",
   "id": "bb5dab58-4045-4652-ba19-320f1d619ea1",
   "metadata": {},
   "source": [
    "Map - is a set based data structure.  \n",
    "Map <key, value>  \n",
    "The keys in a dictionary is a set, i.e. keys should be unique! "
   ]
  },
  {
   "cell_type": "markdown",
   "id": "4524f26c-dac7-4ce9-978e-a63ebb2c391b",
   "metadata": {},
   "source": [
    "In Python version 3.7 and later, dictionaries are ordered. This means that the items have a defined order, and that order will not change.  \n",
    "However, in Python 3.6 and earlier versions, dictionaries were unordered.  "
   ]
  },
  {
   "cell_type": "markdown",
   "id": "960e8e14-afd7-462e-8cb3-65f02c6d24e7",
   "metadata": {},
   "source": [
    "#### Task 1. "
   ]
  },
  {
   "cell_type": "code",
   "execution_count": 1,
   "id": "67547f62-6816-4570-ad2a-8c3c4c83d842",
   "metadata": {
    "tags": []
   },
   "outputs": [
    {
     "name": "stdout",
     "output_type": "stream",
     "text": [
      "1\n",
      "Atlanta\n",
      "Mountain View\n",
      "2\n",
      "Bangalore - India\n",
      "Shanghai - China\n"
     ]
    }
   ],
   "source": [
    "\"\"\"Time to play with Python dictionaries!\n",
    "You're going to work on a dictionary that\n",
    "stores cities by country and continent.\n",
    "One is done for you - the city of Mountain \n",
    "View is in the USA, which is in North America.\n",
    "\n",
    "You need to add the cities listed below by\n",
    "modifying the structure.\n",
    "Then, you should print out the values specified\n",
    "by looking them up in the structure.\n",
    "\n",
    "Cities to add:\n",
    "Bangalore (India, Asia)\n",
    "Atlanta (USA, North America)\n",
    "Cairo (Egypt, Africa)\n",
    "Shanghai (China, Asia)\"\"\"\n",
    "\n",
    "locations = {'North America': {'USA': ['Mountain View']}}\n",
    "\n",
    "\"\"\"Print the following (using \"print\").\n",
    "1. A list of all cities in the USA in\n",
    "alphabetic order.\n",
    "2. All cities in Asia, in alphabetic\n",
    "order, next to the name of the country.\n",
    "In your output, label each answer with a number\n",
    "so it looks like this:\n",
    "1\n",
    "American City\n",
    "American City\n",
    "2\n",
    "Asian City - Country\n",
    "Asian City - Country\"\"\"\n",
    "\n",
    "cities_to_add = ['Bangalore (India, Asia)',\n",
    "                 'Atlanta (USA, North America)',\n",
    "                 'Cairo (Egypt, Africa)',\n",
    "                 'Shanghai (China, Asia)']\n",
    "\n",
    "\n",
    "# helper function to unfold a sublist in a list\n",
    "def unfold(lst):\n",
    "    ans = []\n",
    "    for i in lst:\n",
    "        if type(i) != list:\n",
    "            ans.append(i)\n",
    "        else:\n",
    "            ans.extend(i)\n",
    "    return ans\n",
    "\n",
    "# adding data to our dictionary\n",
    "for city in cities_to_add:\n",
    "    city = city.split(', ')\n",
    "    city[0] = city[0].replace('(', '').replace(',', '').split(' ')\n",
    "    city[1] = city[1].replace(')', '')\n",
    "    city = unfold(city)\n",
    "    if city[2] in locations:\n",
    "        if city[1] in locations[city[2]]:\n",
    "            locations[city[2]][city[1]].append(city[0])\n",
    "        else:\n",
    "            locations[city[2]][city[1]] = [city[0]]\n",
    "    else:\n",
    "        locations[city[2]] = {city[1]: [city[0]]}\n",
    "\n",
    "\n",
    "# Print a list of all cities in the USA in alphabetic order.\n",
    "for k, v in locations.items():\n",
    "    if k == 'North America' and 'USA' in v:\n",
    "        for country, cities in v.items():\n",
    "            if country == 'USA':\n",
    "                print(1, *sorted(cities), sep='\\n')\n",
    "            \n",
    "            \n",
    "# Print all cities in Asia, in alphabetic order, next to the name of the country\n",
    "for k, v in locations.items():\n",
    "    if k == 'Asia':\n",
    "        ans = []\n",
    "        for country, cities in v.items():\n",
    "            for c in cities:\n",
    "                to_add = c + ' - ' + country\n",
    "                ans.append(to_add)\n",
    "print(2, *sorted(ans), sep='\\n')"
   ]
  },
  {
   "cell_type": "markdown",
   "id": "844f93c1-15fb-4fa2-8391-50c37e1a6587",
   "metadata": {},
   "source": [
    "### Hashing"
   ]
  },
  {
   "cell_type": "markdown",
   "id": "cadbd9b4-f581-4c45-b328-615c96d4b3ff",
   "metadata": {},
   "source": [
    "Using a data structure that employs a hash function allows you to do look ups in constant time. All other data structures we've learnt so far allows you to search in O(n)."
   ]
  },
  {
   "cell_type": "markdown",
   "id": "0a86ef0a-ba23-44f1-b3ff-9ae76ea7f3d0",
   "metadata": {},
   "source": [
    "Hash functions take some value into a hash function and produces a hash value.  \n",
    "\n",
    "Usualy we use division by 10 as a hash function and a remainder as a hash value.  \n",
    "\n",
    "The hash value will act as an index in an array where we'll be storing our original values. And we can look up for an element by its index in a constant time. "
   ]
  },
  {
   "cell_type": "markdown",
   "id": "03567d44-8912-4416-942a-3cbf74bb3eb7",
   "metadata": {},
   "source": [
    "### Collision"
   ]
  },
  {
   "cell_type": "markdown",
   "id": "a6728642-9ec9-44d8-85f5-41f84cafb2b9",
   "metadata": {},
   "source": [
    "Collision happens when two different values have the same hash value.  \n",
    "\n",
    "There are two main tehcniques to fight with collisions:\n",
    "- change the hash function, so remainders will be different after it\n",
    "- change the structure of your array and istead of storing separate values in each cell, you can store a list of values (a collection) having the same hash number in each cell (a bucket).    \n",
    "\n",
    "The first option will use a lot of extra space, but will still have a constant look up time complexity.  \n",
    "\n",
    "The second option is used usually. And the worst case scenario time complexity will be O(m), where m - the lenght of a collection in a bucket. "
   ]
  },
  {
   "cell_type": "markdown",
   "id": "4c6969fa-78a1-40cd-bea2-73d60e44e174",
   "metadata": {},
   "source": [
    "Also you can be creative and use a second hash function inside of your bucket, to have a contant overall look up time. "
   ]
  },
  {
   "cell_type": "markdown",
   "id": "6b5ae682-71ee-4173-bfbd-ea34565b31e7",
   "metadata": {},
   "source": [
    "### Load Factor"
   ]
  },
  {
   "cell_type": "markdown",
   "id": "96a18bae-f45b-457c-ad94-0ef591d1236c",
   "metadata": {},
   "source": [
    "When we're talking about hash tables, we can define a \"load factor\":  \n",
    "`Load Factor = Number of Entries / Number of Buckets`  "
   ]
  },
  {
   "cell_type": "markdown",
   "id": "cdbe1534-2627-4de7-8604-8107e432f034",
   "metadata": {},
   "source": [
    "The purpose of a load factor is to give us a sense of how \"full\" a hash table is. For example, if we're trying to store 10 values in a hash table with 1000 buckets, the load factor would be 0.01, and the majority of buckets in the table will be empty. We end up wasting memory by having so many empty buckets, so we may want to rehash, or come up with a new hash function with less buckets. We can use our load factor as an indicator for when to rehash—as the load factor approaches 0, the more empty, or sparse, our hash table is.  \n",
    "\n",
    "On the flip side, the closer our load factor is to 1 (meaning the number of values equals the number of buckets), the better it would be for us to rehash and add more buckets. Any table with a load value greater than 1 is guaranteed to have collisions. "
   ]
  },
  {
   "cell_type": "markdown",
   "id": "09d72643-a960-4561-8406-82f8e31c70ba",
   "metadata": {},
   "source": [
    "For the load factor, you should divide the number of values by the number of buckets. For example if there are 100 values and 100 buckets (0 to 99). We'll have, 100/100 = 1!\n",
    "\n",
    "What hash function to choose:\n",
    "- Dividing a bunch of multiples of 5 by another multiple of 5 will cause a lot of collisions. Here's an example, where 10 is used as the divisor:\n",
    "5 % 10 = 5\n",
    "10 % 10 = 0\n",
    "15 % 10 = 5\n",
    "20 % 10 = 0\n",
    "- 87 is better than 125, but because it's less than 100 it'll still have collisions.\n",
    "- 1001 is good, but it'll create a ton of leftover buckets and waste a lot of memory.\n",
    "- the best one has function for our data will be % 107. "
   ]
  },
  {
   "cell_type": "markdown",
   "id": "a9e38a1b-f8a6-40f5-9b20-a3c6e5bf1ba1",
   "metadata": {},
   "source": [
    "### Hash Maps"
   ]
  },
  {
   "cell_type": "markdown",
   "id": "1719478a-5dc0-4539-9554-5d246a9f3125",
   "metadata": {},
   "source": [
    "A Python dictionary is a hash map!"
   ]
  },
  {
   "cell_type": "markdown",
   "id": "c74a71d8-2287-44bf-9a1e-c3477bbe9b11",
   "metadata": {},
   "source": [
    "You can use the keys as inputs to has function and then store the key-value pair in the bucket of the hash function produced by the function. "
   ]
  },
  {
   "cell_type": "markdown",
   "id": "8bc74b54-edfe-46be-b2dd-cc042320f2c4",
   "metadata": {},
   "source": [
    "Hash maps are very popular because constant time look up can really speed up your code. "
   ]
  },
  {
   "cell_type": "markdown",
   "id": "5d83f228-21ec-4382-b022-5799d0cab201",
   "metadata": {},
   "source": [
    "### String Keys"
   ]
  },
  {
   "cell_type": "markdown",
   "id": "1e5bb47e-3e2e-43cc-87b4-83e84ea2f307",
   "metadata": {},
   "source": [
    "String hashing example:  \n",
    "`s[0]*31^(n-1) + s[1]*31^(n-2) + ... + s[n-1]`  \n",
    "\n",
    "This is why [31](https://stackoverflow.com/questions/299304/why-does-javas-hashcode-in-string-use-31-as-a-multiplier)."
   ]
  },
  {
   "cell_type": "markdown",
   "id": "552ace1d-b040-42aa-bb45-dad48a017800",
   "metadata": {},
   "source": [
    "#### Task 2. "
   ]
  },
  {
   "cell_type": "code",
   "execution_count": 2,
   "id": "c5bf5217-e36a-4e85-9a6b-67e2bb477285",
   "metadata": {
    "tags": []
   },
   "outputs": [
    {
     "name": "stdout",
     "output_type": "stream",
     "text": [
      "8568\n",
      "-1\n",
      "8568\n",
      "8568\n"
     ]
    }
   ],
   "source": [
    "\"\"\"Write a HashTable class that stores strings\n",
    "in a hash table, where keys are calculated\n",
    "using the first two letters of the string.\"\"\"\n",
    "\n",
    "class HashTable:\n",
    "    def __init__(self):\n",
    "        self.table = [None]*10000\n",
    "    \n",
    "    def calculate_hash_value(self, string):\n",
    "        \"\"\"Helper function to calculate a hash value from a string.\"\"\"\n",
    "        hash_value = ord(string[0]) * 100 + ord(string[1])\n",
    "        return hash_value\n",
    "    \n",
    "    def store(self, string):\n",
    "        \"\"\"Input a string that's stored in the table.\"\"\"\n",
    "        hash_value = self.calculate_hash_value(string)\n",
    "        if self.table[hash_value] is not None:\n",
    "            self.table[hash_value].append(string)\n",
    "        else:\n",
    "            self.table[hash_value] = [string]\n",
    "    \n",
    "    def lookup(self, string):\n",
    "        \"\"\"Return the hash value if the string is already in the table. Return -1 otherwise.\"\"\"\n",
    "        hash_value = self.calculate_hash_value(string)\n",
    "        if self.table[hash_value] is not None:\n",
    "            if string in self.table[hash_value]:\n",
    "                return hash_value\n",
    "        return -1\n",
    "    \n",
    "    \n",
    "# Setup\n",
    "hash_table = HashTable()\n",
    "\n",
    "# Test calculate_hash_value\n",
    "# Should be 8568\n",
    "print(hash_table.calculate_hash_value('UDACITY'))\n",
    "\n",
    "# Test lookup edge case\n",
    "# Should be -1\n",
    "print(hash_table.lookup('UDACITY'))\n",
    "\n",
    "# Test store\n",
    "hash_table.store('UDACITY')\n",
    "# Should be 8568\n",
    "print(hash_table.lookup('UDACITY'))\n",
    "\n",
    "# Test store edge case\n",
    "hash_table.store('UDACIOUS')\n",
    "# Should be 8568\n",
    "print(hash_table.lookup('UDACIOUS'))\n"
   ]
  }
 ],
 "metadata": {
  "kernelspec": {
   "display_name": "Python 3 (ipykernel)",
   "language": "python",
   "name": "python3"
  },
  "language_info": {
   "codemirror_mode": {
    "name": "ipython",
    "version": 3
   },
   "file_extension": ".py",
   "mimetype": "text/x-python",
   "name": "python",
   "nbconvert_exporter": "python",
   "pygments_lexer": "ipython3",
   "version": "3.7.11"
  }
 },
 "nbformat": 4,
 "nbformat_minor": 5
}
