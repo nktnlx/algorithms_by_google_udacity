{
 "cells": [
  {
   "cell_type": "markdown",
   "id": "1bd033e2-38eb-4d9d-83b5-3fe493446ae3",
   "metadata": {},
   "source": [
    "# Intro to Data Structures and Algorithms "
   ]
  },
  {
   "cell_type": "markdown",
   "id": "b8678bae-32c2-4dfd-b915-f6c6b22b9e26",
   "metadata": {
    "tags": []
   },
   "source": [
    "[course link](https://learn.udacity.com/courses/ud513)"
   ]
  },
  {
   "cell_type": "markdown",
   "id": "9ec91368-53c8-4317-bf12-e21995bfec83",
   "metadata": {},
   "source": [
    "## Lesson 3. Maps and Hashing"
   ]
  },
  {
   "cell_type": "markdown",
   "id": "0bf9b8d2-b9fa-41d3-a755-1783fb823734",
   "metadata": {},
   "source": [
    "### Sets and Maps"
   ]
  },
  {
   "cell_type": "markdown",
   "id": "3050c303-0ab6-4cdb-93f0-44cc22c9b254",
   "metadata": {},
   "source": [
    "The defining characteristic of a map is its key-value structure.  \n",
    "Actualy a dictionary in CS is a map.  "
   ]
  },
  {
   "cell_type": "markdown",
   "id": "7382fa47-2abd-48e6-8f58-41e84f5f5a71",
   "metadata": {},
   "source": [
    "Set - data structure comparable to a list. The bigest difference is that a list has some order of the elemnts, while set is unordered data structure. Also sets do not allow for repeated elements. "
   ]
  },
  {
   "cell_type": "markdown",
   "id": "1fa9ee4d-3955-4213-b303-dbcb37397ea9",
   "metadata": {},
   "source": [
    "In Python, sets are unordered collections of unique elements. This means that you cannot access set elements by index directly. "
   ]
  },
  {
   "cell_type": "markdown",
   "id": "c7d888d0-b68d-46cf-b29b-ed52f3d92583",
   "metadata": {},
   "source": [
    "Sets in Python are mutable. This means that you can add or remove elements from a set.   \n",
    "However, it’s important to note that while the set itself may be modified, the elements contained in the set must be of an immutable type."
   ]
  },
  {
   "cell_type": "markdown",
   "id": "bb5dab58-4045-4652-ba19-320f1d619ea1",
   "metadata": {},
   "source": [
    "Map - is a set based data structure.  \n",
    "Map <key, value>  \n",
    "The keys in a dictionary is a set, i.e. keys should be unique! "
   ]
  },
  {
   "cell_type": "markdown",
   "id": "4524f26c-dac7-4ce9-978e-a63ebb2c391b",
   "metadata": {},
   "source": [
    "In Python version 3.7 and later, dictionaries are ordered. This means that the items have a defined order, and that order will not change.  \n",
    "However, in Python 3.6 and earlier versions, dictionaries were unordered.  "
   ]
  },
  {
   "cell_type": "markdown",
   "id": "960e8e14-afd7-462e-8cb3-65f02c6d24e7",
   "metadata": {},
   "source": [
    "#### Task 1. "
   ]
  },
  {
   "cell_type": "code",
   "execution_count": 27,
   "id": "67547f62-6816-4570-ad2a-8c3c4c83d842",
   "metadata": {
    "tags": []
   },
   "outputs": [
    {
     "name": "stdout",
     "output_type": "stream",
     "text": [
      "1\n",
      "Atlanta\n",
      "Mountain View\n",
      "2\n",
      "Bangalore - India\n",
      "Shanghai - China\n"
     ]
    }
   ],
   "source": [
    "\"\"\"Time to play with Python dictionaries!\n",
    "You're going to work on a dictionary that\n",
    "stores cities by country and continent.\n",
    "One is done for you - the city of Mountain \n",
    "View is in the USA, which is in North America.\n",
    "\n",
    "You need to add the cities listed below by\n",
    "modifying the structure.\n",
    "Then, you should print out the values specified\n",
    "by looking them up in the structure.\n",
    "\n",
    "Cities to add:\n",
    "Bangalore (India, Asia)\n",
    "Atlanta (USA, North America)\n",
    "Cairo (Egypt, Africa)\n",
    "Shanghai (China, Asia)\"\"\"\n",
    "\n",
    "locations = {'North America': {'USA': ['Mountain View']}}\n",
    "\n",
    "\"\"\"Print the following (using \"print\").\n",
    "1. A list of all cities in the USA in\n",
    "alphabetic order.\n",
    "2. All cities in Asia, in alphabetic\n",
    "order, next to the name of the country.\n",
    "In your output, label each answer with a number\n",
    "so it looks like this:\n",
    "1\n",
    "American City\n",
    "American City\n",
    "2\n",
    "Asian City - Country\n",
    "Asian City - Country\"\"\"\n",
    "\n",
    "cities_to_add = ['Bangalore (India, Asia)',\n",
    "                 'Atlanta (USA, North America)',\n",
    "                 'Cairo (Egypt, Africa)',\n",
    "                 'Shanghai (China, Asia)']\n",
    "\n",
    "\n",
    "# helper function to unfold a sublist in a list\n",
    "def unfold(lst):\n",
    "    ans = []\n",
    "    for i in lst:\n",
    "        if type(i) != list:\n",
    "            ans.append(i)\n",
    "        else:\n",
    "            ans.extend(i)\n",
    "    return ans\n",
    "\n",
    "# adding data to our dictionary\n",
    "for city in cities_to_add:\n",
    "    city = city.split(', ')\n",
    "    city[0] = city[0].replace('(', '').replace(',', '').split(' ')\n",
    "    city[1] = city[1].replace(')', '')\n",
    "    city = unfold(city)\n",
    "    if city[2] in locations:\n",
    "        if city[1] in locations[city[2]]:\n",
    "            locations[city[2]][city[1]].append(city[0])\n",
    "        else:\n",
    "            locations[city[2]][city[1]] = [city[0]]\n",
    "    else:\n",
    "        locations[city[2]] = {city[1]: [city[0]]}\n",
    "\n",
    "\n",
    "# Print a list of all cities in the USA in alphabetic order.\n",
    "for k, v in locations.items():\n",
    "    if k == 'North America' and 'USA' in v:\n",
    "        for country, cities in v.items():\n",
    "            if country == 'USA':\n",
    "                print(1, *sorted(cities), sep='\\n')\n",
    "            \n",
    "            \n",
    "# Print all cities in Asia, in alphabetic order, next to the name of the country\n",
    "for k, v in locations.items():\n",
    "    if k == 'Asia':\n",
    "        ans = []\n",
    "        for country, cities in v.items():\n",
    "            for c in cities:\n",
    "                to_add = c + ' - ' + country\n",
    "                ans.append(to_add)\n",
    "print(2, *sorted(ans), sep='\\n')"
   ]
  },
  {
   "cell_type": "markdown",
   "id": "844f93c1-15fb-4fa2-8391-50c37e1a6587",
   "metadata": {},
   "source": [
    "### Hashing"
   ]
  },
  {
   "cell_type": "code",
   "execution_count": null,
   "id": "8d1c3dab-94f4-4fc8-978c-f83cbc573cd4",
   "metadata": {},
   "outputs": [],
   "source": [
    "tbc.."
   ]
  },
  {
   "cell_type": "code",
   "execution_count": null,
   "id": "c34286f0-303d-46ec-9efc-00235495d6bb",
   "metadata": {},
   "outputs": [],
   "source": []
  },
  {
   "cell_type": "code",
   "execution_count": null,
   "id": "77365321-ed75-4f6c-88eb-d7ea51a17ec6",
   "metadata": {},
   "outputs": [],
   "source": []
  },
  {
   "cell_type": "code",
   "execution_count": null,
   "id": "20cf4bd4-f2c0-4a9f-8763-0f1a4bb910ad",
   "metadata": {},
   "outputs": [],
   "source": []
  },
  {
   "cell_type": "code",
   "execution_count": null,
   "id": "389ddb5b-98b0-4d64-bb25-b72bab9f67e1",
   "metadata": {},
   "outputs": [],
   "source": []
  },
  {
   "cell_type": "markdown",
   "id": "03567d44-8912-4416-942a-3cbf74bb3eb7",
   "metadata": {},
   "source": [
    "### Collision"
   ]
  },
  {
   "cell_type": "code",
   "execution_count": null,
   "id": "7d665581-997e-434e-95c3-789e48d48364",
   "metadata": {},
   "outputs": [],
   "source": []
  },
  {
   "cell_type": "code",
   "execution_count": null,
   "id": "03cd4cc0-c200-4dcf-89aa-808344829576",
   "metadata": {},
   "outputs": [],
   "source": []
  },
  {
   "cell_type": "code",
   "execution_count": null,
   "id": "6ed43760-fb7b-480c-9204-0dcd79f21cdd",
   "metadata": {},
   "outputs": [],
   "source": []
  },
  {
   "cell_type": "code",
   "execution_count": null,
   "id": "e9b38041-ace0-49a6-97fb-97bafd371d4b",
   "metadata": {},
   "outputs": [],
   "source": []
  },
  {
   "cell_type": "code",
   "execution_count": null,
   "id": "e846a6d0-d313-4fe2-becb-0b74af64eefd",
   "metadata": {},
   "outputs": [],
   "source": []
  },
  {
   "cell_type": "markdown",
   "id": "6b5ae682-71ee-4173-bfbd-ea34565b31e7",
   "metadata": {},
   "source": [
    "### Load Factor"
   ]
  },
  {
   "cell_type": "code",
   "execution_count": null,
   "id": "0d8e5da5-e0a9-4e66-8f47-930755aba1d4",
   "metadata": {},
   "outputs": [],
   "source": []
  },
  {
   "cell_type": "code",
   "execution_count": null,
   "id": "1435d83e-b660-4c4e-a4c4-a614584d9742",
   "metadata": {},
   "outputs": [],
   "source": []
  },
  {
   "cell_type": "code",
   "execution_count": null,
   "id": "adf3f7dd-3cd8-4578-b652-4f8a06460ce8",
   "metadata": {},
   "outputs": [],
   "source": []
  },
  {
   "cell_type": "code",
   "execution_count": null,
   "id": "23989557-a087-4a87-888e-978a37342558",
   "metadata": {},
   "outputs": [],
   "source": []
  },
  {
   "cell_type": "code",
   "execution_count": null,
   "id": "f443333c-e7a2-4f7b-a2d3-dacda8154c0c",
   "metadata": {},
   "outputs": [],
   "source": []
  },
  {
   "cell_type": "markdown",
   "id": "a9e38a1b-f8a6-40f5-9b20-a3c6e5bf1ba1",
   "metadata": {},
   "source": [
    "### Hash Maps"
   ]
  },
  {
   "cell_type": "code",
   "execution_count": null,
   "id": "28e799f2-b393-496c-a394-31d82929906f",
   "metadata": {},
   "outputs": [],
   "source": []
  },
  {
   "cell_type": "code",
   "execution_count": null,
   "id": "7e77da52-8ccf-403d-a3be-574a51f76062",
   "metadata": {},
   "outputs": [],
   "source": []
  },
  {
   "cell_type": "code",
   "execution_count": null,
   "id": "c2dc8829-71fd-4e63-af1e-9aa011572523",
   "metadata": {},
   "outputs": [],
   "source": []
  },
  {
   "cell_type": "code",
   "execution_count": null,
   "id": "8bfa2077-1c61-48cd-a2d5-069233146e86",
   "metadata": {},
   "outputs": [],
   "source": []
  },
  {
   "cell_type": "code",
   "execution_count": null,
   "id": "d809d5e9-6902-425b-8ec8-4a9fd94ad1a0",
   "metadata": {},
   "outputs": [],
   "source": []
  },
  {
   "cell_type": "markdown",
   "id": "5d83f228-21ec-4382-b022-5799d0cab201",
   "metadata": {},
   "source": [
    "### String Keys"
   ]
  },
  {
   "cell_type": "code",
   "execution_count": null,
   "id": "45e26727-a413-4a61-9be1-2bfc4740e3da",
   "metadata": {},
   "outputs": [],
   "source": []
  },
  {
   "cell_type": "code",
   "execution_count": null,
   "id": "dbde8586-3ccc-4684-89a9-b052de5fa073",
   "metadata": {},
   "outputs": [],
   "source": []
  },
  {
   "cell_type": "code",
   "execution_count": null,
   "id": "c5bf5217-e36a-4e85-9a6b-67e2bb477285",
   "metadata": {},
   "outputs": [],
   "source": []
  },
  {
   "cell_type": "code",
   "execution_count": null,
   "id": "c12363a2-ff65-4d18-b1c8-7657c9256de9",
   "metadata": {},
   "outputs": [],
   "source": []
  },
  {
   "cell_type": "code",
   "execution_count": null,
   "id": "81f8c26d-154e-40f2-b5fd-ecf789a31d5f",
   "metadata": {},
   "outputs": [],
   "source": []
  }
 ],
 "metadata": {
  "kernelspec": {
   "display_name": "Python 3 (ipykernel)",
   "language": "python",
   "name": "python3"
  },
  "language_info": {
   "codemirror_mode": {
    "name": "ipython",
    "version": 3
   },
   "file_extension": ".py",
   "mimetype": "text/x-python",
   "name": "python",
   "nbconvert_exporter": "python",
   "pygments_lexer": "ipython3",
   "version": "3.7.11"
  }
 },
 "nbformat": 4,
 "nbformat_minor": 5
}
