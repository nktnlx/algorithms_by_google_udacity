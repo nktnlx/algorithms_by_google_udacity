{
 "cells": [
  {
   "cell_type": "markdown",
   "id": "1bd033e2-38eb-4d9d-83b5-3fe493446ae3",
   "metadata": {},
   "source": [
    "# Intro to Data Structures and Algorithms "
   ]
  },
  {
   "cell_type": "markdown",
   "id": "b8678bae-32c2-4dfd-b915-f6c6b22b9e26",
   "metadata": {
    "tags": []
   },
   "source": [
    "[course link](https://learn.udacity.com/courses/ud513)"
   ]
  },
  {
   "cell_type": "markdown",
   "id": "9ec91368-53c8-4317-bf12-e21995bfec83",
   "metadata": {},
   "source": [
    "## Lesson 8. Technical Interviewing Techniques"
   ]
  },
  {
   "cell_type": "markdown",
   "id": "0bf9b8d2-b9fa-41d3-a755-1783fb823734",
   "metadata": {},
   "source": [
    "### Interview Introduction"
   ]
  },
  {
   "cell_type": "markdown",
   "id": "dc26265c-1bab-442e-9ee4-7bdf092331e0",
   "metadata": {},
   "source": [
    "During an interview they want not only to get the right answer for the question asked, but they also want to see your approach to solving problems and your communication skills. "
   ]
  },
  {
   "cell_type": "markdown",
   "id": "8a30e1e8-fe4d-4f65-a6cd-9e521f047966",
   "metadata": {},
   "source": [
    "Steps of a successful interview:\n",
    "- clarifying the question\n",
    "- generating inputs & outputs\n",
    "- generating test cases\n",
    "- brainstorming\n",
    "- runtime analysis\n",
    "- coding\n",
    "- debuggin"
   ]
  },
  {
   "cell_type": "markdown",
   "id": "844f93c1-15fb-4fa2-8391-50c37e1a6587",
   "metadata": {},
   "source": [
    "### Clarifying the Question"
   ]
  },
  {
   "cell_type": "markdown",
   "id": "bdaa2a1a-6d0d-4af7-900c-b9e291a0aa5b",
   "metadata": {},
   "source": [
    "Before answering, do not forget to make sure taht you are solving the right problem by clarifying the question asked. "
   ]
  },
  {
   "cell_type": "markdown",
   "id": "913e3869-f5c9-43fe-b643-0c70175132e5",
   "metadata": {},
   "source": [
    "Because the same problem can have different variations with some nuances, so it's important to make sure you are solving the right variation. "
   ]
  },
  {
   "cell_type": "markdown",
   "id": "e3ca4a2e-58e2-443f-aad7-6ee5d454da72",
   "metadata": {},
   "source": [
    "Clarifying a problem is crucial to being a good software developer or a data analyst. "
   ]
  },
  {
   "cell_type": "markdown",
   "id": "8fd5a333-a8b5-4c0c-87bf-25d8c6638ea8",
   "metadata": {},
   "source": [
    "You need to prove to your interviewer that you won't dive head first into a problem and potentially waste time writing code that doesn't solve the initial issue. "
   ]
  },
  {
   "cell_type": "markdown",
   "id": "6b5ae682-71ee-4173-bfbd-ea34565b31e7",
   "metadata": {},
   "source": [
    "### Confirming Inputs"
   ]
  },
  {
   "cell_type": "markdown",
   "id": "6e6c8ddb-a50b-4109-aa49-d3f5f876c744",
   "metadata": {},
   "source": [
    "Before starting to code, you have to confirm with an interviewer what will be the input (what is given in the problem) and output (what the result needs to be) look like.  "
   ]
  },
  {
   "cell_type": "markdown",
   "id": "bf3f0b24-77ed-42d8-a8a3-2cbeb171784c",
   "metadata": {},
   "source": [
    "By confirming inputs, in a way you are also confirming the question again to make sure you are on the right track. "
   ]
  },
  {
   "cell_type": "markdown",
   "id": "cba70d10-6aa8-49db-a53a-8aeacac55a72",
   "metadata": {},
   "source": [
    "### Test Cases"
   ]
  },
  {
   "cell_type": "markdown",
   "id": "56bda408-f35e-45ea-a99d-7c6278244ecc",
   "metadata": {},
   "source": [
    "Start thinking through tests and edge cases for inputs into the algorithm. "
   ]
  },
  {
   "cell_type": "markdown",
   "id": "af10adc6-57d4-497e-afe6-210b84af50ec",
   "metadata": {},
   "source": [
    "When you are thinking of edge cases, please, think also of possible weird inputs that you'll have to handle, like None, empty lists, etc. You always have to account for those. "
   ]
  },
  {
   "cell_type": "markdown",
   "id": "0abda59b-12a5-4a74-859b-4159853a2c50",
   "metadata": {},
   "source": [
    "It is always a good idea to think about how your code handles Nulls, zeroes and empty inputs since not addressing them could cause your code to crash. "
   ]
  },
  {
   "cell_type": "markdown",
   "id": "51ede707-7f46-4bfe-a027-a7b67211e560",
   "metadata": {},
   "source": [
    "### Brainstorming"
   ]
  },
  {
   "cell_type": "markdown",
   "id": "dbcd10e7-daf8-44eb-9266-b14fbd2c4275",
   "metadata": {},
   "source": [
    "Try to have a great communication with the intreviewer. "
   ]
  },
  {
   "cell_type": "markdown",
   "id": "1625b8cf-ac4a-4a43-a8c0-6e4e686b9c00",
   "metadata": {},
   "source": [
    "Take interviewer's cues to guide yourself towards the correct solution. "
   ]
  },
  {
   "cell_type": "markdown",
   "id": "00c66411-047d-4009-9d42-015f1e4d80b6",
   "metadata": {},
   "source": [
    "The biggest misconception during an interview process could be when you think that the interviewer is not on your side.  \n",
    "But really the interviewer is there to help you and being able to take in their feedback demonstrates your teamwork skills. Not to mention it helps you to solve the problem. "
   ]
  },
  {
   "cell_type": "markdown",
   "id": "30017044-5414-49b7-94fc-ec1673f6b04c",
   "metadata": {},
   "source": [
    "Often if you are stuck on a certain portion of the problem, you can begin to brainstorm algorithms and data structures you know, that potentially could help you to find the solution or the next move in the right direction. "
   ]
  },
  {
   "cell_type": "markdown",
   "id": "95724fbf-8612-4a2e-bb49-5030a9413491",
   "metadata": {},
   "source": [
    "### Runtime Analysis"
   ]
  },
  {
   "cell_type": "markdown",
   "id": "dc5dc2ca-41f0-4ac1-907e-fe612725675c",
   "metadata": {},
   "source": [
    "Before jumping to coding your solution you have to calculate BigO runtime."
   ]
  },
  {
   "cell_type": "markdown",
   "id": "ae588753-a37e-4bab-806b-41544ea2d505",
   "metadata": {},
   "source": [
    "This is an important step because here you may realize that your solution is not optimal."
   ]
  },
  {
   "cell_type": "markdown",
   "id": "ae48eb7d-a958-4355-889b-e1f8a3a5e821",
   "metadata": {},
   "source": [
    "### Coding"
   ]
  },
  {
   "cell_type": "markdown",
   "id": "69a9eaa4-9ced-4f0f-927f-39280f08e3cf",
   "metadata": {},
   "source": [
    "We often see interviewees just reading out their code as they code which can get annoying and does not really build understanding with the interviewer. "
   ]
  },
  {
   "cell_type": "markdown",
   "id": "87859c35-8e14-4f58-9357-db9a3b051b63",
   "metadata": {},
   "source": [
    "Focus more on explaining the purpose of the code while writing it.  \n",
    "By talking out loud you give your interviewer the chance to junp in and help if your logic is wrong.  \n",
    "You also prove to your interviewer that you are actually thinking through all of your code. If you just write code you might be spitting out a memorized answer. "
   ]
  },
  {
   "cell_type": "markdown",
   "id": "b87a7289-fe8a-4b07-af2e-1eb280bc6ce5",
   "metadata": {},
   "source": [
    "### Debugging"
   ]
  },
  {
   "cell_type": "markdown",
   "id": "65b6a5b3-b421-40f4-9cff-9bde3f2a66b9",
   "metadata": {},
   "source": [
    "The debugging process is a very important part of the algorithm interview."
   ]
  },
  {
   "cell_type": "markdown",
   "id": "56222e2d-799f-48ff-a442-ac443ec7f017",
   "metadata": {},
   "source": [
    "Not only does this show the interviewer that the candidate checks their code, it may even help the candidate find mistakes that they missed the first time they were coding their solution. "
   ]
  },
  {
   "cell_type": "markdown",
   "id": "7c866453-cceb-4791-a57d-c0d6fe17f6b6",
   "metadata": {},
   "source": [
    "It is always easy to miss a semicolon or forget to return a result, so check your answer accurately and do the debugging process after you finished writing your code. "
   ]
  },
  {
   "cell_type": "markdown",
   "id": "44a8f2e4-8e9a-461a-a68b-05ff1b69bbed",
   "metadata": {},
   "source": [
    "### Interview Wrap-Up"
   ]
  },
  {
   "cell_type": "markdown",
   "id": "9d1f841e-ea83-4713-9479-a93f1895d330",
   "metadata": {},
   "source": [
    "Follow the seven steps of a successful interview described above and remember the more practice you have the better change you'll perform better and get the desired job.  "
   ]
  },
  {
   "cell_type": "markdown",
   "id": "8ae2fab6-2e43-4c81-ac80-069b6ddc278a",
   "metadata": {},
   "source": [
    "Make sure to approach your interviews with a positive mindset and never give up!"
   ]
  },
  {
   "cell_type": "markdown",
   "id": "3a9313de-16c1-4433-8c80-56370ccfbabc",
   "metadata": {},
   "source": [
    "Peer-reviewed online live interview practice website --> [link](https://www.pramp.com/#/)."
   ]
  },
  {
   "cell_type": "markdown",
   "id": "d4ff1b7c-e830-4494-b32f-0201d67e05a4",
   "metadata": {},
   "source": [
    "### Additional Resources "
   ]
  },
  {
   "cell_type": "markdown",
   "id": "2b239e0d-160c-4a75-a2e8-92bcfb41c214",
   "metadata": {},
   "source": [
    "#### Websites"
   ]
  },
  {
   "cell_type": "markdown",
   "id": "16722512-5bbe-4e14-9879-0dc96af297f3",
   "metadata": {},
   "source": [
    "- [HackerRank](https://www.hackerrank.com): Website and community with programming challeges that you can go through for additional practice.\n",
    "- [Project Euler](https://projecteuler.net): This website has a ton of logic problems that you can practice writing coded solutions to.\n",
    "- [Interview Cake](https://www.interviewcake.com): Practice questions and some tutorials available.\n",
    "- [Interactive Python](https://runestone.academy/user/login?_next=/): Loads of tutorials on pretty much every topic covered here and many more, along with Python examples and concept questions.\n",
    "- [Topcoder](https://www.topcoder.com): New practice problems every day, and some tech companies use answers to those problems to find new potential hires.\n",
    "- [LeetCode](https://leetcode.com): Practice problems, mock interviews, and articles about problems.\n",
    "- [BigO Cheat Sheet](https://www.bigocheatsheet.com): Summary of efficiencies for most common algorithms and data structures."
   ]
  },
  {
   "cell_type": "markdown",
   "id": "af9ca7f6-0760-4b0c-8755-893ab7b348a1",
   "metadata": {},
   "source": [
    "#### Books"
   ]
  },
  {
   "cell_type": "markdown",
   "id": "3153fcf5-4a83-4fba-8d46-c2a5bbdf8365",
   "metadata": {},
   "source": [
    "- Cracking the Coding Interview by Gayle Laakmann McDowell  \n",
    "- Introduction to Algorithms by Charles E. Leiserson, Clifford Stein, Ronald Rivest, and Thomas H. Cormen\n",
    "- Programming Interviews Exposed by John Morgan, Noah Kindler, and Eric Giguere\n",
    "- Algorithms, 4th Edition by Robert Sedgewick and Kevin Wayne\n",
    "- Elements of Programming Interviews by Adnan Aziz"
   ]
  },
  {
   "cell_type": "markdown",
   "id": "c5f66201-0072-4613-bcc4-6b11f9f9529e",
   "metadata": {},
   "source": [
    "#### Misc"
   ]
  },
  {
   "cell_type": "markdown",
   "id": "1f3d1e59-76f3-4ee2-b3e3-2ab816acd5fd",
   "metadata": {},
   "source": [
    "Github Repository (Collections of Problems) --> [link](https://github.com/mre/the-coding-interview)."
   ]
  }
 ],
 "metadata": {
  "kernelspec": {
   "display_name": "Python 3 (ipykernel)",
   "language": "python",
   "name": "python3"
  },
  "language_info": {
   "codemirror_mode": {
    "name": "ipython",
    "version": 3
   },
   "file_extension": ".py",
   "mimetype": "text/x-python",
   "name": "python",
   "nbconvert_exporter": "python",
   "pygments_lexer": "ipython3",
   "version": "3.7.11"
  }
 },
 "nbformat": 4,
 "nbformat_minor": 5
}
