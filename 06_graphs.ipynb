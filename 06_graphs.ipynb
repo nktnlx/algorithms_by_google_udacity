{
 "cells": [
  {
   "cell_type": "markdown",
   "id": "1bd033e2-38eb-4d9d-83b5-3fe493446ae3",
   "metadata": {},
   "source": [
    "# Intro to Data Structures and Algorithms "
   ]
  },
  {
   "cell_type": "markdown",
   "id": "b8678bae-32c2-4dfd-b915-f6c6b22b9e26",
   "metadata": {
    "tags": []
   },
   "source": [
    "[course link](https://learn.udacity.com/courses/ud513)"
   ]
  },
  {
   "cell_type": "markdown",
   "id": "9ec91368-53c8-4317-bf12-e21995bfec83",
   "metadata": {},
   "source": [
    "## Lesson 6. Graphs"
   ]
  },
  {
   "cell_type": "markdown",
   "id": "0bf9b8d2-b9fa-41d3-a755-1783fb823734",
   "metadata": {},
   "source": [
    "### Graphs Introduction"
   ]
  },
  {
   "cell_type": "markdown",
   "id": "16b868d5-11c4-4f4a-830f-231424b9b43c",
   "metadata": {},
   "source": [
    "Graph - a data structure designed to show relationships between objects. "
   ]
  },
  {
   "cell_type": "markdown",
   "id": "8849997b-88f8-4f02-98ff-0f2c7567a10f",
   "metadata": {},
   "source": [
    "Graphs sometimes called a network. "
   ]
  },
  {
   "cell_type": "markdown",
   "id": "0753c50b-f86a-45fc-9a05-f81dc0c99562",
   "metadata": {},
   "source": [
    "A node of a graph is called a **vertex**."
   ]
  },
  {
   "cell_type": "markdown",
   "id": "d37239e5-8ca2-4d90-9eb6-26d1dd76618d",
   "metadata": {},
   "source": [
    "Connections between nodes are called **edges**. And edges can store data too. It's usually data about the strength of a connection. "
   ]
  },
  {
   "cell_type": "markdown",
   "id": "27f123d2-3373-4040-8a31-b03be521a4ef",
   "metadata": {},
   "source": [
    "Actually, a tree is a specific type of graph. But graphs don't have a root node as trees do.  "
   ]
  },
  {
   "cell_type": "markdown",
   "id": "844f93c1-15fb-4fa2-8391-50c37e1a6587",
   "metadata": {},
   "source": [
    "### Directions and Cycles"
   ]
  },
  {
   "cell_type": "markdown",
   "id": "df644cf2-18f7-4709-a0b6-8bb1d71ee6ff",
   "metadata": {},
   "source": [
    "Edges of a graph can have a **direction**, meaning the relationship between two nodes that only applies one way and not the other. "
   ]
  },
  {
   "cell_type": "markdown",
   "id": "e992c878-5961-4e89-a0ee-1fdc1ad0efb8",
   "metadata": {},
   "source": [
    "**Directed graph** is a term for a graph where edges have a sense of direction. "
   ]
  },
  {
   "cell_type": "markdown",
   "id": "057b5fcf-cd88-4313-8f41-0af52ae33a52",
   "metadata": {},
   "source": [
    "Undirected graph has edges with no sense of direction. "
   ]
  },
  {
   "cell_type": "markdown",
   "id": "89e65668-3b4a-4574-a0f1-ee2ef0f15f40",
   "metadata": {},
   "source": [
    "A graph can have cycles, but trees can't.  \n",
    "\n",
    "A **cycle** happens in a graph when you start at one node and follow edges all the way back to that node. "
   ]
  },
  {
   "cell_type": "markdown",
   "id": "79ed1398-f75d-4ac3-8495-d6f3c5502923",
   "metadata": {},
   "source": [
    "**Acyclic graph** means that it has no cycles. "
   ]
  },
  {
   "cell_type": "markdown",
   "id": "d39a70f2-21f1-40aa-b639-8ca974adc4cf",
   "metadata": {},
   "source": [
    "DAG - directed acyclic graph. "
   ]
  },
  {
   "cell_type": "markdown",
   "id": "6b5ae682-71ee-4173-bfbd-ea34565b31e7",
   "metadata": {},
   "source": [
    "### Connectivity "
   ]
  },
  {
   "cell_type": "markdown",
   "id": "e6114a20-4165-4cdd-a79b-307a830eb6bd",
   "metadata": {},
   "source": [
    "A **disconnected graph** has some vertex that can't be reached by the other vertices. It might have one vertex off to the side with no edges. It also could have two so-called connected components, which are connected graphs on their own but have no connection between them. "
   ]
  },
  {
   "cell_type": "markdown",
   "id": "8e222544-d223-417d-9923-e16044317e4d",
   "metadata": {},
   "source": [
    "A **connected graph** has no disconnected vertices.  \n",
    "In a connected graph, there is some path between one vertex and every other vertex."
   ]
  },
  {
   "cell_type": "markdown",
   "id": "b817375d-520c-412d-9e41-c61f9dbf8a85",
   "metadata": {},
   "source": [
    "**Graph connectivity** - measures the minimum number of elements that need to be removed for a graph to become disconnected. You can use connectivity to answer the question which graph is stronger. "
   ]
  },
  {
   "cell_type": "markdown",
   "id": "6ecd2c3e-1e7a-47b5-9a64-ef9e6778a713",
   "metadata": {},
   "source": [
    "A directed graph is said to be **strongly connected** if there is a path between any two pairs of vertices in the graph. In other words, we can reach any vertex in the graph from any other vertex by following the directed edges."
   ]
  },
  {
   "cell_type": "markdown",
   "id": "1655a0ca-139a-428a-aa94-17cda8b29478",
   "metadata": {},
   "source": [
    "A **weakly connected** graph is a graph where there is at least one path between any two vertices, but those paths may not necessarily be directed. In other words, if we ignore the direction of the edges in a directed graph, we can obtain an undirected graph. If that undirected graph is connected, then the original directed graph is weakly connected.\n",
    "\n"
   ]
  },
  {
   "cell_type": "markdown",
   "id": "a9e38a1b-f8a6-40f5-9b20-a3c6e5bf1ba1",
   "metadata": {},
   "source": [
    "### Graph Representations"
   ]
  },
  {
   "cell_type": "markdown",
   "id": "e617ec67-2a46-46f0-8178-b19d7155672a",
   "metadata": {},
   "source": [
    "You can build a Vertex and an Edge objects to represent graphs if you are using OOP. "
   ]
  },
  {
   "cell_type": "markdown",
   "id": "68f7d96d-ddd1-496f-962f-bfc0a87c33dd",
   "metadata": {
    "tags": []
   },
   "source": [
    "Also you can use lists data structure to represent graphs. "
   ]
  },
  {
   "cell_type": "code",
   "execution_count": 2,
   "id": "d75fedfd-01d1-47e2-bd6c-3c8d584cdc2f",
   "metadata": {
    "tags": []
   },
   "outputs": [],
   "source": [
    "# edge list graph representation example\n",
    "edge_list_graph = [[0, 1], [1, 2],\n",
    "                   [1, 3], [2, 3]]"
   ]
  },
  {
   "cell_type": "code",
   "execution_count": 5,
   "id": "b0c32418-ac02-4836-8116-e0651f4bb837",
   "metadata": {
    "tags": []
   },
   "outputs": [],
   "source": [
    "# adjacency list graph representation example\n",
    "adjacency_list_graph = [[1], [0, 2, 3],\n",
    "                        [1, 3], [1, 2]]\n",
    "# here we use index in a list as an id number of verices in a graph"
   ]
  },
  {
   "cell_type": "code",
   "execution_count": 6,
   "id": "6b427db3-267f-44b2-b635-186a8bd6a70f",
   "metadata": {
    "tags": []
   },
   "outputs": [],
   "source": [
    "# another way to represent a graph is an adjacency matrix\n",
    "adjacency_matrix_graph = [[0, 1, 0, 0],\n",
    "                          [1, 0, 1, 1],\n",
    "                          [0, 1, 0, 1],\n",
    "                          [0, 1, 1, 0]]\n",
    "# node id has its own slot in each subarray, \n",
    "# where subarray values act like a flag\n",
    "# to show whether this node connected to another node or not"
   ]
  },
  {
   "cell_type": "markdown",
   "id": "34e0e18d-2cd1-4052-b346-664bda88feca",
   "metadata": {},
   "source": [
    "Which method of representation you use depends on what makes the most sense for you and what operations you'll be performing the most often.  \n",
    "If you are looking the number of edges connected to a particular node, the adjacency list will probably be the fastest. "
   ]
  },
  {
   "cell_type": "markdown",
   "id": "66709e23-ca01-4ea4-9395-e74574787b82",
   "metadata": {},
   "source": [
    "#### Task 1.\n",
    "\n"
   ]
  },
  {
   "cell_type": "code",
   "execution_count": 7,
   "id": "0c979eb0-7591-4d3b-8e52-b96fd80855a7",
   "metadata": {
    "tags": []
   },
   "outputs": [
    {
     "name": "stdout",
     "output_type": "stream",
     "text": [
      "[(100, 1, 2), (101, 1, 3), (102, 1, 4), (103, 3, 4)]\n",
      "[None, [(2, 100), (3, 101), (4, 102)], None, [(4, 103)], None]\n",
      "[[0, 0, 0, 0, 0], [0, 0, 100, 101, 102], [0, 0, 0, 0, 0], [0, 0, 0, 0, 103], [0, 0, 0, 0, 0]]\n"
     ]
    }
   ],
   "source": [
    "class Node:\n",
    "    def __init__(self, value):\n",
    "        self.value = value\n",
    "        self.edges = []\n",
    "\n",
    "class Edge:\n",
    "    def __init__(self, value, node_from, node_to):\n",
    "        self.value = value\n",
    "        self.node_from = node_from\n",
    "        self.node_to = node_to\n",
    "\n",
    "class Graph:\n",
    "    def __init__(self, nodes=None, edges=None):\n",
    "        self.nodes = nodes or []\n",
    "        self.edges = edges or []\n",
    "\n",
    "    def insert_node(self, new_node_val):\n",
    "        new_node = Node(new_node_val)\n",
    "        self.nodes.append(new_node)\n",
    "        \n",
    "    def insert_edge(self, new_edge_val, node_from_val, node_to_val):\n",
    "        # Find nodes connected to the edge\n",
    "        from_found = None\n",
    "        to_found = None\n",
    "        for node in self.nodes:\n",
    "            if node_from_val == node.value:\n",
    "                from_found = node\n",
    "            if node_to_val == node.value:\n",
    "                to_found = node\n",
    "        # If one or both nodes were not found, create new nodes\n",
    "        if from_found is None:\n",
    "            from_found = Node(node_from_val)\n",
    "            self.nodes.append(from_found)\n",
    "        if to_found is None:\n",
    "            to_found = Node(node_to_val)\n",
    "            self.nodes.append(to_found)\n",
    "        # Create new edge\n",
    "        new_edge = Edge(new_edge_val, from_found, to_found)\n",
    "        from_found.edges.append(new_edge)\n",
    "        to_found.edges.append(new_edge)\n",
    "        self.edges.append(new_edge)\n",
    "\n",
    "    def get_edge_list(self):\n",
    "        \"\"\"\n",
    "        Returns a list of tuples representing edges as\n",
    "        (Edge Value, From Node Value, To Node Value)\n",
    "        \"\"\"\n",
    "        return [(edge.value, edge.node_from.value, edge.node_to.value)\n",
    "                for edge in self.edges]\n",
    "\n",
    "    def get_adjacency_list(self):\n",
    "        \"\"\"\n",
    "        Returns a list of lists representing adjacency list.\n",
    "        The index of the outer list represents \"from\" nodes,\n",
    "        each element in the outer list is a list of tuples.\n",
    "        Each tuple represents (To Node, Edge Value).\n",
    "        \"\"\"\n",
    "        max_index = self.find_max_index()\n",
    "        adjacency_list = [None] * (max_index + 1)\n",
    "        for edge in self.edges:\n",
    "            if adjacency_list[edge.node_from.value]:\n",
    "                adjacency_list[edge.node_from.value].append((edge.node_to.value, edge.value))\n",
    "            else:\n",
    "                adjacency_list[edge.node_from.value] = [(edge.node_to.value, edge.value)]\n",
    "        return adjacency_list\n",
    "    \n",
    "    def find_max_index(self):\n",
    "        max_index = -1\n",
    "        if len(self.nodes):\n",
    "            for node in self.nodes:\n",
    "                if node.value > max_index:\n",
    "                    max_index = node.value\n",
    "        return max_index\n",
    "    \n",
    "    def get_adjacency_matrix(self):\n",
    "        \"\"\"\n",
    "        Returns a matrix, or 2D list representing adjacency matrix.\n",
    "        Row numbers represent from nodes, column numbers represent to nodes.\n",
    "        Store the edge values in each spot, and a 0 if no edge exists.\n",
    "        \"\"\"\n",
    "        max_index = self.find_max_index()\n",
    "        adjacency_matrix = [[0] * (max_index + 1) for _ in range(max_index + 1)]\n",
    "        for edge in self.edges:\n",
    "            adjacency_matrix[edge.node_from.value][edge.node_to.value] = edge.value\n",
    "        return adjacency_matrix\n",
    "\n",
    "    \n",
    "graph = Graph()\n",
    "graph.insert_edge(100, 1, 2)\n",
    "graph.insert_edge(101, 1, 3)\n",
    "graph.insert_edge(102, 1, 4)\n",
    "graph.insert_edge(103, 3, 4)\n",
    "# Should be [(100, 1, 2), (101, 1, 3), (102, 1, 4), (103, 3, 4)]\n",
    "print(graph.get_edge_list())\n",
    "# Should be [None, [(2, 100), (3, 101), (4, 102)], None, [(4, 103)], None]\n",
    "print(graph.get_adjacency_list())\n",
    "# Should be [[0, 0, 0, 0, 0], [0, 0, 100, 101, 102], [0, 0, 0, 0, 0], [0, 0, 0, 0, 103], [0, 0, 0, 0, 0]]\n",
    "print(graph.get_adjacency_matrix())"
   ]
  },
  {
   "cell_type": "markdown",
   "id": "cba70d10-6aa8-49db-a53a-8aeacac55a72",
   "metadata": {},
   "source": [
    "### Graph Traversal"
   ]
  },
  {
   "cell_type": "markdown",
   "id": "fb6c3d4a-b77f-4f37-833d-dc787d01236a",
   "metadata": {},
   "source": [
    "We have two basic methods for graphs traversal:\n",
    "- a depth first search (DFS) where we follow one path as far as it'll go\n",
    "- a breadth first search (BFS) where we look at all the nodes adjacent to one before moving on to the next level"
   ]
  },
  {
   "cell_type": "markdown",
   "id": "b78fb8ff-2e0d-4e9c-a25a-be25990f8de8",
   "metadata": {},
   "source": [
    "Graphs traversal and graphs search basically is the same, except that in a search you exit when you have found the element you were looking for and in a traverse you explore the whole graph. "
   ]
  },
  {
   "cell_type": "markdown",
   "id": "51ede707-7f46-4bfe-a027-a7b67211e560",
   "metadata": {},
   "source": [
    "### DFS"
   ]
  },
  {
   "cell_type": "markdown",
   "id": "0d4a1dc8-d392-4496-ac12-7e7070db71eb",
   "metadata": {},
   "source": [
    "DFS implementation:\n",
    "- there is no obvious place to start\n",
    "- you can begin with any node\n",
    "- mark the first node you selected as seen\n",
    "- a common implementation of DFS is using a stack, so we can store the node we just saw on the stack\n",
    "- next you pick an edge, follow it and mark that node as seen and add it to the stack\n",
    "- as long as there are more edges and more unseen nodes repeat the process\n",
    "- when you do hit a node that you've seen before, just go back to the previous node and try another edge\n",
    "- if you run out of edges with new nodes, you pop the current node from the stack and go back to the one before it, which is just the next one on the stack \n",
    "- you continue this approach until you've popped everything off the stack or you find the node you were originally looking for"
   ]
  },
  {
   "cell_type": "markdown",
   "id": "e9e05fca-83d4-4aaf-aff9-41a5fbf7c00d",
   "metadata": {},
   "source": [
    "There is another common implementation of DFS that uses recursion and no stack:\n",
    "- you just repeat the same process of picking an edge and marking a node as seen until you run out of new nodes to explore \n",
    "- that becomes the base case, and you move back to the last level of recursion, which happens to be the previous node in the search"
   ]
  },
  {
   "cell_type": "markdown",
   "id": "7c5288d6-d653-4b9e-b08c-32232c98710a",
   "metadata": {},
   "source": [
    "The time complexity of DFS, or Depth First Search, is often written as O(V + E), which reads the number of vertices plus the number of edges. This means that the time it takes to complete DFS is proportional to the number of vertices and edges in the graph."
   ]
  },
  {
   "cell_type": "markdown",
   "id": "ebcd2904-b6f9-46a2-80b6-76dadbd34f71",
   "metadata": {},
   "source": [
    "### BFS"
   ]
  },
  {
   "cell_type": "markdown",
   "id": "a6909f41-5288-4d02-b2c0-d757c002680b",
   "metadata": {},
   "source": [
    "BFS implementation:\n",
    "- you visiting every edge and marking off every node as seen\n",
    "- you search every edge of one node before continuing on through the graph\n",
    "- here we use queue data structure instead of a stack\n",
    "- you add seen nodes to the queue\n",
    "- when we run out of edges we deque a node from a queue and use that as our next starting place\n",
    "- you continue the approach until you find the element you were looking for or you visited (marked as seen) all the nodes in the graph"
   ]
  },
  {
   "cell_type": "markdown",
   "id": "d1acf342-0040-40f4-ba69-00fa54817c0c",
   "metadata": {},
   "source": [
    "The time complexity of BFS, or Breadth First Search, is O(V + E).  "
   ]
  },
  {
   "cell_type": "markdown",
   "id": "73b0480f-1dfd-47db-a966-5472a8015040",
   "metadata": {},
   "source": [
    "#### Task 2. "
   ]
  },
  {
   "cell_type": "code",
   "execution_count": 14,
   "id": "bd9f1c50-9f0d-4659-b3af-b2e97521e250",
   "metadata": {
    "tags": []
   },
   "outputs": [
    {
     "name": "stdout",
     "output_type": "stream",
     "text": [
      "Edge List\n",
      "[ (51, 'Mountain View', 'San Francisco'),\n",
      "  (51, 'San Francisco', 'Mountain View'),\n",
      "  (9950, 'Mountain View', 'Shanghai'),\n",
      "  (9950, 'Shanghai', 'Mountain View'),\n",
      "  (10375, 'Mountain View', 'Sao Paolo'),\n",
      "  (10375, 'Sao Paolo', 'Mountain View'),\n",
      "  (9900, 'San Francisco', 'Shanghai'),\n",
      "  (9900, 'Shanghai', 'San Francisco'),\n",
      "  (9130, 'San Francisco', 'Berlin'),\n",
      "  (9130, 'Berlin', 'San Francisco'),\n",
      "  (9217, 'London', 'Shanghai'),\n",
      "  (9217, 'Shanghai', 'London'),\n",
      "  (932, 'London', 'Berlin'),\n",
      "  (932, 'Berlin', 'London'),\n",
      "  (9471, 'London', 'Sao Paolo'),\n",
      "  (9471, 'Sao Paolo', 'London')]\n",
      "\n",
      "Adjacency List\n",
      "[ <map object at 0x7f2ecc2abd10>,\n",
      "  <map object at 0x7f2ecc2abdd0>,\n",
      "  <map object at 0x7f2ecc2abe90>,\n",
      "  <map object at 0x7f2ecc2abf50>,\n",
      "  <map object at 0x7f2ecc295050>,\n",
      "  <map object at 0x7f2ecc295150>,\n",
      "  None]\n",
      "\n",
      "Adjacency Matrix\n",
      "[ [0, 51, 0, 9950, 0, 10375, 0],\n",
      "  [51, 0, 0, 9900, 9130, 0, 0],\n",
      "  [0, 0, 0, 9217, 932, 9471, 0],\n",
      "  [9950, 9900, 9217, 0, 0, 0, 0],\n",
      "  [0, 9130, 932, 0, 0, 0, 0],\n",
      "  [10375, 0, 9471, 0, 0, 0, 0],\n",
      "  [0, 0, 0, 0, 0, 0, 0]]\n",
      "\n",
      "Depth First Search\n",
      "['London', 'Shanghai', 'Mountain View', 'San Francisco', 'Berlin', 'Sao Paolo']\n",
      "\n",
      "Breadth First Search\n",
      "['London', 'Shanghai', 'Berlin', 'Sao Paolo', 'Mountain View', 'San Francisco']\n"
     ]
    }
   ],
   "source": [
    "class Node(object):\n",
    "    def __init__(self, value):\n",
    "        self.value = value\n",
    "        self.edges = []\n",
    "        self.visited = False\n",
    "\n",
    "class Edge(object):\n",
    "    def __init__(self, value, node_from, node_to):\n",
    "        self.value = value\n",
    "        self.node_from = node_from\n",
    "        self.node_to = node_to\n",
    "\n",
    "# You only need to change code with docs strings that have TODO.\n",
    "# Specifically: Graph.dfs_helper and Graph.bfs\n",
    "# New methods have been added to associate node numbers with names\n",
    "# Specifically: Graph.set_node_names\n",
    "# and the methods ending in \"_names\" which will print names instead\n",
    "# of node numbers\n",
    "\n",
    "class Graph(object):\n",
    "    def __init__(self, nodes=None, edges=None):\n",
    "        self.nodes = nodes or []\n",
    "        self.edges = edges or []\n",
    "        self.node_names = []\n",
    "        self._node_map = {}\n",
    "\n",
    "    def set_node_names(self, names):\n",
    "        \"\"\"The Nth name in names should correspond to node number N.\n",
    "        Node numbers are 0 based (starting at 0).\n",
    "        \"\"\"\n",
    "        self.node_names = list(names)\n",
    "\n",
    "    def insert_node(self, new_node_val):\n",
    "        \"Insert a new node with value new_node_val\"\n",
    "        new_node = Node(new_node_val)\n",
    "        self.nodes.append(new_node)\n",
    "        self._node_map[new_node_val] = new_node\n",
    "        return new_node\n",
    "\n",
    "    def insert_edge(self, new_edge_val, node_from_val, node_to_val):\n",
    "        \"Insert a new edge, creating new nodes if necessary\"\n",
    "        nodes = {node_from_val: None, node_to_val: None}\n",
    "        for node in self.nodes:\n",
    "            if node.value in nodes:\n",
    "                nodes[node.value] = node\n",
    "                if all(nodes.values()):\n",
    "                    break\n",
    "        for node_val in nodes:\n",
    "            nodes[node_val] = nodes[node_val] or self.insert_node(node_val)\n",
    "        node_from = nodes[node_from_val]\n",
    "        node_to = nodes[node_to_val]\n",
    "        new_edge = Edge(new_edge_val, node_from, node_to)\n",
    "        node_from.edges.append(new_edge)\n",
    "        node_to.edges.append(new_edge)\n",
    "        self.edges.append(new_edge)\n",
    "\n",
    "    def get_edge_list(self):\n",
    "        \"\"\"Return a list of triples that looks like this:\n",
    "        (Edge Value, From Node, To Node)\"\"\"\n",
    "        return [(e.value, e.node_from.value, e.node_to.value)\n",
    "                for e in self.edges]\n",
    "\n",
    "    def get_edge_list_names(self):\n",
    "        \"\"\"Return a list of triples that looks like this:\n",
    "        (Edge Value, From Node Name, To Node Name)\"\"\"\n",
    "        return [(edge.value,\n",
    "                 self.node_names[edge.node_from.value],\n",
    "                 self.node_names[edge.node_to.value])\n",
    "                for edge in self.edges]\n",
    "\n",
    "    def get_adjacency_list(self):\n",
    "        \"\"\"Return a list of lists.\n",
    "        The indecies of the outer list represent \"from\" nodes.\n",
    "        Each section in the list will store a list\n",
    "        of tuples that looks like this:\n",
    "        (To Node, Edge Value)\"\"\"\n",
    "        max_index = self.find_max_index()\n",
    "        adjacency_list = [[] for _ in range(max_index)]\n",
    "        for edg in self.edges:\n",
    "            from_value, to_value = edg.node_from.value, edg.node_to.value\n",
    "            adjacency_list[from_value].append((to_value, edg.value))\n",
    "        return [a or None for a in adjacency_list] # replace []'s with None\n",
    "\n",
    "    def get_adjacency_list_names(self):\n",
    "        \"\"\"Each section in the list will store a list\n",
    "        of tuples that looks like this:\n",
    "        (To Node Name, Edge Value).\n",
    "        Node names should come from the names set\n",
    "        with set_node_names.\"\"\"\n",
    "        adjacency_list = self.get_adjacency_list()\n",
    "        def convert_to_names(pair, graph=self):\n",
    "            node_number, value = pair\n",
    "            return (graph.node_names[node_number], value)\n",
    "        def map_conversion(adjacency_list_for_node):\n",
    "            if adjacency_list_for_node is None:\n",
    "                return None\n",
    "            return map(convert_to_names, adjacency_list_for_node)\n",
    "        return [map_conversion(adjacency_list_for_node)\n",
    "                for adjacency_list_for_node in adjacency_list]\n",
    "\n",
    "    def get_adjacency_matrix(self):\n",
    "        \"\"\"Return a matrix, or 2D list.\n",
    "        Row numbers represent from nodes,\n",
    "        column numbers represent to nodes.\n",
    "        Store the edge values in each spot,\n",
    "        and a 0 if no edge exists.\"\"\"\n",
    "        max_index = self.find_max_index()\n",
    "        adjacency_matrix = [[0] * (max_index) for _ in range(max_index)]\n",
    "        for edg in self.edges:\n",
    "            from_index, to_index = edg.node_from.value, edg.node_to.value\n",
    "            adjacency_matrix[from_index][to_index] = edg.value\n",
    "        return adjacency_matrix\n",
    "\n",
    "    def find_max_index(self):\n",
    "        \"\"\"Return the highest found node number\n",
    "        Or the length of the node names if set with set_node_names().\"\"\"\n",
    "        if len(self.node_names) > 0:\n",
    "            return len(self.node_names)\n",
    "        max_index = -1\n",
    "        if len(self.nodes):\n",
    "            for node in self.nodes:\n",
    "                if node.value > max_index:\n",
    "                    max_index = node.value\n",
    "        return max_index\n",
    "\n",
    "    def find_node(self, node_number):\n",
    "        \"Return the node with value node_number or None\"\n",
    "        return self._node_map.get(node_number)\n",
    "    \n",
    "    def _clear_visited(self):\n",
    "        for node in self.nodes:\n",
    "            node.visited = False\n",
    "\n",
    "    def dfs_helper(self, start_node):\n",
    "        \"\"\"TODO: Write the helper function for a recursive implementation\n",
    "        of Depth First Search iterating through a node's edges. The\n",
    "        output should be a list of numbers corresponding to the\n",
    "        values of the traversed nodes.\n",
    "        ARGUMENTS: start_node is the starting Node\n",
    "        MODIFIES: the value of the visited property of nodes in self.nodes \n",
    "        RETURN: a list of the traversed node values (integers).\n",
    "        \"\"\"\n",
    "        ret_list = [start_node.value]\n",
    "        # Your code here\n",
    "        start_node.visited = True\n",
    "        adjacent_edges = [e for e in start_node.edges \\\n",
    "                            if e.node_to.value != start_node.value]\n",
    "        for edge in adjacent_edges:\n",
    "            if not edge.node_to.visited:\n",
    "                ret_list.extend(self.dfs_helper(edge.node_to))\n",
    "        return ret_list\n",
    "\n",
    "    def dfs(self, start_node_num):\n",
    "        \"\"\"Outputs a list of numbers corresponding to the traversed nodes\n",
    "        in a Depth First Search.\n",
    "        ARGUMENTS: start_node_num is the starting node number (integer)\n",
    "        MODIFIES: the value of the visited property of nodes in self.nodes\n",
    "        RETURN: a list of the node values (integers).\"\"\"\n",
    "        self._clear_visited()\n",
    "        start_node = self.find_node(start_node_num)\n",
    "        return self.dfs_helper(start_node)\n",
    "\n",
    "    def dfs_names(self, start_node_num):\n",
    "        \"\"\"Return the results of dfs with numbers converted to names.\"\"\"\n",
    "        return [self.node_names[num] for num in self.dfs(start_node_num)]\n",
    "\n",
    "    def bfs(self, start_node_num):\n",
    "        \"\"\"TODO: Create an iterative implementation of Breadth First Search\n",
    "        iterating through a node's edges. The output should be a list of\n",
    "        numbers corresponding to the traversed nodes.\n",
    "        ARGUMENTS: start_node_num is the node number (integer)\n",
    "        MODIFIES: the value of the visited property of nodes in self.nodes\n",
    "        RETURN: a list of the node values (integers).\"\"\"\n",
    "        node = self.find_node(start_node_num)\n",
    "        self._clear_visited()\n",
    "        ret_list = []\n",
    "        # Your code here\n",
    "        node.visited = True\n",
    "        q = [node] # just pop(0) and its a queue\n",
    "        while q: # not empty\n",
    "            node = q.pop(0)\n",
    "            ret_list.append(node.value)\n",
    "            for edge in node.edges:\n",
    "                if not edge.node_to.visited:\n",
    "                    edge.node_to.visited = True\n",
    "                    q.append(edge.node_to)\n",
    "        return ret_list\n",
    "\n",
    "    def bfs_names(self, start_node_num):\n",
    "        \"\"\"Return the results of bfs with numbers converted to names.\"\"\"\n",
    "        return [self.node_names[num] for num in self.bfs(start_node_num)]\n",
    "\n",
    "graph = Graph()\n",
    "\n",
    "# You do not need to change anything below this line.\n",
    "# You only need to implement Graph.dfs_helper and Graph.bfs\n",
    "\n",
    "graph.set_node_names(('Mountain View',   # 0\n",
    "                      'San Francisco',   # 1\n",
    "                      'London',          # 2\n",
    "                      'Shanghai',        # 3\n",
    "                      'Berlin',          # 4\n",
    "                      'Sao Paolo',       # 5\n",
    "                      'Bangalore'))      # 6 \n",
    "\n",
    "graph.insert_edge(51, 0, 1)     # MV <-> SF\n",
    "graph.insert_edge(51, 1, 0)     # SF <-> MV\n",
    "graph.insert_edge(9950, 0, 3)   # MV <-> Shanghai\n",
    "graph.insert_edge(9950, 3, 0)   # Shanghai <-> MV\n",
    "graph.insert_edge(10375, 0, 5)  # MV <-> Sao Paolo\n",
    "graph.insert_edge(10375, 5, 0)  # Sao Paolo <-> MV\n",
    "graph.insert_edge(9900, 1, 3)   # SF <-> Shanghai\n",
    "graph.insert_edge(9900, 3, 1)   # Shanghai <-> SF\n",
    "graph.insert_edge(9130, 1, 4)   # SF <-> Berlin\n",
    "graph.insert_edge(9130, 4, 1)   # Berlin <-> SF\n",
    "graph.insert_edge(9217, 2, 3)   # London <-> Shanghai\n",
    "graph.insert_edge(9217, 3, 2)   # Shanghai <-> London\n",
    "graph.insert_edge(932, 2, 4)    # London <-> Berlin\n",
    "graph.insert_edge(932, 4, 2)    # Berlin <-> London\n",
    "graph.insert_edge(9471, 2, 5)   # London <-> Sao Paolo\n",
    "graph.insert_edge(9471, 5, 2)   # Sao Paolo <-> London\n",
    "# (6) 'Bangalore' is intentionally disconnected (no edges)\n",
    "# for this problem and should produce None in the\n",
    "# Adjacency List, etc.\n",
    "\n",
    "import pprint\n",
    "pp = pprint.PrettyPrinter(indent=2)\n",
    "\n",
    "print(\"Edge List\")\n",
    "pp.pprint(graph.get_edge_list_names())\n",
    "\n",
    "print(\"\\nAdjacency List\")\n",
    "pp.pprint(graph.get_adjacency_list_names())\n",
    "\n",
    "print(\"\\nAdjacency Matrix\")\n",
    "pp.pprint(graph.get_adjacency_matrix())\n",
    "\n",
    "print(\"\\nDepth First Search\")\n",
    "pp.pprint(graph.dfs_names(2))\n",
    "\n",
    "# Should print:\n",
    "# Depth First Search\n",
    "# ['London', 'Shanghai', 'Mountain View', 'San Francisco', 'Berlin', 'Sao Paolo']\n",
    "\n",
    "print(\"\\nBreadth First Search\")\n",
    "pp.pprint(graph.bfs_names(2))\n",
    "# test error reporting\n",
    "# pp.pprint(['Sao Paolo', 'Mountain View', 'San Francisco', 'London', 'Shanghai', 'Berlin'])\n",
    "\n",
    "# Should print:\n",
    "# Breadth First Search\n",
    "# ['London', 'Shanghai', 'Berlin', 'Sao Paolo', 'Mountain View', 'San Francisco']"
   ]
  },
  {
   "cell_type": "markdown",
   "id": "bc221d56-0d54-443b-9e7b-bad1d6290c11",
   "metadata": {},
   "source": [
    "### Eulerian Path"
   ]
  },
  {
   "cell_type": "markdown",
   "id": "d531e1d2-251d-46f9-a12c-caa9d082f2f3",
   "metadata": {},
   "source": [
    "**Eulerian path** - travels through every edge in a graph at least once.  \n",
    "You start with one node, traverse through all edges and might end up at a different node."
   ]
  },
  {
   "cell_type": "markdown",
   "id": "2c653876-d587-4b55-be00-de0ae3e01225",
   "metadata": {},
   "source": [
    "It turns out that not every graph is capable of having an Eulerian path. You could get stuck in some outer nodes and won't be able to reach the other nodes without traveling over an edge you've already seen. "
   ]
  },
  {
   "cell_type": "markdown",
   "id": "a87bcb06-707e-4be3-8c5e-13eeaae074ba",
   "metadata": {},
   "source": [
    "For Eulerian path it's okay for your graph to have two nodes with an odd degree as long as they are the start and end of the path. "
   ]
  },
  {
   "cell_type": "markdown",
   "id": "692899e1-ca34-4a66-8219-3d7c8e97b02d",
   "metadata": {},
   "source": [
    "In an **Eulerian cycle** you must traverse every edge only once and end up at the same node that you started with. "
   ]
  },
  {
   "cell_type": "markdown",
   "id": "e9ca0458-121f-4d43-9838-2a7418629372",
   "metadata": {},
   "source": [
    "Graphs can have Eulerian cycles if all vertices have an even degree or an even number of edges connected to them."
   ]
  },
  {
   "cell_type": "markdown",
   "id": "ca0e01fe-414d-4b56-87c6-d945d6f4a3f8",
   "metadata": {},
   "source": [
    " The **Eulerian cycle algorithm** is used to find a cycle in a graph that visits every edge exactly once.  \n",
    "The algorithm works by starting at any vertex in the graph and following edges until you return back to that vertex. If you didn't encounter every edge, you can start from an unseen edge connected to a node you've already visited. You create a path through those unseen edges, and continue this process until you've seen every edge in the graph once.  \n",
    "Then you can simply add the paths together, combining them at the nodes they have in common. This will give you an Eulerian cycle."
   ]
  },
  {
   "cell_type": "markdown",
   "id": "b25e562a-bd0e-498c-b529-01f19445862a",
   "metadata": {},
   "source": [
    "This algorithm is highly efficient, because it takes bigO of the number of edges since it visits every edge once.  \n",
    "Time complexity O(E)."
   ]
  }
 ],
 "metadata": {
  "kernelspec": {
   "display_name": "Python 3 (ipykernel)",
   "language": "python",
   "name": "python3"
  },
  "language_info": {
   "codemirror_mode": {
    "name": "ipython",
    "version": 3
   },
   "file_extension": ".py",
   "mimetype": "text/x-python",
   "name": "python",
   "nbconvert_exporter": "python",
   "pygments_lexer": "ipython3",
   "version": "3.7.11"
  }
 },
 "nbformat": 4,
 "nbformat_minor": 5
}
