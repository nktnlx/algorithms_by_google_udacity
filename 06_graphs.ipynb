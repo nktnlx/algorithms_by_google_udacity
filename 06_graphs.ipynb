{
 "cells": [
  {
   "cell_type": "markdown",
   "id": "1bd033e2-38eb-4d9d-83b5-3fe493446ae3",
   "metadata": {},
   "source": [
    "# Intro to Data Structures and Algorithms "
   ]
  },
  {
   "cell_type": "markdown",
   "id": "b8678bae-32c2-4dfd-b915-f6c6b22b9e26",
   "metadata": {
    "tags": []
   },
   "source": [
    "[course link](https://learn.udacity.com/courses/ud513)"
   ]
  },
  {
   "cell_type": "markdown",
   "id": "9ec91368-53c8-4317-bf12-e21995bfec83",
   "metadata": {},
   "source": [
    "## Lesson 6. Graphs"
   ]
  },
  {
   "cell_type": "markdown",
   "id": "0bf9b8d2-b9fa-41d3-a755-1783fb823734",
   "metadata": {},
   "source": [
    "### Graphs Introduction"
   ]
  },
  {
   "cell_type": "markdown",
   "id": "16b868d5-11c4-4f4a-830f-231424b9b43c",
   "metadata": {},
   "source": [
    "Graph - a data structure designed to show relationships between objects. "
   ]
  },
  {
   "cell_type": "markdown",
   "id": "8849997b-88f8-4f02-98ff-0f2c7567a10f",
   "metadata": {},
   "source": [
    "Graphs sometimes called a network. "
   ]
  },
  {
   "cell_type": "markdown",
   "id": "0753c50b-f86a-45fc-9a05-f81dc0c99562",
   "metadata": {},
   "source": [
    "A node of a graph is called a **vertex**."
   ]
  },
  {
   "cell_type": "markdown",
   "id": "d37239e5-8ca2-4d90-9eb6-26d1dd76618d",
   "metadata": {},
   "source": [
    "Connections between nodes are called **edges**. And edges can store data too. It's usually data about the strength of a connection. "
   ]
  },
  {
   "cell_type": "markdown",
   "id": "27f123d2-3373-4040-8a31-b03be521a4ef",
   "metadata": {},
   "source": [
    "Actually, a tree is a specific type of graph. But graphs don't have a root node as trees do.  "
   ]
  },
  {
   "cell_type": "markdown",
   "id": "844f93c1-15fb-4fa2-8391-50c37e1a6587",
   "metadata": {},
   "source": [
    "### Directions and Cycles"
   ]
  },
  {
   "cell_type": "markdown",
   "id": "df644cf2-18f7-4709-a0b6-8bb1d71ee6ff",
   "metadata": {},
   "source": [
    "Edges of a graph can have a **direction**, meaning the relationship between two nodes that only applies one way and not the other. "
   ]
  },
  {
   "cell_type": "markdown",
   "id": "e992c878-5961-4e89-a0ee-1fdc1ad0efb8",
   "metadata": {},
   "source": [
    "**Directed graph** is a term for a graph where edges have a sense of direction. "
   ]
  },
  {
   "cell_type": "markdown",
   "id": "057b5fcf-cd88-4313-8f41-0af52ae33a52",
   "metadata": {},
   "source": [
    "Undirected graph has edges with no sense of direction. "
   ]
  },
  {
   "cell_type": "markdown",
   "id": "89e65668-3b4a-4574-a0f1-ee2ef0f15f40",
   "metadata": {},
   "source": [
    "A graph can have cycles, but trees can't.  \n",
    "\n",
    "A **cycle** happens in a graph when you start at one node and follow edges all the way back to that node. "
   ]
  },
  {
   "cell_type": "markdown",
   "id": "79ed1398-f75d-4ac3-8495-d6f3c5502923",
   "metadata": {},
   "source": [
    "**Acyclic graph** means that it has no cycles. "
   ]
  },
  {
   "cell_type": "markdown",
   "id": "d39a70f2-21f1-40aa-b639-8ca974adc4cf",
   "metadata": {},
   "source": [
    "DAG - directed acyclic graph. "
   ]
  },
  {
   "cell_type": "markdown",
   "id": "6b5ae682-71ee-4173-bfbd-ea34565b31e7",
   "metadata": {},
   "source": [
    "### Connectivity "
   ]
  },
  {
   "cell_type": "markdown",
   "id": "e6114a20-4165-4cdd-a79b-307a830eb6bd",
   "metadata": {},
   "source": [
    "A **disconnected graph** has some vertex that can't be reached by the other vertices. It might have one vertex off to the side with no edges. It also could have two so-called connected components, which are connected graphs on their own but have no connection between them. "
   ]
  },
  {
   "cell_type": "markdown",
   "id": "8e222544-d223-417d-9923-e16044317e4d",
   "metadata": {},
   "source": [
    "A **connected graph** has no disconnected vertices.  \n",
    "In a connected graph, there is some path between one vertex and every other vertex."
   ]
  },
  {
   "cell_type": "markdown",
   "id": "b817375d-520c-412d-9e41-c61f9dbf8a85",
   "metadata": {},
   "source": [
    "**Graph connectivity** - measures the minimum number of elements that need to be removed for a graph to become disconnected. You can use connectivity to answer the question which graph is stronger. "
   ]
  },
  {
   "cell_type": "markdown",
   "id": "6ecd2c3e-1e7a-47b5-9a64-ef9e6778a713",
   "metadata": {},
   "source": [
    "A directed graph is said to be **strongly connected** if there is a path between any two pairs of vertices in the graph. In other words, we can reach any vertex in the graph from any other vertex by following the directed edges."
   ]
  },
  {
   "cell_type": "markdown",
   "id": "1655a0ca-139a-428a-aa94-17cda8b29478",
   "metadata": {},
   "source": [
    "A **weakly connected** graph is a graph where there is at least one path between any two vertices, but those paths may not necessarily be directed. In other words, if we ignore the direction of the edges in a directed graph, we can obtain an undirected graph. If that undirected graph is connected, then the original directed graph is weakly connected.\n",
    "\n"
   ]
  },
  {
   "cell_type": "markdown",
   "id": "a9e38a1b-f8a6-40f5-9b20-a3c6e5bf1ba1",
   "metadata": {},
   "source": [
    "### Graph Representations"
   ]
  },
  {
   "cell_type": "markdown",
   "id": "e617ec67-2a46-46f0-8178-b19d7155672a",
   "metadata": {},
   "source": [
    "You can build a Vertex and an Edge objects to represent graphs if you are using OOP. "
   ]
  },
  {
   "cell_type": "markdown",
   "id": "68f7d96d-ddd1-496f-962f-bfc0a87c33dd",
   "metadata": {
    "tags": []
   },
   "source": [
    "Also you can use lists data structure to represent graphs. "
   ]
  },
  {
   "cell_type": "code",
   "execution_count": 2,
   "id": "d75fedfd-01d1-47e2-bd6c-3c8d584cdc2f",
   "metadata": {
    "tags": []
   },
   "outputs": [],
   "source": [
    "# edge list graph representation example\n",
    "edge_list_graph = [[0, 1], [1, 2],\n",
    "                   [1, 3], [2, 3]]"
   ]
  },
  {
   "cell_type": "code",
   "execution_count": 5,
   "id": "b0c32418-ac02-4836-8116-e0651f4bb837",
   "metadata": {
    "tags": []
   },
   "outputs": [],
   "source": [
    "# adjacency list graph representation example\n",
    "adjacency_list_graph = [[1], [0, 2, 3],\n",
    "                        [1, 3], [1, 2]]\n",
    "# here we use index in a list as an id number of verices in a graph"
   ]
  },
  {
   "cell_type": "code",
   "execution_count": 6,
   "id": "6b427db3-267f-44b2-b635-186a8bd6a70f",
   "metadata": {
    "tags": []
   },
   "outputs": [],
   "source": [
    "# another way to represent a graph is an adjacency matrix\n",
    "adjacency_matrix_graph = [[0, 1, 0, 0],\n",
    "                          [1, 0, 1, 1],\n",
    "                          [0, 1, 0, 1],\n",
    "                          [0, 1, 1, 0]]\n",
    "# node id has its own slot in each subarray, \n",
    "# where subarray values act like a flag\n",
    "# to show whether this node connected to another node or not"
   ]
  },
  {
   "cell_type": "markdown",
   "id": "34e0e18d-2cd1-4052-b346-664bda88feca",
   "metadata": {},
   "source": [
    "Which method of representation you use depends on what makes the most sense for you and what operations you'll be performing the most often.  \n",
    "If you are looking the number of edges connected to a particular node, the adjacency list will probably be the fastest. "
   ]
  },
  {
   "cell_type": "markdown",
   "id": "66709e23-ca01-4ea4-9395-e74574787b82",
   "metadata": {},
   "source": [
    "#### Task 1.\n",
    "\n"
   ]
  },
  {
   "cell_type": "code",
   "execution_count": 7,
   "id": "0c979eb0-7591-4d3b-8e52-b96fd80855a7",
   "metadata": {
    "tags": []
   },
   "outputs": [
    {
     "name": "stdout",
     "output_type": "stream",
     "text": [
      "[(100, 1, 2), (101, 1, 3), (102, 1, 4), (103, 3, 4)]\n",
      "[None, [(2, 100), (3, 101), (4, 102)], None, [(4, 103)], None]\n",
      "[[0, 0, 0, 0, 0], [0, 0, 100, 101, 102], [0, 0, 0, 0, 0], [0, 0, 0, 0, 103], [0, 0, 0, 0, 0]]\n"
     ]
    }
   ],
   "source": [
    "class Node:\n",
    "    def __init__(self, value):\n",
    "        self.value = value\n",
    "        self.edges = []\n",
    "\n",
    "class Edge:\n",
    "    def __init__(self, value, node_from, node_to):\n",
    "        self.value = value\n",
    "        self.node_from = node_from\n",
    "        self.node_to = node_to\n",
    "\n",
    "class Graph:\n",
    "    def __init__(self, nodes=None, edges=None):\n",
    "        self.nodes = nodes or []\n",
    "        self.edges = edges or []\n",
    "\n",
    "    def insert_node(self, new_node_val):\n",
    "        new_node = Node(new_node_val)\n",
    "        self.nodes.append(new_node)\n",
    "        \n",
    "    def insert_edge(self, new_edge_val, node_from_val, node_to_val):\n",
    "        # Find nodes connected to the edge\n",
    "        from_found = None\n",
    "        to_found = None\n",
    "        for node in self.nodes:\n",
    "            if node_from_val == node.value:\n",
    "                from_found = node\n",
    "            if node_to_val == node.value:\n",
    "                to_found = node\n",
    "        # If one or both nodes were not found, create new nodes\n",
    "        if from_found is None:\n",
    "            from_found = Node(node_from_val)\n",
    "            self.nodes.append(from_found)\n",
    "        if to_found is None:\n",
    "            to_found = Node(node_to_val)\n",
    "            self.nodes.append(to_found)\n",
    "        # Create new edge\n",
    "        new_edge = Edge(new_edge_val, from_found, to_found)\n",
    "        from_found.edges.append(new_edge)\n",
    "        to_found.edges.append(new_edge)\n",
    "        self.edges.append(new_edge)\n",
    "\n",
    "    def get_edge_list(self):\n",
    "        \"\"\"\n",
    "        Returns a list of tuples representing edges as\n",
    "        (Edge Value, From Node Value, To Node Value)\n",
    "        \"\"\"\n",
    "        return [(edge.value, edge.node_from.value, edge.node_to.value)\n",
    "                for edge in self.edges]\n",
    "\n",
    "    def get_adjacency_list(self):\n",
    "        \"\"\"\n",
    "        Returns a list of lists representing adjacency list.\n",
    "        The index of the outer list represents \"from\" nodes,\n",
    "        each element in the outer list is a list of tuples.\n",
    "        Each tuple represents (To Node, Edge Value).\n",
    "        \"\"\"\n",
    "        max_index = self.find_max_index()\n",
    "        adjacency_list = [None] * (max_index + 1)\n",
    "        for edge in self.edges:\n",
    "            if adjacency_list[edge.node_from.value]:\n",
    "                adjacency_list[edge.node_from.value].append((edge.node_to.value, edge.value))\n",
    "            else:\n",
    "                adjacency_list[edge.node_from.value] = [(edge.node_to.value, edge.value)]\n",
    "        return adjacency_list\n",
    "    \n",
    "    def find_max_index(self):\n",
    "        max_index = -1\n",
    "        if len(self.nodes):\n",
    "            for node in self.nodes:\n",
    "                if node.value > max_index:\n",
    "                    max_index = node.value\n",
    "        return max_index\n",
    "    \n",
    "    def get_adjacency_matrix(self):\n",
    "        \"\"\"\n",
    "        Returns a matrix, or 2D list representing adjacency matrix.\n",
    "        Row numbers represent from nodes, column numbers represent to nodes.\n",
    "        Store the edge values in each spot, and a 0 if no edge exists.\n",
    "        \"\"\"\n",
    "        max_index = self.find_max_index()\n",
    "        adjacency_matrix = [[0] * (max_index + 1) for _ in range(max_index + 1)]\n",
    "        for edge in self.edges:\n",
    "            adjacency_matrix[edge.node_from.value][edge.node_to.value] = edge.value\n",
    "        return adjacency_matrix\n",
    "\n",
    "    \n",
    "graph = Graph()\n",
    "graph.insert_edge(100, 1, 2)\n",
    "graph.insert_edge(101, 1, 3)\n",
    "graph.insert_edge(102, 1, 4)\n",
    "graph.insert_edge(103, 3, 4)\n",
    "# Should be [(100, 1, 2), (101, 1, 3), (102, 1, 4), (103, 3, 4)]\n",
    "print(graph.get_edge_list())\n",
    "# Should be [None, [(2, 100), (3, 101), (4, 102)], None, [(4, 103)], None]\n",
    "print(graph.get_adjacency_list())\n",
    "# Should be [[0, 0, 0, 0, 0], [0, 0, 100, 101, 102], [0, 0, 0, 0, 0], [0, 0, 0, 0, 103], [0, 0, 0, 0, 0]]\n",
    "print(graph.get_adjacency_matrix())"
   ]
  },
  {
   "cell_type": "markdown",
   "id": "cba70d10-6aa8-49db-a53a-8aeacac55a72",
   "metadata": {},
   "source": [
    "### Graph Traversal"
   ]
  },
  {
   "cell_type": "code",
   "execution_count": null,
   "id": "eaf044e9-6a14-4df2-b4c1-60911c0a67c3",
   "metadata": {},
   "outputs": [],
   "source": []
  },
  {
   "cell_type": "code",
   "execution_count": null,
   "id": "e93a7fd9-f367-4aca-a098-70ac916dc91b",
   "metadata": {},
   "outputs": [],
   "source": []
  },
  {
   "cell_type": "code",
   "execution_count": null,
   "id": "54b36b56-ee8b-4746-be0a-05c87ef82043",
   "metadata": {},
   "outputs": [],
   "source": []
  },
  {
   "cell_type": "code",
   "execution_count": null,
   "id": "5566fcde-eb59-4531-8d01-2798558a12b1",
   "metadata": {},
   "outputs": [],
   "source": []
  },
  {
   "cell_type": "markdown",
   "id": "51ede707-7f46-4bfe-a027-a7b67211e560",
   "metadata": {},
   "source": [
    "### DFS"
   ]
  },
  {
   "cell_type": "code",
   "execution_count": null,
   "id": "9483c3b7-d839-4171-989e-6c7910d9518c",
   "metadata": {},
   "outputs": [],
   "source": []
  },
  {
   "cell_type": "code",
   "execution_count": null,
   "id": "7c4f52f7-2d78-4697-a834-6440e8d12dc8",
   "metadata": {},
   "outputs": [],
   "source": []
  },
  {
   "cell_type": "code",
   "execution_count": null,
   "id": "025f2142-0799-4b60-8512-af43569ac87a",
   "metadata": {},
   "outputs": [],
   "source": []
  },
  {
   "cell_type": "code",
   "execution_count": null,
   "id": "ab650832-e7c9-4a19-a3fe-4c2c04ac261c",
   "metadata": {},
   "outputs": [],
   "source": []
  },
  {
   "cell_type": "code",
   "execution_count": null,
   "id": "456b52e8-088b-4990-99c0-6111c7d4b9be",
   "metadata": {},
   "outputs": [],
   "source": []
  },
  {
   "cell_type": "markdown",
   "id": "ebcd2904-b6f9-46a2-80b6-76dadbd34f71",
   "metadata": {},
   "source": [
    "### BFS"
   ]
  },
  {
   "cell_type": "code",
   "execution_count": null,
   "id": "6e80db75-f123-4a4e-9560-08661a1404d7",
   "metadata": {},
   "outputs": [],
   "source": []
  },
  {
   "cell_type": "code",
   "execution_count": null,
   "id": "b5597e2b-6912-4b66-9cba-0d56bf58ac41",
   "metadata": {},
   "outputs": [],
   "source": []
  },
  {
   "cell_type": "code",
   "execution_count": null,
   "id": "c66acd02-cc9c-40da-9ff2-cba66209a447",
   "metadata": {},
   "outputs": [],
   "source": []
  },
  {
   "cell_type": "code",
   "execution_count": null,
   "id": "bd9f1c50-9f0d-4659-b3af-b2e97521e250",
   "metadata": {},
   "outputs": [],
   "source": []
  },
  {
   "cell_type": "code",
   "execution_count": null,
   "id": "e1948c93-6cf5-4f78-97b8-175724cfa8b4",
   "metadata": {},
   "outputs": [],
   "source": []
  },
  {
   "cell_type": "markdown",
   "id": "bc221d56-0d54-443b-9e7b-bad1d6290c11",
   "metadata": {},
   "source": [
    "### Eulerian Path"
   ]
  },
  {
   "cell_type": "code",
   "execution_count": null,
   "id": "f4530609-9cb3-4fd7-922c-db1b381b98c3",
   "metadata": {},
   "outputs": [],
   "source": []
  },
  {
   "cell_type": "code",
   "execution_count": null,
   "id": "6c1a6f40-f1ab-44c7-af62-a8bcc3695230",
   "metadata": {},
   "outputs": [],
   "source": []
  },
  {
   "cell_type": "code",
   "execution_count": null,
   "id": "d1b35209-c5b7-4841-94a0-5139b964d24d",
   "metadata": {},
   "outputs": [],
   "source": []
  },
  {
   "cell_type": "code",
   "execution_count": null,
   "id": "b944823c-da89-46ab-9d28-8ad61214d593",
   "metadata": {},
   "outputs": [],
   "source": []
  },
  {
   "cell_type": "code",
   "execution_count": null,
   "id": "ad4f7f4f-1a39-4940-b1e6-958da2b34d6c",
   "metadata": {},
   "outputs": [],
   "source": []
  }
 ],
 "metadata": {
  "kernelspec": {
   "display_name": "Python 3 (ipykernel)",
   "language": "python",
   "name": "python3"
  },
  "language_info": {
   "codemirror_mode": {
    "name": "ipython",
    "version": 3
   },
   "file_extension": ".py",
   "mimetype": "text/x-python",
   "name": "python",
   "nbconvert_exporter": "python",
   "pygments_lexer": "ipython3",
   "version": "3.7.11"
  }
 },
 "nbformat": 4,
 "nbformat_minor": 5
}
