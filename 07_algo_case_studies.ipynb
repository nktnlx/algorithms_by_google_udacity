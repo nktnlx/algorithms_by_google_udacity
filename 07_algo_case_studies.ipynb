{
 "cells": [
  {
   "cell_type": "markdown",
   "id": "1bd033e2-38eb-4d9d-83b5-3fe493446ae3",
   "metadata": {},
   "source": [
    "# Intro to Data Structures and Algorithms "
   ]
  },
  {
   "cell_type": "markdown",
   "id": "b8678bae-32c2-4dfd-b915-f6c6b22b9e26",
   "metadata": {
    "tags": []
   },
   "source": [
    "[course link](https://learn.udacity.com/courses/ud513)"
   ]
  },
  {
   "cell_type": "markdown",
   "id": "9ec91368-53c8-4317-bf12-e21995bfec83",
   "metadata": {},
   "source": [
    "## Lesson 7. Case Studies in Algorithms"
   ]
  },
  {
   "cell_type": "markdown",
   "id": "0bf9b8d2-b9fa-41d3-a755-1783fb823734",
   "metadata": {},
   "source": [
    "### Shortest Path Problem"
   ]
  },
  {
   "cell_type": "markdown",
   "id": "bca723d2-9b56-433c-aadf-26977c22c76f",
   "metadata": {},
   "source": [
    "The shortest path is the one where the sum of the edges is as small as possible. "
   ]
  },
  {
   "cell_type": "markdown",
   "id": "fe2d9154-f6e7-472d-8603-6f88ad660913",
   "metadata": {},
   "source": [
    "If we have an unweighted graph, the shortest path would just be the one with the fewest number of edges. "
   ]
  },
  {
   "cell_type": "markdown",
   "id": "0799f98c-9a9d-4728-8976-8ee25112f75f",
   "metadata": {},
   "source": [
    "The solution of this problem for an unweighted graph is actually just a breadth first search: you start at one node and visit the closest nodes first, slowly moving out to more distant nodes until you find the one that you were looking for."
   ]
  },
  {
   "cell_type": "markdown",
   "id": "271c8823-bf53-4909-9fe0-0d0a6e58f0e4",
   "metadata": {},
   "source": [
    "To solve the shortest path problem for a graph with weighted edges, we can use Dijkstra's algorithm."
   ]
  },
  {
   "cell_type": "markdown",
   "id": "844f93c1-15fb-4fa2-8391-50c37e1a6587",
   "metadata": {},
   "source": [
    "### Dijkstra's Algorithm "
   ]
  },
  {
   "cell_type": "markdown",
   "id": "1d01b46d-ecac-47b3-a3b2-f632d8353b03",
   "metadata": {},
   "source": [
    "This algorithm is a greedy algorithm that finds the shortest path (a distance) between a starting node and all other nodes in the graph."
   ]
  },
  {
   "cell_type": "markdown",
   "id": "af710140-eea9-411e-be55-ff75cabde695",
   "metadata": {},
   "source": [
    "Greedy means that it always picks the best option for a given moment, i.e. choosing the next node to visit based on the minimal cost on its edge. "
   ]
  },
  {
   "cell_type": "markdown",
   "id": "acc3ca18-4bee-4262-aaf9-cac3079b90e2",
   "metadata": {},
   "source": [
    "A distance - is the sum of edges weights on a path between our starting point and the vertex we are on.  \n",
    "At the end of running the dijkstra's algotihm the distance will be equal to the shortest path. "
   ]
  },
  {
   "cell_type": "code",
   "execution_count": 1,
   "id": "ae47645e-a1fc-49c6-a2a7-9dfcdcb2f2ee",
   "metadata": {
    "tags": []
   },
   "outputs": [
    {
     "data": {
      "text/plain": [
       "(4, ['A', 'C', 'B', 'D'])"
      ]
     },
     "execution_count": 1,
     "metadata": {},
     "output_type": "execute_result"
    }
   ],
   "source": [
    "import heapq\n",
    "\n",
    "\n",
    "def dijkstra(graph, start_node, end_node):\n",
    "    # Create a dictionary to store the distance to each node\n",
    "    distances = {node: float('inf') for node in graph}\n",
    "    distances[start_node] = 0\n",
    "\n",
    "    # Create a dictionary to store the previous node in the shortest path\n",
    "    previous_nodes = {node: None for node in graph}\n",
    "\n",
    "    # Create a priority queue to store nodes that we haven't visited yet\n",
    "    priority_queue = [(0, start_node)]\n",
    "\n",
    "    while priority_queue:\n",
    "        # Get the node with the smallest distance\n",
    "        current_distance, current_node = heapq.heappop(priority_queue)\n",
    "\n",
    "        # If we've already visited this node, skip it\n",
    "        if current_distance > distances[current_node]:\n",
    "            continue\n",
    "\n",
    "        # Check all of the neighbors of this node\n",
    "        for neighbor, weight in graph[current_node].items():\n",
    "            distance = current_distance + weight\n",
    "\n",
    "            # If we've found a new shortest path to this neighbor,\n",
    "            # update our records and add it to the queue\n",
    "            if distance < distances[neighbor]:\n",
    "                distances[neighbor] = distance\n",
    "                previous_nodes[neighbor] = current_node\n",
    "                heapq.heappush(priority_queue, (distance, neighbor))\n",
    "\n",
    "        # If we've reached the end node, we can stop searching\n",
    "        if current_node == end_node:\n",
    "            break\n",
    "\n",
    "    # Build the path from the previous nodes dictionary\n",
    "    path = []\n",
    "    node = end_node\n",
    "    while node is not None:\n",
    "        path.append(node)\n",
    "        node = previous_nodes[node]\n",
    "    path.reverse()\n",
    "\n",
    "    return distances[end_node], path\n",
    "\n",
    "\n",
    "# Example usage\n",
    "graph = {\n",
    "    'A': {'B': 5, 'C': 1},\n",
    "    'B': {'A': 5, 'C': 2, 'D': 1},\n",
    "    'C': {'A': 1, 'B': 2, 'D': 4, 'E': 8},\n",
    "    'D': {'B': 1, 'C': 4, 'E': 3, 'F': 6},\n",
    "    'E': {'C': 8, 'D': 3},\n",
    "    'F': {'D': 6}\n",
    "}\n",
    "\n",
    "start_node = 'A'\n",
    "end_node = 'D'\n",
    "\n",
    "dijkstra(graph, start_node, end_node)"
   ]
  },
  {
   "cell_type": "markdown",
   "id": "281bf05d-48f5-4dcb-a842-a5ac5090a9a4",
   "metadata": {},
   "source": [
    "The algorithm works by maintaining a priority queue of nodes to visit, with the node with the smallest distance from the start node being visited first. The distances to each node are updated as the algorithm progresses, and the previous node in the shortest path is also recorded for each node.\n",
    "\n",
    "Once the end node is reached, the algorithm stops and the shortest path is constructed by following the previous node pointers from the end node to the start node."
   ]
  },
  {
   "cell_type": "markdown",
   "id": "d94ae0a0-b95c-4688-979a-ab0bce65ed54",
   "metadata": {},
   "source": [
    "The time complexity of Dijkstra's Algorithm is O(V^2), where V is the number of vertices in the graph.  \n",
    "This is because in the worst case scenario, we would need to visit every vertex in the graph once or twice, and each time we visit a vertex, we need to search through the priority queue to find the minimum element.  \n",
    "But if the priority queue realisation is very efficient the Dijkstra's Algorithm time complexity is O(E + V log V).\n",
    "\n"
   ]
  },
  {
   "cell_type": "markdown",
   "id": "6b5ae682-71ee-4173-bfbd-ea34565b31e7",
   "metadata": {},
   "source": [
    "### Knapsack Problem "
   ]
  },
  {
   "cell_type": "markdown",
   "id": "ffa17850-a334-40c5-bf5a-a8d068892e8d",
   "metadata": {},
   "source": [
    "The Knapsack Problem is a classic optimization problem in computer science. The problem involves a knapsack (or backpack) with a limited weight capacity, and a set of items with their own weights and values.  \n",
    "\n",
    "The goal is to determine the combination of items that can be placed in the knapsack such that the total value of the items is maximized, while also ensuring that the total weight of the items does not exceed the capacity of the knapsack."
   ]
  },
  {
   "cell_type": "markdown",
   "id": "e236a8c1-ec81-4474-8342-7544c12911a1",
   "metadata": {},
   "source": [
    "Brute force solution for this problem will be O(2^n). And this is an exponential time:("
   ]
  },
  {
   "cell_type": "code",
   "execution_count": 2,
   "id": "c7fad62f-cb97-409a-beba-55b6abc03f13",
   "metadata": {
    "tags": []
   },
   "outputs": [
    {
     "data": {
      "text/plain": [
       "220"
      ]
     },
     "execution_count": 2,
     "metadata": {},
     "output_type": "execute_result"
    }
   ],
   "source": [
    "# O(2^n) solution\n",
    "def knapSack(W, wt, val, n):\n",
    "    # Base case\n",
    "    if n == 0 or W == 0:\n",
    "        return 0\n",
    "    \n",
    "    # If weight of the nth item is more than Knapsack capacity W,\n",
    "    # then this item cannot be included in the optimal solution\n",
    "    if (wt[n-1] > W):\n",
    "        return knapSack(W, wt, val, n-1)\n",
    "    \n",
    "    # Return the maximum of two cases:\n",
    "    # (1) nth item included\n",
    "    # (2) not included\n",
    "    else:\n",
    "        return max(val[n-1] + knapSack(W-wt[n-1], wt, val, n-1),\n",
    "                   knapSack(W, wt, val, n-1))\n",
    "\n",
    "# Example usage\n",
    "val = [60, 100, 120]\n",
    "wt = [10, 20, 30]\n",
    "W = 50\n",
    "n = len(val)\n",
    "\n",
    "knapSack(W, wt, val, n)"
   ]
  },
  {
   "cell_type": "markdown",
   "id": "cba70d10-6aa8-49db-a53a-8aeacac55a72",
   "metadata": {},
   "source": [
    "### Dynamic Programming"
   ]
  },
  {
   "cell_type": "markdown",
   "id": "597557e8-57ca-4639-b087-cf89e37c0cb4",
   "metadata": {},
   "source": [
    "With **dynamic programming** you can make a really complicated problem run much faster by breaking it into subproblems. "
   ]
  },
  {
   "cell_type": "markdown",
   "id": "b22baa80-0dbb-4bd3-b3a7-f82ffecadb72",
   "metadata": {},
   "source": [
    "Dynamic programming solutions take advantage of both solving a problem for a trivial case and storing the solution in a lookup table, by using them to slowly add complexity to a problem. "
   ]
  },
  {
   "cell_type": "markdown",
   "id": "920a7f53-86ca-4ae2-8bb2-ea7aee100747",
   "metadata": {},
   "source": [
    "Another feature of a dynamic programming solution is an equation used at each step as you add complexity.   \n",
    "The equation often combines some values previously computed in the lookup table, sometimes with each other and sometimes with a new value you introduce (like the value whatever object you are looking at).  "
   ]
  },
  {
   "cell_type": "markdown",
   "id": "dfcf1284-1c97-40e5-834f-aaf3808ab50c",
   "metadata": {},
   "source": [
    "We use values already stored in the table as we added new object - a technique called **memoization**. So we definitely have no need to recompute them every time - you compute and save solutions to smaller problems and then you don't need to calculate them again for more complex problems."
   ]
  },
  {
   "cell_type": "markdown",
   "id": "db6cbaa1-c100-4129-91dd-d3fde35eeeb5",
   "metadata": {},
   "source": [
    "If you want to use a dynamic programming approach first ask yourself: Can I break this problem up into subproblems?  \n",
    "If the answer is YES, then you've got a problem with a dynamic programming solution. \n"
   ]
  },
  {
   "cell_type": "markdown",
   "id": "14859dac-20b3-4a45-b83f-7971cd57bd26",
   "metadata": {},
   "source": [
    "For Knapsack task:\n",
    "- problem: to find max value for a weight limit \n",
    "- subproblem: to find a max value for some smaller weight\n",
    "- base case (a subproblem so small that the answer is very simple or trival to compute): smallest computation (compute values for one object)"
   ]
  },
  {
   "cell_type": "code",
   "execution_count": 3,
   "id": "37ac1853-8adc-4907-b6ff-7eb1d153118d",
   "metadata": {
    "tags": []
   },
   "outputs": [
    {
     "data": {
      "text/plain": [
       "220"
      ]
     },
     "execution_count": 3,
     "metadata": {},
     "output_type": "execute_result"
    }
   ],
   "source": [
    "# O(nW) solution using dynamic programming\n",
    "def knapSack(W, wt, val, n):\n",
    "    # Initialize a 2D array K with all zeros\n",
    "    K = [[0 for x in range(W + 1)] for x in range(n + 1)]\n",
    "    \n",
    "    # Build table K[][] in bottom up manner\n",
    "    for i in range(n + 1):\n",
    "        for w in range(W + 1):\n",
    "            # Base case\n",
    "            if i == 0 or w == 0:\n",
    "                K[i][w] = 0\n",
    "            # If weight of the ith item is less than or equal to w\n",
    "            elif wt[i-1] <= w:\n",
    "                # Take the maximum of two cases:\n",
    "                # (1) ith item included\n",
    "                # (2) not included\n",
    "                K[i][w] = max(val[i-1] + K[i-1][w-wt[i-1]], K[i-1][w])\n",
    "            else:\n",
    "                # If weight of the ith item is more than w,\n",
    "                # then this item cannot be included in the optimal solution\n",
    "                K[i][w] = K[i-1][w]\n",
    "    \n",
    "    # Return the maximum value that can be put in a knapsack of capacity W\n",
    "    return K[n][W]\n",
    "\n",
    "\n",
    "# Example usage\n",
    "val = [60, 100, 120]\n",
    "wt = [10, 20, 30]\n",
    "W = 50\n",
    "n = len(val)\n",
    "\n",
    "knapSack(W, wt, val, n)"
   ]
  },
  {
   "cell_type": "markdown",
   "id": "51ede707-7f46-4bfe-a027-a7b67211e560",
   "metadata": {},
   "source": [
    "### Travelling Salesman Problem"
   ]
  },
  {
   "cell_type": "markdown",
   "id": "86e41f19-b911-42fd-879d-9d4374c8eed0",
   "metadata": {},
   "source": [
    "The Traveling Salesman Problem (TSP) is a classic problem in computer science and mathematics. In this problem, we have a graph where all of the nodes represent cities and all the edges represent roads between them. The goal of the TSP is to find the shortest possible route that visits every city exactly once and returns to the starting city."
   ]
  },
  {
   "cell_type": "markdown",
   "id": "e34a6908-ff2c-4d35-9ef3-957434e93239",
   "metadata": {},
   "source": [
    "The TSP is an optimization problem, which means that we are looking for the best possible solution among all possible solutions.   \n",
    "The TSP is a well-known example of an NP-hard problem, which means that it is computationally difficult to find the optimal solution for large instances of the problem (NP - non deterministic polynomial time)."
   ]
  },
  {
   "cell_type": "markdown",
   "id": "01a97cd0-ea2d-448b-b0da-0479d540bcb4",
   "metadata": {},
   "source": [
    "The TSP has many practical applications, such as in logistics and transportation, where it is used to optimize delivery routes. It is also used in microchip design, DNA sequencing, and many other fields."
   ]
  },
  {
   "cell_type": "code",
   "execution_count": 4,
   "id": "db39bea5-ccbd-4691-8bdd-a477afe007f8",
   "metadata": {
    "tags": []
   },
   "outputs": [
    {
     "name": "stdout",
     "output_type": "stream",
     "text": [
      "('C', 'A', 'B', 'D') 50\n"
     ]
    }
   ],
   "source": [
    "# O(n!) solution\n",
    "import itertools\n",
    "\n",
    "def tsp_brute_force(graph):\n",
    "    # Generate all possible paths\n",
    "    nodes = list(graph.keys())\n",
    "    paths = itertools.permutations(nodes)\n",
    "    \n",
    "    # Find the shortest path\n",
    "    shortest_path = None\n",
    "    shortest_distance = float('inf')\n",
    "    for path in paths:\n",
    "        distance = 0\n",
    "        for i in range(len(path)-1):\n",
    "            for neighbor, d in graph[path[i]]:\n",
    "                if neighbor == path[i+1]:\n",
    "                    distance += d\n",
    "        if distance < shortest_distance:\n",
    "            shortest_path = path\n",
    "            shortest_distance = distance\n",
    "    \n",
    "    return shortest_path, shortest_distance\n",
    "\n",
    "# Example usage\n",
    "graph = {\n",
    "    'A': [('B', 10), ('C', 15), ('D', 20)],\n",
    "    'B': [('A', 10), ('C', 35), ('D', 25)],\n",
    "    'C': [('A', 15), ('B', 35), ('D', 30)],\n",
    "    'D': [('A', 20), ('B', 25), ('C', 30)]\n",
    "}\n",
    "path, distance = tsp_brute_force(graph)\n",
    "print(path, distance)"
   ]
  },
  {
   "cell_type": "markdown",
   "id": "e2fefaed-385b-4992-a201-333c2fced49f",
   "metadata": {},
   "source": [
    "Using permutations can be very slow, especially for larger graphs. In fact, the time complexity of the brute force approach using permutations is O(n!), which quickly becomes infeasible for even moderately sized graphs."
   ]
  },
  {
   "cell_type": "code",
   "execution_count": 5,
   "id": "1dda936f-3d05-4551-a6fa-78fd42248f2a",
   "metadata": {
    "tags": []
   },
   "outputs": [
    {
     "name": "stdout",
     "output_type": "stream",
     "text": [
      "['A', 'B', 'D', 'C'] 65\n"
     ]
    }
   ],
   "source": [
    "def tsp_nn(graph, start):\n",
    "    # Find the shortest path using the nearest neighbor algorithm\n",
    "    path = [start]\n",
    "    visited = {start}\n",
    "    while len(path) < len(graph):\n",
    "        current = path[-1]\n",
    "        next_node = None\n",
    "        min_distance = float('inf')\n",
    "        for neighbor, distance in graph[current]:\n",
    "            if neighbor not in visited and distance < min_distance:\n",
    "                next_node = neighbor\n",
    "                min_distance = distance\n",
    "        if next_node is None:\n",
    "            break\n",
    "        path.append(next_node)\n",
    "        visited.add(next_node)\n",
    "    \n",
    "    # Calculate the distance of the path\n",
    "    distance = 0\n",
    "    for i in range(len(path)-1):\n",
    "        for neighbor, d in graph[path[i]]:\n",
    "            if neighbor == path[i+1]:\n",
    "                distance += d\n",
    "    \n",
    "    return path, distance\n",
    "\n",
    "# Example usage\n",
    "graph = {\n",
    "    'A': [('B', 10), ('C', 15), ('D', 20)],\n",
    "    'B': [('A', 10), ('C', 35), ('D', 25)],\n",
    "    'C': [('A', 15), ('B', 35), ('D', 30)],\n",
    "    'D': [('A', 20), ('B', 25), ('C', 30)]\n",
    "}\n",
    "start = 'A'\n",
    "path, distance = tsp_nn(graph, start)\n",
    "print(path, distance)"
   ]
  },
  {
   "cell_type": "markdown",
   "id": "f55332b1-ee70-4ca1-8686-1d875c1b6e5c",
   "metadata": {},
   "source": [
    "The code snippet above is an implementation of the nearest neighbor algorithm, which is a heuristic approach to solving the Traveling Salesman Problem. While it may not always give the optimal solution, it is much faster than the brute force approach and can often give a good approximation of the optimal solution.\n",
    "\n",
    "The time complexity of the nearest neighbor algorithm is O(n^2), which is much faster than the brute force approach. "
   ]
  },
  {
   "cell_type": "markdown",
   "id": "8b1003aa-dff8-40f9-8f29-c5b8aaccb0ad",
   "metadata": {},
   "source": [
    "However, the brute force algorithm found the optimal solution which is (‘C’, ‘A’, ‘B’, ‘D’) with a distance of 50. The nearest neighbor algorithm found a suboptimal solution which is [‘A’, ‘B’, ‘D’, ‘C’] with a distance of 65. The nearest neighbor algorithm is not guaranteed to find the optimal solution but it is usually much faster than the brute force algorithm and can be used as a good approximation for large values of n."
   ]
  }
 ],
 "metadata": {
  "kernelspec": {
   "display_name": "Python 3 (ipykernel)",
   "language": "python",
   "name": "python3"
  },
  "language_info": {
   "codemirror_mode": {
    "name": "ipython",
    "version": 3
   },
   "file_extension": ".py",
   "mimetype": "text/x-python",
   "name": "python",
   "nbconvert_exporter": "python",
   "pygments_lexer": "ipython3",
   "version": "3.7.11"
  }
 },
 "nbformat": 4,
 "nbformat_minor": 5
}
