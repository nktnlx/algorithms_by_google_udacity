{
 "cells": [
  {
   "cell_type": "markdown",
   "id": "1bd033e2-38eb-4d9d-83b5-3fe493446ae3",
   "metadata": {},
   "source": [
    "# Intro to Data Structures and Algorithms "
   ]
  },
  {
   "cell_type": "markdown",
   "id": "b8678bae-32c2-4dfd-b915-f6c6b22b9e26",
   "metadata": {
    "tags": []
   },
   "source": [
    "[course link](https://learn.udacity.com/courses/ud513)"
   ]
  },
  {
   "cell_type": "markdown",
   "id": "9ec91368-53c8-4317-bf12-e21995bfec83",
   "metadata": {},
   "source": [
    "## Lesson 7. Case Studies in Algorithms"
   ]
  },
  {
   "cell_type": "markdown",
   "id": "0bf9b8d2-b9fa-41d3-a755-1783fb823734",
   "metadata": {},
   "source": [
    "### Shortest Path Problem"
   ]
  },
  {
   "cell_type": "markdown",
   "id": "bca723d2-9b56-433c-aadf-26977c22c76f",
   "metadata": {},
   "source": [
    "The shortest path is the one where the sum of the edges is as small as possible. "
   ]
  },
  {
   "cell_type": "markdown",
   "id": "fe2d9154-f6e7-472d-8603-6f88ad660913",
   "metadata": {},
   "source": [
    "If we have an unweighted graph, the shortest path would just be the one with the fewest number of edges. "
   ]
  },
  {
   "cell_type": "markdown",
   "id": "0799f98c-9a9d-4728-8976-8ee25112f75f",
   "metadata": {},
   "source": [
    "The solution of this problem for an unweighted graph is actually just a breadth first search: you start at one node and visit the closest nodes first, slowly moving out to more distant nodes until you find the one that you were looking for."
   ]
  },
  {
   "cell_type": "markdown",
   "id": "271c8823-bf53-4909-9fe0-0d0a6e58f0e4",
   "metadata": {},
   "source": [
    "To solve the shortest path problem for a graph with weighted edges, we can use Dijkstra's algorithm."
   ]
  },
  {
   "cell_type": "markdown",
   "id": "844f93c1-15fb-4fa2-8391-50c37e1a6587",
   "metadata": {},
   "source": [
    "### Dijkstra's Algorithm "
   ]
  },
  {
   "cell_type": "markdown",
   "id": "1d01b46d-ecac-47b3-a3b2-f632d8353b03",
   "metadata": {},
   "source": [
    "This algorithm is a greedy algorithm that finds the shortest path (a distance) between a starting node and all other nodes in the graph."
   ]
  },
  {
   "cell_type": "markdown",
   "id": "af710140-eea9-411e-be55-ff75cabde695",
   "metadata": {},
   "source": [
    "Greedy means that it always picks the best option for a given moment, i.e. choosing the next node to visit based on the minimal cost on its edge. "
   ]
  },
  {
   "cell_type": "markdown",
   "id": "acc3ca18-4bee-4262-aaf9-cac3079b90e2",
   "metadata": {},
   "source": [
    "A distance - is the sum of edges weights on a path between our starting point and the vertex we are on.  \n",
    "At the end of running the dijkstra's algotihm the distance will be equal to the shortest path. "
   ]
  },
  {
   "cell_type": "code",
   "execution_count": 9,
   "id": "ae47645e-a1fc-49c6-a2a7-9dfcdcb2f2ee",
   "metadata": {
    "tags": []
   },
   "outputs": [
    {
     "data": {
      "text/plain": [
       "(4, ['A', 'C', 'B', 'D'])"
      ]
     },
     "execution_count": 9,
     "metadata": {},
     "output_type": "execute_result"
    }
   ],
   "source": [
    "import heapq\n",
    "\n",
    "\n",
    "def dijkstra(graph, start_node, end_node):\n",
    "    # Create a dictionary to store the distance to each node\n",
    "    distances = {node: float('inf') for node in graph}\n",
    "    distances[start_node] = 0\n",
    "\n",
    "    # Create a dictionary to store the previous node in the shortest path\n",
    "    previous_nodes = {node: None for node in graph}\n",
    "\n",
    "    # Create a priority queue to store nodes that we haven't visited yet\n",
    "    priority_queue = [(0, start_node)]\n",
    "\n",
    "    while priority_queue:\n",
    "        # Get the node with the smallest distance\n",
    "        current_distance, current_node = heapq.heappop(priority_queue)\n",
    "\n",
    "        # If we've already visited this node, skip it\n",
    "        if current_distance > distances[current_node]:\n",
    "            continue\n",
    "\n",
    "        # Check all of the neighbors of this node\n",
    "        for neighbor, weight in graph[current_node].items():\n",
    "            distance = current_distance + weight\n",
    "\n",
    "            # If we've found a new shortest path to this neighbor,\n",
    "            # update our records and add it to the queue\n",
    "            if distance < distances[neighbor]:\n",
    "                distances[neighbor] = distance\n",
    "                previous_nodes[neighbor] = current_node\n",
    "                heapq.heappush(priority_queue, (distance, neighbor))\n",
    "\n",
    "        # If we've reached the end node, we can stop searching\n",
    "        if current_node == end_node:\n",
    "            break\n",
    "\n",
    "    # Build the path from the previous nodes dictionary\n",
    "    path = []\n",
    "    node = end_node\n",
    "    while node is not None:\n",
    "        path.append(node)\n",
    "        node = previous_nodes[node]\n",
    "    path.reverse()\n",
    "\n",
    "    return distances[end_node], path\n",
    "\n",
    "\n",
    "# Example usage\n",
    "graph = {\n",
    "    'A': {'B': 5, 'C': 1},\n",
    "    'B': {'A': 5, 'C': 2, 'D': 1},\n",
    "    'C': {'A': 1, 'B': 2, 'D': 4, 'E': 8},\n",
    "    'D': {'B': 1, 'C': 4, 'E': 3, 'F': 6},\n",
    "    'E': {'C': 8, 'D': 3},\n",
    "    'F': {'D': 6}\n",
    "}\n",
    "\n",
    "start_node = 'A'\n",
    "end_node = 'D'\n",
    "\n",
    "dijkstra(graph, start_node, end_node)"
   ]
  },
  {
   "cell_type": "markdown",
   "id": "281bf05d-48f5-4dcb-a842-a5ac5090a9a4",
   "metadata": {},
   "source": [
    "The algorithm works by maintaining a priority queue of nodes to visit, with the node with the smallest distance from the start node being visited first. The distances to each node are updated as the algorithm progresses, and the previous node in the shortest path is also recorded for each node.\n",
    "\n",
    "Once the end node is reached, the algorithm stops and the shortest path is constructed by following the previous node pointers from the end node to the start node."
   ]
  },
  {
   "cell_type": "markdown",
   "id": "d94ae0a0-b95c-4688-979a-ab0bce65ed54",
   "metadata": {},
   "source": [
    "The time complexity of Dijkstra's Algorithm is O(V^2), where V is the number of vertices in the graph.  \n",
    "This is because in the worst case scenario, we would need to visit every vertex in the graph once or twice, and each time we visit a vertex, we need to search through the priority queue to find the minimum element.  \n",
    "But if the priority queue realisation is very efficient the Dijkstra's Algorithm time complexity is O(E + V log V).\n",
    "\n"
   ]
  },
  {
   "cell_type": "markdown",
   "id": "6b5ae682-71ee-4173-bfbd-ea34565b31e7",
   "metadata": {},
   "source": [
    "### Knapsack Problem "
   ]
  },
  {
   "cell_type": "markdown",
   "id": "ffa17850-a334-40c5-bf5a-a8d068892e8d",
   "metadata": {},
   "source": [
    "The Knapsack Problem is a classic optimization problem in computer science. The problem involves a knapsack (or backpack) with a limited weight capacity, and a set of items with their own weights and values.  \n",
    "\n",
    "The goal is to determine the combination of items that can be placed in the knapsack such that the total value of the items is maximized, while also ensuring that the total weight of the items does not exceed the capacity of the knapsack."
   ]
  },
  {
   "cell_type": "markdown",
   "id": "e236a8c1-ec81-4474-8342-7544c12911a1",
   "metadata": {},
   "source": [
    "Brute force solution for this problem will be O(2^n). And this is an exponential time:("
   ]
  },
  {
   "cell_type": "code",
   "execution_count": 35,
   "id": "c7fad62f-cb97-409a-beba-55b6abc03f13",
   "metadata": {
    "tags": []
   },
   "outputs": [
    {
     "data": {
      "text/plain": [
       "220"
      ]
     },
     "execution_count": 35,
     "metadata": {},
     "output_type": "execute_result"
    }
   ],
   "source": [
    "# O(2^n) solution\n",
    "def knapSack(W, wt, val, n):\n",
    "    # Base case\n",
    "    if n == 0 or W == 0:\n",
    "        return 0\n",
    "    \n",
    "    # If weight of the nth item is more than Knapsack capacity W,\n",
    "    # then this item cannot be included in the optimal solution\n",
    "    if (wt[n-1] > W):\n",
    "        return knapSack(W, wt, val, n-1)\n",
    "    \n",
    "    # Return the maximum of two cases:\n",
    "    # (1) nth item included\n",
    "    # (2) not included\n",
    "    else:\n",
    "        return max(val[n-1] + knapSack(W-wt[n-1], wt, val, n-1),\n",
    "                   knapSack(W, wt, val, n-1))\n",
    "\n",
    "# Example usage\n",
    "val = [60, 100, 120]\n",
    "wt = [10, 20, 30]\n",
    "W = 50\n",
    "n = len(val)\n",
    "\n",
    "knapSack(W, wt, val, n)"
   ]
  },
  {
   "cell_type": "code",
   "execution_count": 34,
   "id": "37ac1853-8adc-4907-b6ff-7eb1d153118d",
   "metadata": {
    "tags": []
   },
   "outputs": [
    {
     "data": {
      "text/plain": [
       "220"
      ]
     },
     "execution_count": 34,
     "metadata": {},
     "output_type": "execute_result"
    }
   ],
   "source": [
    "# O(nW) solution using dynamic programming\n",
    "def knapSack(W, wt, val, n):\n",
    "    # Initialize a 2D array K with all zeros\n",
    "    K = [[0 for x in range(W + 1)] for x in range(n + 1)]\n",
    "    \n",
    "    # Build table K[][] in bottom up manner\n",
    "    for i in range(n + 1):\n",
    "        for w in range(W + 1):\n",
    "            # Base case\n",
    "            if i == 0 or w == 0:\n",
    "                K[i][w] = 0\n",
    "            # If weight of the ith item is less than or equal to w\n",
    "            elif wt[i-1] <= w:\n",
    "                # Take the maximum of two cases:\n",
    "                # (1) ith item included\n",
    "                # (2) not included\n",
    "                K[i][w] = max(val[i-1] + K[i-1][w-wt[i-1]], K[i-1][w])\n",
    "            else:\n",
    "                # If weight of the ith item is more than w,\n",
    "                # then this item cannot be included in the optimal solution\n",
    "                K[i][w] = K[i-1][w]\n",
    "    \n",
    "    # Return the maximum value that can be put in a knapsack of capacity W\n",
    "    return K[n][W]\n",
    "\n",
    "\n",
    "# Example usage\n",
    "val = [60, 100, 120]\n",
    "wt = [10, 20, 30]\n",
    "W = 50\n",
    "n = len(val)\n",
    "\n",
    "knapSack(W, wt, val, n)"
   ]
  },
  {
   "cell_type": "markdown",
   "id": "a9e38a1b-f8a6-40f5-9b20-a3c6e5bf1ba1",
   "metadata": {},
   "source": [
    "### A Faster Algorithm"
   ]
  },
  {
   "cell_type": "markdown",
   "id": "39d7bdc6-1f8f-4df1-953c-9ed3640b38c4",
   "metadata": {},
   "source": [
    "tbc.."
   ]
  },
  {
   "cell_type": "code",
   "execution_count": null,
   "id": "ccb7f112-35ca-4086-a66b-4599652e017f",
   "metadata": {},
   "outputs": [],
   "source": []
  },
  {
   "cell_type": "code",
   "execution_count": null,
   "id": "d7c9dbfe-b0b0-43e8-a747-898f475df3e1",
   "metadata": {},
   "outputs": [],
   "source": []
  },
  {
   "cell_type": "code",
   "execution_count": null,
   "id": "20dbddb3-1bbc-47d9-beb6-483ff32ed924",
   "metadata": {},
   "outputs": [],
   "source": []
  },
  {
   "cell_type": "code",
   "execution_count": null,
   "id": "f527f0a9-9c1c-4571-8f35-6a6134bc00c2",
   "metadata": {},
   "outputs": [],
   "source": []
  },
  {
   "cell_type": "markdown",
   "id": "cba70d10-6aa8-49db-a53a-8aeacac55a72",
   "metadata": {},
   "source": [
    "### Dynamic Programming"
   ]
  },
  {
   "cell_type": "code",
   "execution_count": null,
   "id": "cc1b49b1-205e-4d10-8131-92e527bbe194",
   "metadata": {},
   "outputs": [],
   "source": []
  },
  {
   "cell_type": "code",
   "execution_count": null,
   "id": "c0bca546-3fe6-40e5-8a5b-1debfee96712",
   "metadata": {},
   "outputs": [],
   "source": []
  },
  {
   "cell_type": "code",
   "execution_count": null,
   "id": "7afe2c84-6403-4d7c-a245-02443e9bff11",
   "metadata": {},
   "outputs": [],
   "source": []
  },
  {
   "cell_type": "code",
   "execution_count": null,
   "id": "604ae23e-9f49-4eef-85c9-b5e1cb3a817a",
   "metadata": {},
   "outputs": [],
   "source": []
  },
  {
   "cell_type": "code",
   "execution_count": null,
   "id": "f378fb65-4c55-4c1b-8703-599fa50189c2",
   "metadata": {},
   "outputs": [],
   "source": []
  },
  {
   "cell_type": "markdown",
   "id": "51ede707-7f46-4bfe-a027-a7b67211e560",
   "metadata": {},
   "source": [
    "### Travelling Salesman Problem"
   ]
  },
  {
   "cell_type": "code",
   "execution_count": null,
   "id": "ee86c676-0d51-49d3-96bc-dfab08b1cfa0",
   "metadata": {},
   "outputs": [],
   "source": []
  },
  {
   "cell_type": "code",
   "execution_count": null,
   "id": "4942ebd9-0461-4364-9189-e7af9247cee5",
   "metadata": {},
   "outputs": [],
   "source": []
  },
  {
   "cell_type": "code",
   "execution_count": null,
   "id": "14869faf-513e-411e-a3bd-08519b68868a",
   "metadata": {},
   "outputs": [],
   "source": []
  },
  {
   "cell_type": "code",
   "execution_count": null,
   "id": "db39bea5-ccbd-4691-8bdd-a477afe007f8",
   "metadata": {},
   "outputs": [],
   "source": []
  },
  {
   "cell_type": "code",
   "execution_count": null,
   "id": "a12c2d5f-0fb3-486a-8dcd-cf1b8bdd163e",
   "metadata": {},
   "outputs": [],
   "source": []
  },
  {
   "cell_type": "markdown",
   "id": "ebcd2904-b6f9-46a2-80b6-76dadbd34f71",
   "metadata": {},
   "source": [
    "### Exact and Approximate Algorithms "
   ]
  },
  {
   "cell_type": "code",
   "execution_count": null,
   "id": "8225038f-8884-44a5-a7b9-3f4a3bdb6fae",
   "metadata": {},
   "outputs": [],
   "source": []
  },
  {
   "cell_type": "code",
   "execution_count": null,
   "id": "2de800c9-d42c-44b0-a613-caf16fa57fe7",
   "metadata": {},
   "outputs": [],
   "source": []
  },
  {
   "cell_type": "code",
   "execution_count": null,
   "id": "34827497-48b5-4541-9159-34262ad23d86",
   "metadata": {},
   "outputs": [],
   "source": []
  },
  {
   "cell_type": "code",
   "execution_count": null,
   "id": "fc7fbdac-5fa6-444d-b903-a9a10aa07bd1",
   "metadata": {},
   "outputs": [],
   "source": []
  },
  {
   "cell_type": "code",
   "execution_count": null,
   "id": "e73d05a2-dd23-4d6d-80cb-a9409112ae21",
   "metadata": {},
   "outputs": [],
   "source": []
  }
 ],
 "metadata": {
  "kernelspec": {
   "display_name": "Python 3 (ipykernel)",
   "language": "python",
   "name": "python3"
  },
  "language_info": {
   "codemirror_mode": {
    "name": "ipython",
    "version": 3
   },
   "file_extension": ".py",
   "mimetype": "text/x-python",
   "name": "python",
   "nbconvert_exporter": "python",
   "pygments_lexer": "ipython3",
   "version": "3.7.11"
  }
 },
 "nbformat": 4,
 "nbformat_minor": 5
}
